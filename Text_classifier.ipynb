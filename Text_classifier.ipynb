{
  "nbformat": 4,
  "nbformat_minor": 0,
  "metadata": {
    "colab": {
      "provenance": [],
      "include_colab_link": true
    },
    "kernelspec": {
      "name": "python3",
      "display_name": "Python 3"
    },
    "language_info": {
      "name": "python"
    },
    "gpuClass": "standard",
    "widgets": {
      "application/vnd.jupyter.widget-state+json": {
        "cc0cd211527c45c2a0c4edb53d9c8bd8": {
          "model_module": "@jupyter-widgets/controls",
          "model_name": "HBoxModel",
          "model_module_version": "1.5.0",
          "state": {
            "_dom_classes": [],
            "_model_module": "@jupyter-widgets/controls",
            "_model_module_version": "1.5.0",
            "_model_name": "HBoxModel",
            "_view_count": null,
            "_view_module": "@jupyter-widgets/controls",
            "_view_module_version": "1.5.0",
            "_view_name": "HBoxView",
            "box_style": "",
            "children": [
              "IPY_MODEL_f00bb35cf905482fab2d755c61d8e5e7",
              "IPY_MODEL_db8c4cbb9d3c4dfb9088acf36e670777",
              "IPY_MODEL_a752ae2215d9495d96676631da229d3b"
            ],
            "layout": "IPY_MODEL_6595508c98c1493684e39a84c15da835"
          }
        },
        "f00bb35cf905482fab2d755c61d8e5e7": {
          "model_module": "@jupyter-widgets/controls",
          "model_name": "HTMLModel",
          "model_module_version": "1.5.0",
          "state": {
            "_dom_classes": [],
            "_model_module": "@jupyter-widgets/controls",
            "_model_module_version": "1.5.0",
            "_model_name": "HTMLModel",
            "_view_count": null,
            "_view_module": "@jupyter-widgets/controls",
            "_view_module_version": "1.5.0",
            "_view_name": "HTMLView",
            "description": "",
            "description_tooltip": null,
            "layout": "IPY_MODEL_18b63e0338ea44e4bb9ed9d0c64c5b28",
            "placeholder": "​",
            "style": "IPY_MODEL_e504660be0f745d9aa1b47e69ab60daa",
            "value": "tokenizer_config.json: 100%"
          }
        },
        "db8c4cbb9d3c4dfb9088acf36e670777": {
          "model_module": "@jupyter-widgets/controls",
          "model_name": "FloatProgressModel",
          "model_module_version": "1.5.0",
          "state": {
            "_dom_classes": [],
            "_model_module": "@jupyter-widgets/controls",
            "_model_module_version": "1.5.0",
            "_model_name": "FloatProgressModel",
            "_view_count": null,
            "_view_module": "@jupyter-widgets/controls",
            "_view_module_version": "1.5.0",
            "_view_name": "ProgressView",
            "bar_style": "success",
            "description": "",
            "description_tooltip": null,
            "layout": "IPY_MODEL_bfcb8a02a0914f2faa33d7c9d52b5862",
            "max": 48,
            "min": 0,
            "orientation": "horizontal",
            "style": "IPY_MODEL_a70a65935e06499eb99369b77c40670b",
            "value": 48
          }
        },
        "a752ae2215d9495d96676631da229d3b": {
          "model_module": "@jupyter-widgets/controls",
          "model_name": "HTMLModel",
          "model_module_version": "1.5.0",
          "state": {
            "_dom_classes": [],
            "_model_module": "@jupyter-widgets/controls",
            "_model_module_version": "1.5.0",
            "_model_name": "HTMLModel",
            "_view_count": null,
            "_view_module": "@jupyter-widgets/controls",
            "_view_module_version": "1.5.0",
            "_view_name": "HTMLView",
            "description": "",
            "description_tooltip": null,
            "layout": "IPY_MODEL_f194412b45cc4fb6ab1ee68b78ecd8c1",
            "placeholder": "​",
            "style": "IPY_MODEL_6dba4829919f4574bd4c2d6308ecb62f",
            "value": " 48.0/48.0 [00:00&lt;00:00, 893B/s]"
          }
        },
        "6595508c98c1493684e39a84c15da835": {
          "model_module": "@jupyter-widgets/base",
          "model_name": "LayoutModel",
          "model_module_version": "1.2.0",
          "state": {
            "_model_module": "@jupyter-widgets/base",
            "_model_module_version": "1.2.0",
            "_model_name": "LayoutModel",
            "_view_count": null,
            "_view_module": "@jupyter-widgets/base",
            "_view_module_version": "1.2.0",
            "_view_name": "LayoutView",
            "align_content": null,
            "align_items": null,
            "align_self": null,
            "border": null,
            "bottom": null,
            "display": null,
            "flex": null,
            "flex_flow": null,
            "grid_area": null,
            "grid_auto_columns": null,
            "grid_auto_flow": null,
            "grid_auto_rows": null,
            "grid_column": null,
            "grid_gap": null,
            "grid_row": null,
            "grid_template_areas": null,
            "grid_template_columns": null,
            "grid_template_rows": null,
            "height": null,
            "justify_content": null,
            "justify_items": null,
            "left": null,
            "margin": null,
            "max_height": null,
            "max_width": null,
            "min_height": null,
            "min_width": null,
            "object_fit": null,
            "object_position": null,
            "order": null,
            "overflow": null,
            "overflow_x": null,
            "overflow_y": null,
            "padding": null,
            "right": null,
            "top": null,
            "visibility": null,
            "width": null
          }
        },
        "18b63e0338ea44e4bb9ed9d0c64c5b28": {
          "model_module": "@jupyter-widgets/base",
          "model_name": "LayoutModel",
          "model_module_version": "1.2.0",
          "state": {
            "_model_module": "@jupyter-widgets/base",
            "_model_module_version": "1.2.0",
            "_model_name": "LayoutModel",
            "_view_count": null,
            "_view_module": "@jupyter-widgets/base",
            "_view_module_version": "1.2.0",
            "_view_name": "LayoutView",
            "align_content": null,
            "align_items": null,
            "align_self": null,
            "border": null,
            "bottom": null,
            "display": null,
            "flex": null,
            "flex_flow": null,
            "grid_area": null,
            "grid_auto_columns": null,
            "grid_auto_flow": null,
            "grid_auto_rows": null,
            "grid_column": null,
            "grid_gap": null,
            "grid_row": null,
            "grid_template_areas": null,
            "grid_template_columns": null,
            "grid_template_rows": null,
            "height": null,
            "justify_content": null,
            "justify_items": null,
            "left": null,
            "margin": null,
            "max_height": null,
            "max_width": null,
            "min_height": null,
            "min_width": null,
            "object_fit": null,
            "object_position": null,
            "order": null,
            "overflow": null,
            "overflow_x": null,
            "overflow_y": null,
            "padding": null,
            "right": null,
            "top": null,
            "visibility": null,
            "width": null
          }
        },
        "e504660be0f745d9aa1b47e69ab60daa": {
          "model_module": "@jupyter-widgets/controls",
          "model_name": "DescriptionStyleModel",
          "model_module_version": "1.5.0",
          "state": {
            "_model_module": "@jupyter-widgets/controls",
            "_model_module_version": "1.5.0",
            "_model_name": "DescriptionStyleModel",
            "_view_count": null,
            "_view_module": "@jupyter-widgets/base",
            "_view_module_version": "1.2.0",
            "_view_name": "StyleView",
            "description_width": ""
          }
        },
        "bfcb8a02a0914f2faa33d7c9d52b5862": {
          "model_module": "@jupyter-widgets/base",
          "model_name": "LayoutModel",
          "model_module_version": "1.2.0",
          "state": {
            "_model_module": "@jupyter-widgets/base",
            "_model_module_version": "1.2.0",
            "_model_name": "LayoutModel",
            "_view_count": null,
            "_view_module": "@jupyter-widgets/base",
            "_view_module_version": "1.2.0",
            "_view_name": "LayoutView",
            "align_content": null,
            "align_items": null,
            "align_self": null,
            "border": null,
            "bottom": null,
            "display": null,
            "flex": null,
            "flex_flow": null,
            "grid_area": null,
            "grid_auto_columns": null,
            "grid_auto_flow": null,
            "grid_auto_rows": null,
            "grid_column": null,
            "grid_gap": null,
            "grid_row": null,
            "grid_template_areas": null,
            "grid_template_columns": null,
            "grid_template_rows": null,
            "height": null,
            "justify_content": null,
            "justify_items": null,
            "left": null,
            "margin": null,
            "max_height": null,
            "max_width": null,
            "min_height": null,
            "min_width": null,
            "object_fit": null,
            "object_position": null,
            "order": null,
            "overflow": null,
            "overflow_x": null,
            "overflow_y": null,
            "padding": null,
            "right": null,
            "top": null,
            "visibility": null,
            "width": null
          }
        },
        "a70a65935e06499eb99369b77c40670b": {
          "model_module": "@jupyter-widgets/controls",
          "model_name": "ProgressStyleModel",
          "model_module_version": "1.5.0",
          "state": {
            "_model_module": "@jupyter-widgets/controls",
            "_model_module_version": "1.5.0",
            "_model_name": "ProgressStyleModel",
            "_view_count": null,
            "_view_module": "@jupyter-widgets/base",
            "_view_module_version": "1.2.0",
            "_view_name": "StyleView",
            "bar_color": null,
            "description_width": ""
          }
        },
        "f194412b45cc4fb6ab1ee68b78ecd8c1": {
          "model_module": "@jupyter-widgets/base",
          "model_name": "LayoutModel",
          "model_module_version": "1.2.0",
          "state": {
            "_model_module": "@jupyter-widgets/base",
            "_model_module_version": "1.2.0",
            "_model_name": "LayoutModel",
            "_view_count": null,
            "_view_module": "@jupyter-widgets/base",
            "_view_module_version": "1.2.0",
            "_view_name": "LayoutView",
            "align_content": null,
            "align_items": null,
            "align_self": null,
            "border": null,
            "bottom": null,
            "display": null,
            "flex": null,
            "flex_flow": null,
            "grid_area": null,
            "grid_auto_columns": null,
            "grid_auto_flow": null,
            "grid_auto_rows": null,
            "grid_column": null,
            "grid_gap": null,
            "grid_row": null,
            "grid_template_areas": null,
            "grid_template_columns": null,
            "grid_template_rows": null,
            "height": null,
            "justify_content": null,
            "justify_items": null,
            "left": null,
            "margin": null,
            "max_height": null,
            "max_width": null,
            "min_height": null,
            "min_width": null,
            "object_fit": null,
            "object_position": null,
            "order": null,
            "overflow": null,
            "overflow_x": null,
            "overflow_y": null,
            "padding": null,
            "right": null,
            "top": null,
            "visibility": null,
            "width": null
          }
        },
        "6dba4829919f4574bd4c2d6308ecb62f": {
          "model_module": "@jupyter-widgets/controls",
          "model_name": "DescriptionStyleModel",
          "model_module_version": "1.5.0",
          "state": {
            "_model_module": "@jupyter-widgets/controls",
            "_model_module_version": "1.5.0",
            "_model_name": "DescriptionStyleModel",
            "_view_count": null,
            "_view_module": "@jupyter-widgets/base",
            "_view_module_version": "1.2.0",
            "_view_name": "StyleView",
            "description_width": ""
          }
        },
        "eaf41a1464684693abd2a995716f3ba9": {
          "model_module": "@jupyter-widgets/controls",
          "model_name": "HBoxModel",
          "model_module_version": "1.5.0",
          "state": {
            "_dom_classes": [],
            "_model_module": "@jupyter-widgets/controls",
            "_model_module_version": "1.5.0",
            "_model_name": "HBoxModel",
            "_view_count": null,
            "_view_module": "@jupyter-widgets/controls",
            "_view_module_version": "1.5.0",
            "_view_name": "HBoxView",
            "box_style": "",
            "children": [
              "IPY_MODEL_9cd29d921f1240aa929564c6f4bd5015",
              "IPY_MODEL_56459e491e6647eebce5225f1b1e5eec",
              "IPY_MODEL_0168b53d116546cf8d3ccf015691a758"
            ],
            "layout": "IPY_MODEL_5e0f1036184040cd83ce1aec962c449c"
          }
        },
        "9cd29d921f1240aa929564c6f4bd5015": {
          "model_module": "@jupyter-widgets/controls",
          "model_name": "HTMLModel",
          "model_module_version": "1.5.0",
          "state": {
            "_dom_classes": [],
            "_model_module": "@jupyter-widgets/controls",
            "_model_module_version": "1.5.0",
            "_model_name": "HTMLModel",
            "_view_count": null,
            "_view_module": "@jupyter-widgets/controls",
            "_view_module_version": "1.5.0",
            "_view_name": "HTMLView",
            "description": "",
            "description_tooltip": null,
            "layout": "IPY_MODEL_07314acaaac54f62af717aadd6542b3c",
            "placeholder": "​",
            "style": "IPY_MODEL_a51a8fb804e943278d9f51b1652c3f47",
            "value": "config.json: 100%"
          }
        },
        "56459e491e6647eebce5225f1b1e5eec": {
          "model_module": "@jupyter-widgets/controls",
          "model_name": "FloatProgressModel",
          "model_module_version": "1.5.0",
          "state": {
            "_dom_classes": [],
            "_model_module": "@jupyter-widgets/controls",
            "_model_module_version": "1.5.0",
            "_model_name": "FloatProgressModel",
            "_view_count": null,
            "_view_module": "@jupyter-widgets/controls",
            "_view_module_version": "1.5.0",
            "_view_name": "ProgressView",
            "bar_style": "success",
            "description": "",
            "description_tooltip": null,
            "layout": "IPY_MODEL_9dbf7f8dcb704b34917cb05319757fd6",
            "max": 483,
            "min": 0,
            "orientation": "horizontal",
            "style": "IPY_MODEL_5cc8a5c90fef48419974fe9646e7d1f3",
            "value": 483
          }
        },
        "0168b53d116546cf8d3ccf015691a758": {
          "model_module": "@jupyter-widgets/controls",
          "model_name": "HTMLModel",
          "model_module_version": "1.5.0",
          "state": {
            "_dom_classes": [],
            "_model_module": "@jupyter-widgets/controls",
            "_model_module_version": "1.5.0",
            "_model_name": "HTMLModel",
            "_view_count": null,
            "_view_module": "@jupyter-widgets/controls",
            "_view_module_version": "1.5.0",
            "_view_name": "HTMLView",
            "description": "",
            "description_tooltip": null,
            "layout": "IPY_MODEL_76cf38e5a7634572b9402d101c11d19f",
            "placeholder": "​",
            "style": "IPY_MODEL_5ea425a192b747819e57356445f9c91e",
            "value": " 483/483 [00:00&lt;00:00, 20.5kB/s]"
          }
        },
        "5e0f1036184040cd83ce1aec962c449c": {
          "model_module": "@jupyter-widgets/base",
          "model_name": "LayoutModel",
          "model_module_version": "1.2.0",
          "state": {
            "_model_module": "@jupyter-widgets/base",
            "_model_module_version": "1.2.0",
            "_model_name": "LayoutModel",
            "_view_count": null,
            "_view_module": "@jupyter-widgets/base",
            "_view_module_version": "1.2.0",
            "_view_name": "LayoutView",
            "align_content": null,
            "align_items": null,
            "align_self": null,
            "border": null,
            "bottom": null,
            "display": null,
            "flex": null,
            "flex_flow": null,
            "grid_area": null,
            "grid_auto_columns": null,
            "grid_auto_flow": null,
            "grid_auto_rows": null,
            "grid_column": null,
            "grid_gap": null,
            "grid_row": null,
            "grid_template_areas": null,
            "grid_template_columns": null,
            "grid_template_rows": null,
            "height": null,
            "justify_content": null,
            "justify_items": null,
            "left": null,
            "margin": null,
            "max_height": null,
            "max_width": null,
            "min_height": null,
            "min_width": null,
            "object_fit": null,
            "object_position": null,
            "order": null,
            "overflow": null,
            "overflow_x": null,
            "overflow_y": null,
            "padding": null,
            "right": null,
            "top": null,
            "visibility": null,
            "width": null
          }
        },
        "07314acaaac54f62af717aadd6542b3c": {
          "model_module": "@jupyter-widgets/base",
          "model_name": "LayoutModel",
          "model_module_version": "1.2.0",
          "state": {
            "_model_module": "@jupyter-widgets/base",
            "_model_module_version": "1.2.0",
            "_model_name": "LayoutModel",
            "_view_count": null,
            "_view_module": "@jupyter-widgets/base",
            "_view_module_version": "1.2.0",
            "_view_name": "LayoutView",
            "align_content": null,
            "align_items": null,
            "align_self": null,
            "border": null,
            "bottom": null,
            "display": null,
            "flex": null,
            "flex_flow": null,
            "grid_area": null,
            "grid_auto_columns": null,
            "grid_auto_flow": null,
            "grid_auto_rows": null,
            "grid_column": null,
            "grid_gap": null,
            "grid_row": null,
            "grid_template_areas": null,
            "grid_template_columns": null,
            "grid_template_rows": null,
            "height": null,
            "justify_content": null,
            "justify_items": null,
            "left": null,
            "margin": null,
            "max_height": null,
            "max_width": null,
            "min_height": null,
            "min_width": null,
            "object_fit": null,
            "object_position": null,
            "order": null,
            "overflow": null,
            "overflow_x": null,
            "overflow_y": null,
            "padding": null,
            "right": null,
            "top": null,
            "visibility": null,
            "width": null
          }
        },
        "a51a8fb804e943278d9f51b1652c3f47": {
          "model_module": "@jupyter-widgets/controls",
          "model_name": "DescriptionStyleModel",
          "model_module_version": "1.5.0",
          "state": {
            "_model_module": "@jupyter-widgets/controls",
            "_model_module_version": "1.5.0",
            "_model_name": "DescriptionStyleModel",
            "_view_count": null,
            "_view_module": "@jupyter-widgets/base",
            "_view_module_version": "1.2.0",
            "_view_name": "StyleView",
            "description_width": ""
          }
        },
        "9dbf7f8dcb704b34917cb05319757fd6": {
          "model_module": "@jupyter-widgets/base",
          "model_name": "LayoutModel",
          "model_module_version": "1.2.0",
          "state": {
            "_model_module": "@jupyter-widgets/base",
            "_model_module_version": "1.2.0",
            "_model_name": "LayoutModel",
            "_view_count": null,
            "_view_module": "@jupyter-widgets/base",
            "_view_module_version": "1.2.0",
            "_view_name": "LayoutView",
            "align_content": null,
            "align_items": null,
            "align_self": null,
            "border": null,
            "bottom": null,
            "display": null,
            "flex": null,
            "flex_flow": null,
            "grid_area": null,
            "grid_auto_columns": null,
            "grid_auto_flow": null,
            "grid_auto_rows": null,
            "grid_column": null,
            "grid_gap": null,
            "grid_row": null,
            "grid_template_areas": null,
            "grid_template_columns": null,
            "grid_template_rows": null,
            "height": null,
            "justify_content": null,
            "justify_items": null,
            "left": null,
            "margin": null,
            "max_height": null,
            "max_width": null,
            "min_height": null,
            "min_width": null,
            "object_fit": null,
            "object_position": null,
            "order": null,
            "overflow": null,
            "overflow_x": null,
            "overflow_y": null,
            "padding": null,
            "right": null,
            "top": null,
            "visibility": null,
            "width": null
          }
        },
        "5cc8a5c90fef48419974fe9646e7d1f3": {
          "model_module": "@jupyter-widgets/controls",
          "model_name": "ProgressStyleModel",
          "model_module_version": "1.5.0",
          "state": {
            "_model_module": "@jupyter-widgets/controls",
            "_model_module_version": "1.5.0",
            "_model_name": "ProgressStyleModel",
            "_view_count": null,
            "_view_module": "@jupyter-widgets/base",
            "_view_module_version": "1.2.0",
            "_view_name": "StyleView",
            "bar_color": null,
            "description_width": ""
          }
        },
        "76cf38e5a7634572b9402d101c11d19f": {
          "model_module": "@jupyter-widgets/base",
          "model_name": "LayoutModel",
          "model_module_version": "1.2.0",
          "state": {
            "_model_module": "@jupyter-widgets/base",
            "_model_module_version": "1.2.0",
            "_model_name": "LayoutModel",
            "_view_count": null,
            "_view_module": "@jupyter-widgets/base",
            "_view_module_version": "1.2.0",
            "_view_name": "LayoutView",
            "align_content": null,
            "align_items": null,
            "align_self": null,
            "border": null,
            "bottom": null,
            "display": null,
            "flex": null,
            "flex_flow": null,
            "grid_area": null,
            "grid_auto_columns": null,
            "grid_auto_flow": null,
            "grid_auto_rows": null,
            "grid_column": null,
            "grid_gap": null,
            "grid_row": null,
            "grid_template_areas": null,
            "grid_template_columns": null,
            "grid_template_rows": null,
            "height": null,
            "justify_content": null,
            "justify_items": null,
            "left": null,
            "margin": null,
            "max_height": null,
            "max_width": null,
            "min_height": null,
            "min_width": null,
            "object_fit": null,
            "object_position": null,
            "order": null,
            "overflow": null,
            "overflow_x": null,
            "overflow_y": null,
            "padding": null,
            "right": null,
            "top": null,
            "visibility": null,
            "width": null
          }
        },
        "5ea425a192b747819e57356445f9c91e": {
          "model_module": "@jupyter-widgets/controls",
          "model_name": "DescriptionStyleModel",
          "model_module_version": "1.5.0",
          "state": {
            "_model_module": "@jupyter-widgets/controls",
            "_model_module_version": "1.5.0",
            "_model_name": "DescriptionStyleModel",
            "_view_count": null,
            "_view_module": "@jupyter-widgets/base",
            "_view_module_version": "1.2.0",
            "_view_name": "StyleView",
            "description_width": ""
          }
        },
        "0d1dddf4ec384839a895f0d52c9be468": {
          "model_module": "@jupyter-widgets/controls",
          "model_name": "HBoxModel",
          "model_module_version": "1.5.0",
          "state": {
            "_dom_classes": [],
            "_model_module": "@jupyter-widgets/controls",
            "_model_module_version": "1.5.0",
            "_model_name": "HBoxModel",
            "_view_count": null,
            "_view_module": "@jupyter-widgets/controls",
            "_view_module_version": "1.5.0",
            "_view_name": "HBoxView",
            "box_style": "",
            "children": [
              "IPY_MODEL_f8bfd8940c4b473faa963e294fdb1308",
              "IPY_MODEL_2319d470d37b46a4a92a1eacb0e42ed1",
              "IPY_MODEL_042a1c3365324a4e8215197dca22ef16"
            ],
            "layout": "IPY_MODEL_43565a0e30164f79b3444e0d17ab880f"
          }
        },
        "f8bfd8940c4b473faa963e294fdb1308": {
          "model_module": "@jupyter-widgets/controls",
          "model_name": "HTMLModel",
          "model_module_version": "1.5.0",
          "state": {
            "_dom_classes": [],
            "_model_module": "@jupyter-widgets/controls",
            "_model_module_version": "1.5.0",
            "_model_name": "HTMLModel",
            "_view_count": null,
            "_view_module": "@jupyter-widgets/controls",
            "_view_module_version": "1.5.0",
            "_view_name": "HTMLView",
            "description": "",
            "description_tooltip": null,
            "layout": "IPY_MODEL_515a0a965a1f4e169c5d9193599aa30d",
            "placeholder": "​",
            "style": "IPY_MODEL_e6f689deacb1433fb740afe381fc0739",
            "value": "vocab.txt: 100%"
          }
        },
        "2319d470d37b46a4a92a1eacb0e42ed1": {
          "model_module": "@jupyter-widgets/controls",
          "model_name": "FloatProgressModel",
          "model_module_version": "1.5.0",
          "state": {
            "_dom_classes": [],
            "_model_module": "@jupyter-widgets/controls",
            "_model_module_version": "1.5.0",
            "_model_name": "FloatProgressModel",
            "_view_count": null,
            "_view_module": "@jupyter-widgets/controls",
            "_view_module_version": "1.5.0",
            "_view_name": "ProgressView",
            "bar_style": "success",
            "description": "",
            "description_tooltip": null,
            "layout": "IPY_MODEL_273fe237d9d943daa7874b6b67cd0daf",
            "max": 231508,
            "min": 0,
            "orientation": "horizontal",
            "style": "IPY_MODEL_023e80acfbbb49d2825eadeda634f4e1",
            "value": 231508
          }
        },
        "042a1c3365324a4e8215197dca22ef16": {
          "model_module": "@jupyter-widgets/controls",
          "model_name": "HTMLModel",
          "model_module_version": "1.5.0",
          "state": {
            "_dom_classes": [],
            "_model_module": "@jupyter-widgets/controls",
            "_model_module_version": "1.5.0",
            "_model_name": "HTMLModel",
            "_view_count": null,
            "_view_module": "@jupyter-widgets/controls",
            "_view_module_version": "1.5.0",
            "_view_name": "HTMLView",
            "description": "",
            "description_tooltip": null,
            "layout": "IPY_MODEL_f444947841b34de58b660ffc6f34a5d4",
            "placeholder": "​",
            "style": "IPY_MODEL_e92f53584cea494aaa92c67816fa86fa",
            "value": " 232k/232k [00:00&lt;00:00, 8.76MB/s]"
          }
        },
        "43565a0e30164f79b3444e0d17ab880f": {
          "model_module": "@jupyter-widgets/base",
          "model_name": "LayoutModel",
          "model_module_version": "1.2.0",
          "state": {
            "_model_module": "@jupyter-widgets/base",
            "_model_module_version": "1.2.0",
            "_model_name": "LayoutModel",
            "_view_count": null,
            "_view_module": "@jupyter-widgets/base",
            "_view_module_version": "1.2.0",
            "_view_name": "LayoutView",
            "align_content": null,
            "align_items": null,
            "align_self": null,
            "border": null,
            "bottom": null,
            "display": null,
            "flex": null,
            "flex_flow": null,
            "grid_area": null,
            "grid_auto_columns": null,
            "grid_auto_flow": null,
            "grid_auto_rows": null,
            "grid_column": null,
            "grid_gap": null,
            "grid_row": null,
            "grid_template_areas": null,
            "grid_template_columns": null,
            "grid_template_rows": null,
            "height": null,
            "justify_content": null,
            "justify_items": null,
            "left": null,
            "margin": null,
            "max_height": null,
            "max_width": null,
            "min_height": null,
            "min_width": null,
            "object_fit": null,
            "object_position": null,
            "order": null,
            "overflow": null,
            "overflow_x": null,
            "overflow_y": null,
            "padding": null,
            "right": null,
            "top": null,
            "visibility": null,
            "width": null
          }
        },
        "515a0a965a1f4e169c5d9193599aa30d": {
          "model_module": "@jupyter-widgets/base",
          "model_name": "LayoutModel",
          "model_module_version": "1.2.0",
          "state": {
            "_model_module": "@jupyter-widgets/base",
            "_model_module_version": "1.2.0",
            "_model_name": "LayoutModel",
            "_view_count": null,
            "_view_module": "@jupyter-widgets/base",
            "_view_module_version": "1.2.0",
            "_view_name": "LayoutView",
            "align_content": null,
            "align_items": null,
            "align_self": null,
            "border": null,
            "bottom": null,
            "display": null,
            "flex": null,
            "flex_flow": null,
            "grid_area": null,
            "grid_auto_columns": null,
            "grid_auto_flow": null,
            "grid_auto_rows": null,
            "grid_column": null,
            "grid_gap": null,
            "grid_row": null,
            "grid_template_areas": null,
            "grid_template_columns": null,
            "grid_template_rows": null,
            "height": null,
            "justify_content": null,
            "justify_items": null,
            "left": null,
            "margin": null,
            "max_height": null,
            "max_width": null,
            "min_height": null,
            "min_width": null,
            "object_fit": null,
            "object_position": null,
            "order": null,
            "overflow": null,
            "overflow_x": null,
            "overflow_y": null,
            "padding": null,
            "right": null,
            "top": null,
            "visibility": null,
            "width": null
          }
        },
        "e6f689deacb1433fb740afe381fc0739": {
          "model_module": "@jupyter-widgets/controls",
          "model_name": "DescriptionStyleModel",
          "model_module_version": "1.5.0",
          "state": {
            "_model_module": "@jupyter-widgets/controls",
            "_model_module_version": "1.5.0",
            "_model_name": "DescriptionStyleModel",
            "_view_count": null,
            "_view_module": "@jupyter-widgets/base",
            "_view_module_version": "1.2.0",
            "_view_name": "StyleView",
            "description_width": ""
          }
        },
        "273fe237d9d943daa7874b6b67cd0daf": {
          "model_module": "@jupyter-widgets/base",
          "model_name": "LayoutModel",
          "model_module_version": "1.2.0",
          "state": {
            "_model_module": "@jupyter-widgets/base",
            "_model_module_version": "1.2.0",
            "_model_name": "LayoutModel",
            "_view_count": null,
            "_view_module": "@jupyter-widgets/base",
            "_view_module_version": "1.2.0",
            "_view_name": "LayoutView",
            "align_content": null,
            "align_items": null,
            "align_self": null,
            "border": null,
            "bottom": null,
            "display": null,
            "flex": null,
            "flex_flow": null,
            "grid_area": null,
            "grid_auto_columns": null,
            "grid_auto_flow": null,
            "grid_auto_rows": null,
            "grid_column": null,
            "grid_gap": null,
            "grid_row": null,
            "grid_template_areas": null,
            "grid_template_columns": null,
            "grid_template_rows": null,
            "height": null,
            "justify_content": null,
            "justify_items": null,
            "left": null,
            "margin": null,
            "max_height": null,
            "max_width": null,
            "min_height": null,
            "min_width": null,
            "object_fit": null,
            "object_position": null,
            "order": null,
            "overflow": null,
            "overflow_x": null,
            "overflow_y": null,
            "padding": null,
            "right": null,
            "top": null,
            "visibility": null,
            "width": null
          }
        },
        "023e80acfbbb49d2825eadeda634f4e1": {
          "model_module": "@jupyter-widgets/controls",
          "model_name": "ProgressStyleModel",
          "model_module_version": "1.5.0",
          "state": {
            "_model_module": "@jupyter-widgets/controls",
            "_model_module_version": "1.5.0",
            "_model_name": "ProgressStyleModel",
            "_view_count": null,
            "_view_module": "@jupyter-widgets/base",
            "_view_module_version": "1.2.0",
            "_view_name": "StyleView",
            "bar_color": null,
            "description_width": ""
          }
        },
        "f444947841b34de58b660ffc6f34a5d4": {
          "model_module": "@jupyter-widgets/base",
          "model_name": "LayoutModel",
          "model_module_version": "1.2.0",
          "state": {
            "_model_module": "@jupyter-widgets/base",
            "_model_module_version": "1.2.0",
            "_model_name": "LayoutModel",
            "_view_count": null,
            "_view_module": "@jupyter-widgets/base",
            "_view_module_version": "1.2.0",
            "_view_name": "LayoutView",
            "align_content": null,
            "align_items": null,
            "align_self": null,
            "border": null,
            "bottom": null,
            "display": null,
            "flex": null,
            "flex_flow": null,
            "grid_area": null,
            "grid_auto_columns": null,
            "grid_auto_flow": null,
            "grid_auto_rows": null,
            "grid_column": null,
            "grid_gap": null,
            "grid_row": null,
            "grid_template_areas": null,
            "grid_template_columns": null,
            "grid_template_rows": null,
            "height": null,
            "justify_content": null,
            "justify_items": null,
            "left": null,
            "margin": null,
            "max_height": null,
            "max_width": null,
            "min_height": null,
            "min_width": null,
            "object_fit": null,
            "object_position": null,
            "order": null,
            "overflow": null,
            "overflow_x": null,
            "overflow_y": null,
            "padding": null,
            "right": null,
            "top": null,
            "visibility": null,
            "width": null
          }
        },
        "e92f53584cea494aaa92c67816fa86fa": {
          "model_module": "@jupyter-widgets/controls",
          "model_name": "DescriptionStyleModel",
          "model_module_version": "1.5.0",
          "state": {
            "_model_module": "@jupyter-widgets/controls",
            "_model_module_version": "1.5.0",
            "_model_name": "DescriptionStyleModel",
            "_view_count": null,
            "_view_module": "@jupyter-widgets/base",
            "_view_module_version": "1.2.0",
            "_view_name": "StyleView",
            "description_width": ""
          }
        },
        "d34d54a9738c4e4c9225cd1bbcb7394d": {
          "model_module": "@jupyter-widgets/controls",
          "model_name": "HBoxModel",
          "model_module_version": "1.5.0",
          "state": {
            "_dom_classes": [],
            "_model_module": "@jupyter-widgets/controls",
            "_model_module_version": "1.5.0",
            "_model_name": "HBoxModel",
            "_view_count": null,
            "_view_module": "@jupyter-widgets/controls",
            "_view_module_version": "1.5.0",
            "_view_name": "HBoxView",
            "box_style": "",
            "children": [
              "IPY_MODEL_fb9f81059beb42ca9a032a4e34557256",
              "IPY_MODEL_74a92b4eb3e7416aa5fbac8183ece8dc",
              "IPY_MODEL_21f18593cc8c4a62a17aea6403126faa"
            ],
            "layout": "IPY_MODEL_81d09f9b677244169b0e76244f256221"
          }
        },
        "fb9f81059beb42ca9a032a4e34557256": {
          "model_module": "@jupyter-widgets/controls",
          "model_name": "HTMLModel",
          "model_module_version": "1.5.0",
          "state": {
            "_dom_classes": [],
            "_model_module": "@jupyter-widgets/controls",
            "_model_module_version": "1.5.0",
            "_model_name": "HTMLModel",
            "_view_count": null,
            "_view_module": "@jupyter-widgets/controls",
            "_view_module_version": "1.5.0",
            "_view_name": "HTMLView",
            "description": "",
            "description_tooltip": null,
            "layout": "IPY_MODEL_44796b96ce6f45248c7f6da59d4ab5a3",
            "placeholder": "​",
            "style": "IPY_MODEL_8351a641844f43aaba801a6350b1052e",
            "value": "tokenizer.json: 100%"
          }
        },
        "74a92b4eb3e7416aa5fbac8183ece8dc": {
          "model_module": "@jupyter-widgets/controls",
          "model_name": "FloatProgressModel",
          "model_module_version": "1.5.0",
          "state": {
            "_dom_classes": [],
            "_model_module": "@jupyter-widgets/controls",
            "_model_module_version": "1.5.0",
            "_model_name": "FloatProgressModel",
            "_view_count": null,
            "_view_module": "@jupyter-widgets/controls",
            "_view_module_version": "1.5.0",
            "_view_name": "ProgressView",
            "bar_style": "success",
            "description": "",
            "description_tooltip": null,
            "layout": "IPY_MODEL_9fd8b651f4aa410e963b14631b16e249",
            "max": 466062,
            "min": 0,
            "orientation": "horizontal",
            "style": "IPY_MODEL_fb202ee1b4bb483c94f6ecec2c481bfd",
            "value": 466062
          }
        },
        "21f18593cc8c4a62a17aea6403126faa": {
          "model_module": "@jupyter-widgets/controls",
          "model_name": "HTMLModel",
          "model_module_version": "1.5.0",
          "state": {
            "_dom_classes": [],
            "_model_module": "@jupyter-widgets/controls",
            "_model_module_version": "1.5.0",
            "_model_name": "HTMLModel",
            "_view_count": null,
            "_view_module": "@jupyter-widgets/controls",
            "_view_module_version": "1.5.0",
            "_view_name": "HTMLView",
            "description": "",
            "description_tooltip": null,
            "layout": "IPY_MODEL_f20f5f7484af4126a14030089c63bf1b",
            "placeholder": "​",
            "style": "IPY_MODEL_0e5e8642488c4ce28213be6a8a68d9ec",
            "value": " 466k/466k [00:00&lt;00:00, 1.07MB/s]"
          }
        },
        "81d09f9b677244169b0e76244f256221": {
          "model_module": "@jupyter-widgets/base",
          "model_name": "LayoutModel",
          "model_module_version": "1.2.0",
          "state": {
            "_model_module": "@jupyter-widgets/base",
            "_model_module_version": "1.2.0",
            "_model_name": "LayoutModel",
            "_view_count": null,
            "_view_module": "@jupyter-widgets/base",
            "_view_module_version": "1.2.0",
            "_view_name": "LayoutView",
            "align_content": null,
            "align_items": null,
            "align_self": null,
            "border": null,
            "bottom": null,
            "display": null,
            "flex": null,
            "flex_flow": null,
            "grid_area": null,
            "grid_auto_columns": null,
            "grid_auto_flow": null,
            "grid_auto_rows": null,
            "grid_column": null,
            "grid_gap": null,
            "grid_row": null,
            "grid_template_areas": null,
            "grid_template_columns": null,
            "grid_template_rows": null,
            "height": null,
            "justify_content": null,
            "justify_items": null,
            "left": null,
            "margin": null,
            "max_height": null,
            "max_width": null,
            "min_height": null,
            "min_width": null,
            "object_fit": null,
            "object_position": null,
            "order": null,
            "overflow": null,
            "overflow_x": null,
            "overflow_y": null,
            "padding": null,
            "right": null,
            "top": null,
            "visibility": null,
            "width": null
          }
        },
        "44796b96ce6f45248c7f6da59d4ab5a3": {
          "model_module": "@jupyter-widgets/base",
          "model_name": "LayoutModel",
          "model_module_version": "1.2.0",
          "state": {
            "_model_module": "@jupyter-widgets/base",
            "_model_module_version": "1.2.0",
            "_model_name": "LayoutModel",
            "_view_count": null,
            "_view_module": "@jupyter-widgets/base",
            "_view_module_version": "1.2.0",
            "_view_name": "LayoutView",
            "align_content": null,
            "align_items": null,
            "align_self": null,
            "border": null,
            "bottom": null,
            "display": null,
            "flex": null,
            "flex_flow": null,
            "grid_area": null,
            "grid_auto_columns": null,
            "grid_auto_flow": null,
            "grid_auto_rows": null,
            "grid_column": null,
            "grid_gap": null,
            "grid_row": null,
            "grid_template_areas": null,
            "grid_template_columns": null,
            "grid_template_rows": null,
            "height": null,
            "justify_content": null,
            "justify_items": null,
            "left": null,
            "margin": null,
            "max_height": null,
            "max_width": null,
            "min_height": null,
            "min_width": null,
            "object_fit": null,
            "object_position": null,
            "order": null,
            "overflow": null,
            "overflow_x": null,
            "overflow_y": null,
            "padding": null,
            "right": null,
            "top": null,
            "visibility": null,
            "width": null
          }
        },
        "8351a641844f43aaba801a6350b1052e": {
          "model_module": "@jupyter-widgets/controls",
          "model_name": "DescriptionStyleModel",
          "model_module_version": "1.5.0",
          "state": {
            "_model_module": "@jupyter-widgets/controls",
            "_model_module_version": "1.5.0",
            "_model_name": "DescriptionStyleModel",
            "_view_count": null,
            "_view_module": "@jupyter-widgets/base",
            "_view_module_version": "1.2.0",
            "_view_name": "StyleView",
            "description_width": ""
          }
        },
        "9fd8b651f4aa410e963b14631b16e249": {
          "model_module": "@jupyter-widgets/base",
          "model_name": "LayoutModel",
          "model_module_version": "1.2.0",
          "state": {
            "_model_module": "@jupyter-widgets/base",
            "_model_module_version": "1.2.0",
            "_model_name": "LayoutModel",
            "_view_count": null,
            "_view_module": "@jupyter-widgets/base",
            "_view_module_version": "1.2.0",
            "_view_name": "LayoutView",
            "align_content": null,
            "align_items": null,
            "align_self": null,
            "border": null,
            "bottom": null,
            "display": null,
            "flex": null,
            "flex_flow": null,
            "grid_area": null,
            "grid_auto_columns": null,
            "grid_auto_flow": null,
            "grid_auto_rows": null,
            "grid_column": null,
            "grid_gap": null,
            "grid_row": null,
            "grid_template_areas": null,
            "grid_template_columns": null,
            "grid_template_rows": null,
            "height": null,
            "justify_content": null,
            "justify_items": null,
            "left": null,
            "margin": null,
            "max_height": null,
            "max_width": null,
            "min_height": null,
            "min_width": null,
            "object_fit": null,
            "object_position": null,
            "order": null,
            "overflow": null,
            "overflow_x": null,
            "overflow_y": null,
            "padding": null,
            "right": null,
            "top": null,
            "visibility": null,
            "width": null
          }
        },
        "fb202ee1b4bb483c94f6ecec2c481bfd": {
          "model_module": "@jupyter-widgets/controls",
          "model_name": "ProgressStyleModel",
          "model_module_version": "1.5.0",
          "state": {
            "_model_module": "@jupyter-widgets/controls",
            "_model_module_version": "1.5.0",
            "_model_name": "ProgressStyleModel",
            "_view_count": null,
            "_view_module": "@jupyter-widgets/base",
            "_view_module_version": "1.2.0",
            "_view_name": "StyleView",
            "bar_color": null,
            "description_width": ""
          }
        },
        "f20f5f7484af4126a14030089c63bf1b": {
          "model_module": "@jupyter-widgets/base",
          "model_name": "LayoutModel",
          "model_module_version": "1.2.0",
          "state": {
            "_model_module": "@jupyter-widgets/base",
            "_model_module_version": "1.2.0",
            "_model_name": "LayoutModel",
            "_view_count": null,
            "_view_module": "@jupyter-widgets/base",
            "_view_module_version": "1.2.0",
            "_view_name": "LayoutView",
            "align_content": null,
            "align_items": null,
            "align_self": null,
            "border": null,
            "bottom": null,
            "display": null,
            "flex": null,
            "flex_flow": null,
            "grid_area": null,
            "grid_auto_columns": null,
            "grid_auto_flow": null,
            "grid_auto_rows": null,
            "grid_column": null,
            "grid_gap": null,
            "grid_row": null,
            "grid_template_areas": null,
            "grid_template_columns": null,
            "grid_template_rows": null,
            "height": null,
            "justify_content": null,
            "justify_items": null,
            "left": null,
            "margin": null,
            "max_height": null,
            "max_width": null,
            "min_height": null,
            "min_width": null,
            "object_fit": null,
            "object_position": null,
            "order": null,
            "overflow": null,
            "overflow_x": null,
            "overflow_y": null,
            "padding": null,
            "right": null,
            "top": null,
            "visibility": null,
            "width": null
          }
        },
        "0e5e8642488c4ce28213be6a8a68d9ec": {
          "model_module": "@jupyter-widgets/controls",
          "model_name": "DescriptionStyleModel",
          "model_module_version": "1.5.0",
          "state": {
            "_model_module": "@jupyter-widgets/controls",
            "_model_module_version": "1.5.0",
            "_model_name": "DescriptionStyleModel",
            "_view_count": null,
            "_view_module": "@jupyter-widgets/base",
            "_view_module_version": "1.2.0",
            "_view_name": "StyleView",
            "description_width": ""
          }
        },
        "fded566223ff4be98125a6f2be3730a8": {
          "model_module": "@jupyter-widgets/controls",
          "model_name": "HBoxModel",
          "model_module_version": "1.5.0",
          "state": {
            "_dom_classes": [],
            "_model_module": "@jupyter-widgets/controls",
            "_model_module_version": "1.5.0",
            "_model_name": "HBoxModel",
            "_view_count": null,
            "_view_module": "@jupyter-widgets/controls",
            "_view_module_version": "1.5.0",
            "_view_name": "HBoxView",
            "box_style": "",
            "children": [
              "IPY_MODEL_7b4dfccb29204a2e9fe4af4bf6b14284",
              "IPY_MODEL_fe5bd40ad92d4fd99024cbc6d57a60fb",
              "IPY_MODEL_f3c13171335f4243bd29fb4beadd1c61"
            ],
            "layout": "IPY_MODEL_b48bf146ce544e0e9fb55bcd5f00d11e"
          }
        },
        "7b4dfccb29204a2e9fe4af4bf6b14284": {
          "model_module": "@jupyter-widgets/controls",
          "model_name": "HTMLModel",
          "model_module_version": "1.5.0",
          "state": {
            "_dom_classes": [],
            "_model_module": "@jupyter-widgets/controls",
            "_model_module_version": "1.5.0",
            "_model_name": "HTMLModel",
            "_view_count": null,
            "_view_module": "@jupyter-widgets/controls",
            "_view_module_version": "1.5.0",
            "_view_name": "HTMLView",
            "description": "",
            "description_tooltip": null,
            "layout": "IPY_MODEL_fc1d5244e4524128b1407eec187da595",
            "placeholder": "​",
            "style": "IPY_MODEL_6735bbf0deed45c083b03bfe4bcb73cd",
            "value": "Map: 100%"
          }
        },
        "fe5bd40ad92d4fd99024cbc6d57a60fb": {
          "model_module": "@jupyter-widgets/controls",
          "model_name": "FloatProgressModel",
          "model_module_version": "1.5.0",
          "state": {
            "_dom_classes": [],
            "_model_module": "@jupyter-widgets/controls",
            "_model_module_version": "1.5.0",
            "_model_name": "FloatProgressModel",
            "_view_count": null,
            "_view_module": "@jupyter-widgets/controls",
            "_view_module_version": "1.5.0",
            "_view_name": "ProgressView",
            "bar_style": "success",
            "description": "",
            "description_tooltip": null,
            "layout": "IPY_MODEL_8d7916d31d9d487ba705edd5ced1ac79",
            "max": 3036,
            "min": 0,
            "orientation": "horizontal",
            "style": "IPY_MODEL_cc7e6dbdec684d8eae5cdf58b0ad1a50",
            "value": 3036
          }
        },
        "f3c13171335f4243bd29fb4beadd1c61": {
          "model_module": "@jupyter-widgets/controls",
          "model_name": "HTMLModel",
          "model_module_version": "1.5.0",
          "state": {
            "_dom_classes": [],
            "_model_module": "@jupyter-widgets/controls",
            "_model_module_version": "1.5.0",
            "_model_name": "HTMLModel",
            "_view_count": null,
            "_view_module": "@jupyter-widgets/controls",
            "_view_module_version": "1.5.0",
            "_view_name": "HTMLView",
            "description": "",
            "description_tooltip": null,
            "layout": "IPY_MODEL_3138e3010ecf4a1eb41e76569bdcc699",
            "placeholder": "​",
            "style": "IPY_MODEL_7d3e7964574a490fb0522b696ae83b68",
            "value": " 3036/3036 [00:10&lt;00:00, 289.10 examples/s]"
          }
        },
        "b48bf146ce544e0e9fb55bcd5f00d11e": {
          "model_module": "@jupyter-widgets/base",
          "model_name": "LayoutModel",
          "model_module_version": "1.2.0",
          "state": {
            "_model_module": "@jupyter-widgets/base",
            "_model_module_version": "1.2.0",
            "_model_name": "LayoutModel",
            "_view_count": null,
            "_view_module": "@jupyter-widgets/base",
            "_view_module_version": "1.2.0",
            "_view_name": "LayoutView",
            "align_content": null,
            "align_items": null,
            "align_self": null,
            "border": null,
            "bottom": null,
            "display": null,
            "flex": null,
            "flex_flow": null,
            "grid_area": null,
            "grid_auto_columns": null,
            "grid_auto_flow": null,
            "grid_auto_rows": null,
            "grid_column": null,
            "grid_gap": null,
            "grid_row": null,
            "grid_template_areas": null,
            "grid_template_columns": null,
            "grid_template_rows": null,
            "height": null,
            "justify_content": null,
            "justify_items": null,
            "left": null,
            "margin": null,
            "max_height": null,
            "max_width": null,
            "min_height": null,
            "min_width": null,
            "object_fit": null,
            "object_position": null,
            "order": null,
            "overflow": null,
            "overflow_x": null,
            "overflow_y": null,
            "padding": null,
            "right": null,
            "top": null,
            "visibility": null,
            "width": null
          }
        },
        "fc1d5244e4524128b1407eec187da595": {
          "model_module": "@jupyter-widgets/base",
          "model_name": "LayoutModel",
          "model_module_version": "1.2.0",
          "state": {
            "_model_module": "@jupyter-widgets/base",
            "_model_module_version": "1.2.0",
            "_model_name": "LayoutModel",
            "_view_count": null,
            "_view_module": "@jupyter-widgets/base",
            "_view_module_version": "1.2.0",
            "_view_name": "LayoutView",
            "align_content": null,
            "align_items": null,
            "align_self": null,
            "border": null,
            "bottom": null,
            "display": null,
            "flex": null,
            "flex_flow": null,
            "grid_area": null,
            "grid_auto_columns": null,
            "grid_auto_flow": null,
            "grid_auto_rows": null,
            "grid_column": null,
            "grid_gap": null,
            "grid_row": null,
            "grid_template_areas": null,
            "grid_template_columns": null,
            "grid_template_rows": null,
            "height": null,
            "justify_content": null,
            "justify_items": null,
            "left": null,
            "margin": null,
            "max_height": null,
            "max_width": null,
            "min_height": null,
            "min_width": null,
            "object_fit": null,
            "object_position": null,
            "order": null,
            "overflow": null,
            "overflow_x": null,
            "overflow_y": null,
            "padding": null,
            "right": null,
            "top": null,
            "visibility": null,
            "width": null
          }
        },
        "6735bbf0deed45c083b03bfe4bcb73cd": {
          "model_module": "@jupyter-widgets/controls",
          "model_name": "DescriptionStyleModel",
          "model_module_version": "1.5.0",
          "state": {
            "_model_module": "@jupyter-widgets/controls",
            "_model_module_version": "1.5.0",
            "_model_name": "DescriptionStyleModel",
            "_view_count": null,
            "_view_module": "@jupyter-widgets/base",
            "_view_module_version": "1.2.0",
            "_view_name": "StyleView",
            "description_width": ""
          }
        },
        "8d7916d31d9d487ba705edd5ced1ac79": {
          "model_module": "@jupyter-widgets/base",
          "model_name": "LayoutModel",
          "model_module_version": "1.2.0",
          "state": {
            "_model_module": "@jupyter-widgets/base",
            "_model_module_version": "1.2.0",
            "_model_name": "LayoutModel",
            "_view_count": null,
            "_view_module": "@jupyter-widgets/base",
            "_view_module_version": "1.2.0",
            "_view_name": "LayoutView",
            "align_content": null,
            "align_items": null,
            "align_self": null,
            "border": null,
            "bottom": null,
            "display": null,
            "flex": null,
            "flex_flow": null,
            "grid_area": null,
            "grid_auto_columns": null,
            "grid_auto_flow": null,
            "grid_auto_rows": null,
            "grid_column": null,
            "grid_gap": null,
            "grid_row": null,
            "grid_template_areas": null,
            "grid_template_columns": null,
            "grid_template_rows": null,
            "height": null,
            "justify_content": null,
            "justify_items": null,
            "left": null,
            "margin": null,
            "max_height": null,
            "max_width": null,
            "min_height": null,
            "min_width": null,
            "object_fit": null,
            "object_position": null,
            "order": null,
            "overflow": null,
            "overflow_x": null,
            "overflow_y": null,
            "padding": null,
            "right": null,
            "top": null,
            "visibility": null,
            "width": null
          }
        },
        "cc7e6dbdec684d8eae5cdf58b0ad1a50": {
          "model_module": "@jupyter-widgets/controls",
          "model_name": "ProgressStyleModel",
          "model_module_version": "1.5.0",
          "state": {
            "_model_module": "@jupyter-widgets/controls",
            "_model_module_version": "1.5.0",
            "_model_name": "ProgressStyleModel",
            "_view_count": null,
            "_view_module": "@jupyter-widgets/base",
            "_view_module_version": "1.2.0",
            "_view_name": "StyleView",
            "bar_color": null,
            "description_width": ""
          }
        },
        "3138e3010ecf4a1eb41e76569bdcc699": {
          "model_module": "@jupyter-widgets/base",
          "model_name": "LayoutModel",
          "model_module_version": "1.2.0",
          "state": {
            "_model_module": "@jupyter-widgets/base",
            "_model_module_version": "1.2.0",
            "_model_name": "LayoutModel",
            "_view_count": null,
            "_view_module": "@jupyter-widgets/base",
            "_view_module_version": "1.2.0",
            "_view_name": "LayoutView",
            "align_content": null,
            "align_items": null,
            "align_self": null,
            "border": null,
            "bottom": null,
            "display": null,
            "flex": null,
            "flex_flow": null,
            "grid_area": null,
            "grid_auto_columns": null,
            "grid_auto_flow": null,
            "grid_auto_rows": null,
            "grid_column": null,
            "grid_gap": null,
            "grid_row": null,
            "grid_template_areas": null,
            "grid_template_columns": null,
            "grid_template_rows": null,
            "height": null,
            "justify_content": null,
            "justify_items": null,
            "left": null,
            "margin": null,
            "max_height": null,
            "max_width": null,
            "min_height": null,
            "min_width": null,
            "object_fit": null,
            "object_position": null,
            "order": null,
            "overflow": null,
            "overflow_x": null,
            "overflow_y": null,
            "padding": null,
            "right": null,
            "top": null,
            "visibility": null,
            "width": null
          }
        },
        "7d3e7964574a490fb0522b696ae83b68": {
          "model_module": "@jupyter-widgets/controls",
          "model_name": "DescriptionStyleModel",
          "model_module_version": "1.5.0",
          "state": {
            "_model_module": "@jupyter-widgets/controls",
            "_model_module_version": "1.5.0",
            "_model_name": "DescriptionStyleModel",
            "_view_count": null,
            "_view_module": "@jupyter-widgets/base",
            "_view_module_version": "1.2.0",
            "_view_name": "StyleView",
            "description_width": ""
          }
        },
        "642fe7a3e5c5421cb9f5b4f882b4d392": {
          "model_module": "@jupyter-widgets/controls",
          "model_name": "HBoxModel",
          "model_module_version": "1.5.0",
          "state": {
            "_dom_classes": [],
            "_model_module": "@jupyter-widgets/controls",
            "_model_module_version": "1.5.0",
            "_model_name": "HBoxModel",
            "_view_count": null,
            "_view_module": "@jupyter-widgets/controls",
            "_view_module_version": "1.5.0",
            "_view_name": "HBoxView",
            "box_style": "",
            "children": [
              "IPY_MODEL_03400a9d205643cdb6b951fef6c2127f",
              "IPY_MODEL_6cd86e75947042878fb317aa10a23e23",
              "IPY_MODEL_925cf625e93546adb209ac25bd3232e4"
            ],
            "layout": "IPY_MODEL_c7a449ebb6ad490c93e65c15b577933e"
          }
        },
        "03400a9d205643cdb6b951fef6c2127f": {
          "model_module": "@jupyter-widgets/controls",
          "model_name": "HTMLModel",
          "model_module_version": "1.5.0",
          "state": {
            "_dom_classes": [],
            "_model_module": "@jupyter-widgets/controls",
            "_model_module_version": "1.5.0",
            "_model_name": "HTMLModel",
            "_view_count": null,
            "_view_module": "@jupyter-widgets/controls",
            "_view_module_version": "1.5.0",
            "_view_name": "HTMLView",
            "description": "",
            "description_tooltip": null,
            "layout": "IPY_MODEL_cbbf24d8a0404867aa5bb2b99c986bca",
            "placeholder": "​",
            "style": "IPY_MODEL_0c4536b4056c44758095209962956b21",
            "value": "Map: 100%"
          }
        },
        "6cd86e75947042878fb317aa10a23e23": {
          "model_module": "@jupyter-widgets/controls",
          "model_name": "FloatProgressModel",
          "model_module_version": "1.5.0",
          "state": {
            "_dom_classes": [],
            "_model_module": "@jupyter-widgets/controls",
            "_model_module_version": "1.5.0",
            "_model_name": "FloatProgressModel",
            "_view_count": null,
            "_view_module": "@jupyter-widgets/controls",
            "_view_module_version": "1.5.0",
            "_view_name": "ProgressView",
            "bar_style": "success",
            "description": "",
            "description_tooltip": null,
            "layout": "IPY_MODEL_8a47576afa254aaab65bf209f2a94f30",
            "max": 760,
            "min": 0,
            "orientation": "horizontal",
            "style": "IPY_MODEL_0e2aec2ac96344e6a2a43f1a0e1a5672",
            "value": 760
          }
        },
        "925cf625e93546adb209ac25bd3232e4": {
          "model_module": "@jupyter-widgets/controls",
          "model_name": "HTMLModel",
          "model_module_version": "1.5.0",
          "state": {
            "_dom_classes": [],
            "_model_module": "@jupyter-widgets/controls",
            "_model_module_version": "1.5.0",
            "_model_name": "HTMLModel",
            "_view_count": null,
            "_view_module": "@jupyter-widgets/controls",
            "_view_module_version": "1.5.0",
            "_view_name": "HTMLView",
            "description": "",
            "description_tooltip": null,
            "layout": "IPY_MODEL_ef85ae297bd9469090ef5e9f2481d7ce",
            "placeholder": "​",
            "style": "IPY_MODEL_410167f5248f44acacd6a93ef9147645",
            "value": " 760/760 [00:02&lt;00:00, 346.14 examples/s]"
          }
        },
        "c7a449ebb6ad490c93e65c15b577933e": {
          "model_module": "@jupyter-widgets/base",
          "model_name": "LayoutModel",
          "model_module_version": "1.2.0",
          "state": {
            "_model_module": "@jupyter-widgets/base",
            "_model_module_version": "1.2.0",
            "_model_name": "LayoutModel",
            "_view_count": null,
            "_view_module": "@jupyter-widgets/base",
            "_view_module_version": "1.2.0",
            "_view_name": "LayoutView",
            "align_content": null,
            "align_items": null,
            "align_self": null,
            "border": null,
            "bottom": null,
            "display": null,
            "flex": null,
            "flex_flow": null,
            "grid_area": null,
            "grid_auto_columns": null,
            "grid_auto_flow": null,
            "grid_auto_rows": null,
            "grid_column": null,
            "grid_gap": null,
            "grid_row": null,
            "grid_template_areas": null,
            "grid_template_columns": null,
            "grid_template_rows": null,
            "height": null,
            "justify_content": null,
            "justify_items": null,
            "left": null,
            "margin": null,
            "max_height": null,
            "max_width": null,
            "min_height": null,
            "min_width": null,
            "object_fit": null,
            "object_position": null,
            "order": null,
            "overflow": null,
            "overflow_x": null,
            "overflow_y": null,
            "padding": null,
            "right": null,
            "top": null,
            "visibility": null,
            "width": null
          }
        },
        "cbbf24d8a0404867aa5bb2b99c986bca": {
          "model_module": "@jupyter-widgets/base",
          "model_name": "LayoutModel",
          "model_module_version": "1.2.0",
          "state": {
            "_model_module": "@jupyter-widgets/base",
            "_model_module_version": "1.2.0",
            "_model_name": "LayoutModel",
            "_view_count": null,
            "_view_module": "@jupyter-widgets/base",
            "_view_module_version": "1.2.0",
            "_view_name": "LayoutView",
            "align_content": null,
            "align_items": null,
            "align_self": null,
            "border": null,
            "bottom": null,
            "display": null,
            "flex": null,
            "flex_flow": null,
            "grid_area": null,
            "grid_auto_columns": null,
            "grid_auto_flow": null,
            "grid_auto_rows": null,
            "grid_column": null,
            "grid_gap": null,
            "grid_row": null,
            "grid_template_areas": null,
            "grid_template_columns": null,
            "grid_template_rows": null,
            "height": null,
            "justify_content": null,
            "justify_items": null,
            "left": null,
            "margin": null,
            "max_height": null,
            "max_width": null,
            "min_height": null,
            "min_width": null,
            "object_fit": null,
            "object_position": null,
            "order": null,
            "overflow": null,
            "overflow_x": null,
            "overflow_y": null,
            "padding": null,
            "right": null,
            "top": null,
            "visibility": null,
            "width": null
          }
        },
        "0c4536b4056c44758095209962956b21": {
          "model_module": "@jupyter-widgets/controls",
          "model_name": "DescriptionStyleModel",
          "model_module_version": "1.5.0",
          "state": {
            "_model_module": "@jupyter-widgets/controls",
            "_model_module_version": "1.5.0",
            "_model_name": "DescriptionStyleModel",
            "_view_count": null,
            "_view_module": "@jupyter-widgets/base",
            "_view_module_version": "1.2.0",
            "_view_name": "StyleView",
            "description_width": ""
          }
        },
        "8a47576afa254aaab65bf209f2a94f30": {
          "model_module": "@jupyter-widgets/base",
          "model_name": "LayoutModel",
          "model_module_version": "1.2.0",
          "state": {
            "_model_module": "@jupyter-widgets/base",
            "_model_module_version": "1.2.0",
            "_model_name": "LayoutModel",
            "_view_count": null,
            "_view_module": "@jupyter-widgets/base",
            "_view_module_version": "1.2.0",
            "_view_name": "LayoutView",
            "align_content": null,
            "align_items": null,
            "align_self": null,
            "border": null,
            "bottom": null,
            "display": null,
            "flex": null,
            "flex_flow": null,
            "grid_area": null,
            "grid_auto_columns": null,
            "grid_auto_flow": null,
            "grid_auto_rows": null,
            "grid_column": null,
            "grid_gap": null,
            "grid_row": null,
            "grid_template_areas": null,
            "grid_template_columns": null,
            "grid_template_rows": null,
            "height": null,
            "justify_content": null,
            "justify_items": null,
            "left": null,
            "margin": null,
            "max_height": null,
            "max_width": null,
            "min_height": null,
            "min_width": null,
            "object_fit": null,
            "object_position": null,
            "order": null,
            "overflow": null,
            "overflow_x": null,
            "overflow_y": null,
            "padding": null,
            "right": null,
            "top": null,
            "visibility": null,
            "width": null
          }
        },
        "0e2aec2ac96344e6a2a43f1a0e1a5672": {
          "model_module": "@jupyter-widgets/controls",
          "model_name": "ProgressStyleModel",
          "model_module_version": "1.5.0",
          "state": {
            "_model_module": "@jupyter-widgets/controls",
            "_model_module_version": "1.5.0",
            "_model_name": "ProgressStyleModel",
            "_view_count": null,
            "_view_module": "@jupyter-widgets/base",
            "_view_module_version": "1.2.0",
            "_view_name": "StyleView",
            "bar_color": null,
            "description_width": ""
          }
        },
        "ef85ae297bd9469090ef5e9f2481d7ce": {
          "model_module": "@jupyter-widgets/base",
          "model_name": "LayoutModel",
          "model_module_version": "1.2.0",
          "state": {
            "_model_module": "@jupyter-widgets/base",
            "_model_module_version": "1.2.0",
            "_model_name": "LayoutModel",
            "_view_count": null,
            "_view_module": "@jupyter-widgets/base",
            "_view_module_version": "1.2.0",
            "_view_name": "LayoutView",
            "align_content": null,
            "align_items": null,
            "align_self": null,
            "border": null,
            "bottom": null,
            "display": null,
            "flex": null,
            "flex_flow": null,
            "grid_area": null,
            "grid_auto_columns": null,
            "grid_auto_flow": null,
            "grid_auto_rows": null,
            "grid_column": null,
            "grid_gap": null,
            "grid_row": null,
            "grid_template_areas": null,
            "grid_template_columns": null,
            "grid_template_rows": null,
            "height": null,
            "justify_content": null,
            "justify_items": null,
            "left": null,
            "margin": null,
            "max_height": null,
            "max_width": null,
            "min_height": null,
            "min_width": null,
            "object_fit": null,
            "object_position": null,
            "order": null,
            "overflow": null,
            "overflow_x": null,
            "overflow_y": null,
            "padding": null,
            "right": null,
            "top": null,
            "visibility": null,
            "width": null
          }
        },
        "410167f5248f44acacd6a93ef9147645": {
          "model_module": "@jupyter-widgets/controls",
          "model_name": "DescriptionStyleModel",
          "model_module_version": "1.5.0",
          "state": {
            "_model_module": "@jupyter-widgets/controls",
            "_model_module_version": "1.5.0",
            "_model_name": "DescriptionStyleModel",
            "_view_count": null,
            "_view_module": "@jupyter-widgets/base",
            "_view_module_version": "1.2.0",
            "_view_name": "StyleView",
            "description_width": ""
          }
        },
        "9e052db54c334ab7bb0519065640d58e": {
          "model_module": "@jupyter-widgets/controls",
          "model_name": "HBoxModel",
          "model_module_version": "1.5.0",
          "state": {
            "_dom_classes": [],
            "_model_module": "@jupyter-widgets/controls",
            "_model_module_version": "1.5.0",
            "_model_name": "HBoxModel",
            "_view_count": null,
            "_view_module": "@jupyter-widgets/controls",
            "_view_module_version": "1.5.0",
            "_view_name": "HBoxView",
            "box_style": "",
            "children": [
              "IPY_MODEL_78610dca01ed4f9cb60681e06e2a5200",
              "IPY_MODEL_7534e51c3dac4bfe847311b23ab2aa42",
              "IPY_MODEL_c5dd084a5d794ff8a849d3dd59e48e06"
            ],
            "layout": "IPY_MODEL_dd54d78d6bff4c38b1c4a5de77ed1324"
          }
        },
        "78610dca01ed4f9cb60681e06e2a5200": {
          "model_module": "@jupyter-widgets/controls",
          "model_name": "HTMLModel",
          "model_module_version": "1.5.0",
          "state": {
            "_dom_classes": [],
            "_model_module": "@jupyter-widgets/controls",
            "_model_module_version": "1.5.0",
            "_model_name": "HTMLModel",
            "_view_count": null,
            "_view_module": "@jupyter-widgets/controls",
            "_view_module_version": "1.5.0",
            "_view_name": "HTMLView",
            "description": "",
            "description_tooltip": null,
            "layout": "IPY_MODEL_95c7a5d4162d49b6a5e302c790b0f368",
            "placeholder": "​",
            "style": "IPY_MODEL_19d3190127fe49f3b85e5d0ec36c33f9",
            "value": "model.safetensors: 100%"
          }
        },
        "7534e51c3dac4bfe847311b23ab2aa42": {
          "model_module": "@jupyter-widgets/controls",
          "model_name": "FloatProgressModel",
          "model_module_version": "1.5.0",
          "state": {
            "_dom_classes": [],
            "_model_module": "@jupyter-widgets/controls",
            "_model_module_version": "1.5.0",
            "_model_name": "FloatProgressModel",
            "_view_count": null,
            "_view_module": "@jupyter-widgets/controls",
            "_view_module_version": "1.5.0",
            "_view_name": "ProgressView",
            "bar_style": "success",
            "description": "",
            "description_tooltip": null,
            "layout": "IPY_MODEL_4d325e141456417aae04bb3bec1be6cb",
            "max": 267954768,
            "min": 0,
            "orientation": "horizontal",
            "style": "IPY_MODEL_e82a3ea1ed054df6a1065b44bfe2f7d8",
            "value": 267954768
          }
        },
        "c5dd084a5d794ff8a849d3dd59e48e06": {
          "model_module": "@jupyter-widgets/controls",
          "model_name": "HTMLModel",
          "model_module_version": "1.5.0",
          "state": {
            "_dom_classes": [],
            "_model_module": "@jupyter-widgets/controls",
            "_model_module_version": "1.5.0",
            "_model_name": "HTMLModel",
            "_view_count": null,
            "_view_module": "@jupyter-widgets/controls",
            "_view_module_version": "1.5.0",
            "_view_name": "HTMLView",
            "description": "",
            "description_tooltip": null,
            "layout": "IPY_MODEL_a0a6895ae9df498fb150be5cf3693995",
            "placeholder": "​",
            "style": "IPY_MODEL_c3ef669816d041eab251a835996e4168",
            "value": " 268M/268M [00:01&lt;00:00, 238MB/s]"
          }
        },
        "dd54d78d6bff4c38b1c4a5de77ed1324": {
          "model_module": "@jupyter-widgets/base",
          "model_name": "LayoutModel",
          "model_module_version": "1.2.0",
          "state": {
            "_model_module": "@jupyter-widgets/base",
            "_model_module_version": "1.2.0",
            "_model_name": "LayoutModel",
            "_view_count": null,
            "_view_module": "@jupyter-widgets/base",
            "_view_module_version": "1.2.0",
            "_view_name": "LayoutView",
            "align_content": null,
            "align_items": null,
            "align_self": null,
            "border": null,
            "bottom": null,
            "display": null,
            "flex": null,
            "flex_flow": null,
            "grid_area": null,
            "grid_auto_columns": null,
            "grid_auto_flow": null,
            "grid_auto_rows": null,
            "grid_column": null,
            "grid_gap": null,
            "grid_row": null,
            "grid_template_areas": null,
            "grid_template_columns": null,
            "grid_template_rows": null,
            "height": null,
            "justify_content": null,
            "justify_items": null,
            "left": null,
            "margin": null,
            "max_height": null,
            "max_width": null,
            "min_height": null,
            "min_width": null,
            "object_fit": null,
            "object_position": null,
            "order": null,
            "overflow": null,
            "overflow_x": null,
            "overflow_y": null,
            "padding": null,
            "right": null,
            "top": null,
            "visibility": null,
            "width": null
          }
        },
        "95c7a5d4162d49b6a5e302c790b0f368": {
          "model_module": "@jupyter-widgets/base",
          "model_name": "LayoutModel",
          "model_module_version": "1.2.0",
          "state": {
            "_model_module": "@jupyter-widgets/base",
            "_model_module_version": "1.2.0",
            "_model_name": "LayoutModel",
            "_view_count": null,
            "_view_module": "@jupyter-widgets/base",
            "_view_module_version": "1.2.0",
            "_view_name": "LayoutView",
            "align_content": null,
            "align_items": null,
            "align_self": null,
            "border": null,
            "bottom": null,
            "display": null,
            "flex": null,
            "flex_flow": null,
            "grid_area": null,
            "grid_auto_columns": null,
            "grid_auto_flow": null,
            "grid_auto_rows": null,
            "grid_column": null,
            "grid_gap": null,
            "grid_row": null,
            "grid_template_areas": null,
            "grid_template_columns": null,
            "grid_template_rows": null,
            "height": null,
            "justify_content": null,
            "justify_items": null,
            "left": null,
            "margin": null,
            "max_height": null,
            "max_width": null,
            "min_height": null,
            "min_width": null,
            "object_fit": null,
            "object_position": null,
            "order": null,
            "overflow": null,
            "overflow_x": null,
            "overflow_y": null,
            "padding": null,
            "right": null,
            "top": null,
            "visibility": null,
            "width": null
          }
        },
        "19d3190127fe49f3b85e5d0ec36c33f9": {
          "model_module": "@jupyter-widgets/controls",
          "model_name": "DescriptionStyleModel",
          "model_module_version": "1.5.0",
          "state": {
            "_model_module": "@jupyter-widgets/controls",
            "_model_module_version": "1.5.0",
            "_model_name": "DescriptionStyleModel",
            "_view_count": null,
            "_view_module": "@jupyter-widgets/base",
            "_view_module_version": "1.2.0",
            "_view_name": "StyleView",
            "description_width": ""
          }
        },
        "4d325e141456417aae04bb3bec1be6cb": {
          "model_module": "@jupyter-widgets/base",
          "model_name": "LayoutModel",
          "model_module_version": "1.2.0",
          "state": {
            "_model_module": "@jupyter-widgets/base",
            "_model_module_version": "1.2.0",
            "_model_name": "LayoutModel",
            "_view_count": null,
            "_view_module": "@jupyter-widgets/base",
            "_view_module_version": "1.2.0",
            "_view_name": "LayoutView",
            "align_content": null,
            "align_items": null,
            "align_self": null,
            "border": null,
            "bottom": null,
            "display": null,
            "flex": null,
            "flex_flow": null,
            "grid_area": null,
            "grid_auto_columns": null,
            "grid_auto_flow": null,
            "grid_auto_rows": null,
            "grid_column": null,
            "grid_gap": null,
            "grid_row": null,
            "grid_template_areas": null,
            "grid_template_columns": null,
            "grid_template_rows": null,
            "height": null,
            "justify_content": null,
            "justify_items": null,
            "left": null,
            "margin": null,
            "max_height": null,
            "max_width": null,
            "min_height": null,
            "min_width": null,
            "object_fit": null,
            "object_position": null,
            "order": null,
            "overflow": null,
            "overflow_x": null,
            "overflow_y": null,
            "padding": null,
            "right": null,
            "top": null,
            "visibility": null,
            "width": null
          }
        },
        "e82a3ea1ed054df6a1065b44bfe2f7d8": {
          "model_module": "@jupyter-widgets/controls",
          "model_name": "ProgressStyleModel",
          "model_module_version": "1.5.0",
          "state": {
            "_model_module": "@jupyter-widgets/controls",
            "_model_module_version": "1.5.0",
            "_model_name": "ProgressStyleModel",
            "_view_count": null,
            "_view_module": "@jupyter-widgets/base",
            "_view_module_version": "1.2.0",
            "_view_name": "StyleView",
            "bar_color": null,
            "description_width": ""
          }
        },
        "a0a6895ae9df498fb150be5cf3693995": {
          "model_module": "@jupyter-widgets/base",
          "model_name": "LayoutModel",
          "model_module_version": "1.2.0",
          "state": {
            "_model_module": "@jupyter-widgets/base",
            "_model_module_version": "1.2.0",
            "_model_name": "LayoutModel",
            "_view_count": null,
            "_view_module": "@jupyter-widgets/base",
            "_view_module_version": "1.2.0",
            "_view_name": "LayoutView",
            "align_content": null,
            "align_items": null,
            "align_self": null,
            "border": null,
            "bottom": null,
            "display": null,
            "flex": null,
            "flex_flow": null,
            "grid_area": null,
            "grid_auto_columns": null,
            "grid_auto_flow": null,
            "grid_auto_rows": null,
            "grid_column": null,
            "grid_gap": null,
            "grid_row": null,
            "grid_template_areas": null,
            "grid_template_columns": null,
            "grid_template_rows": null,
            "height": null,
            "justify_content": null,
            "justify_items": null,
            "left": null,
            "margin": null,
            "max_height": null,
            "max_width": null,
            "min_height": null,
            "min_width": null,
            "object_fit": null,
            "object_position": null,
            "order": null,
            "overflow": null,
            "overflow_x": null,
            "overflow_y": null,
            "padding": null,
            "right": null,
            "top": null,
            "visibility": null,
            "width": null
          }
        },
        "c3ef669816d041eab251a835996e4168": {
          "model_module": "@jupyter-widgets/controls",
          "model_name": "DescriptionStyleModel",
          "model_module_version": "1.5.0",
          "state": {
            "_model_module": "@jupyter-widgets/controls",
            "_model_module_version": "1.5.0",
            "_model_name": "DescriptionStyleModel",
            "_view_count": null,
            "_view_module": "@jupyter-widgets/base",
            "_view_module_version": "1.2.0",
            "_view_name": "StyleView",
            "description_width": ""
          }
        },
        "aeef33563c4246febac76630d0c217e3": {
          "model_module": "@jupyter-widgets/controls",
          "model_name": "HBoxModel",
          "model_module_version": "1.5.0",
          "state": {
            "_dom_classes": [],
            "_model_module": "@jupyter-widgets/controls",
            "_model_module_version": "1.5.0",
            "_model_name": "HBoxModel",
            "_view_count": null,
            "_view_module": "@jupyter-widgets/controls",
            "_view_module_version": "1.5.0",
            "_view_name": "HBoxView",
            "box_style": "",
            "children": [
              "IPY_MODEL_b3617eba582e48afa2926543c98bd8c9",
              "IPY_MODEL_30240f5ec7884db4b38cb6331031cc48",
              "IPY_MODEL_148e969b88e34842a7c1fe39a6650b0a"
            ],
            "layout": "IPY_MODEL_d4753cd5c1c54ca797adaa3a8e316964"
          }
        },
        "b3617eba582e48afa2926543c98bd8c9": {
          "model_module": "@jupyter-widgets/controls",
          "model_name": "HTMLModel",
          "model_module_version": "1.5.0",
          "state": {
            "_dom_classes": [],
            "_model_module": "@jupyter-widgets/controls",
            "_model_module_version": "1.5.0",
            "_model_name": "HTMLModel",
            "_view_count": null,
            "_view_module": "@jupyter-widgets/controls",
            "_view_module_version": "1.5.0",
            "_view_name": "HTMLView",
            "description": "",
            "description_tooltip": null,
            "layout": "IPY_MODEL_546787a3811245958bdf2294ec28b80d",
            "placeholder": "​",
            "style": "IPY_MODEL_9d503a7bf52743fa8b68148f02ae0400",
            "value": "Downloading builder script: 100%"
          }
        },
        "30240f5ec7884db4b38cb6331031cc48": {
          "model_module": "@jupyter-widgets/controls",
          "model_name": "FloatProgressModel",
          "model_module_version": "1.5.0",
          "state": {
            "_dom_classes": [],
            "_model_module": "@jupyter-widgets/controls",
            "_model_module_version": "1.5.0",
            "_model_name": "FloatProgressModel",
            "_view_count": null,
            "_view_module": "@jupyter-widgets/controls",
            "_view_module_version": "1.5.0",
            "_view_name": "ProgressView",
            "bar_style": "success",
            "description": "",
            "description_tooltip": null,
            "layout": "IPY_MODEL_2db03dd9e9cf48e999ef020d66202c51",
            "max": 4203,
            "min": 0,
            "orientation": "horizontal",
            "style": "IPY_MODEL_a811a026a8424a1584c69424d8d49079",
            "value": 4203
          }
        },
        "148e969b88e34842a7c1fe39a6650b0a": {
          "model_module": "@jupyter-widgets/controls",
          "model_name": "HTMLModel",
          "model_module_version": "1.5.0",
          "state": {
            "_dom_classes": [],
            "_model_module": "@jupyter-widgets/controls",
            "_model_module_version": "1.5.0",
            "_model_name": "HTMLModel",
            "_view_count": null,
            "_view_module": "@jupyter-widgets/controls",
            "_view_module_version": "1.5.0",
            "_view_name": "HTMLView",
            "description": "",
            "description_tooltip": null,
            "layout": "IPY_MODEL_749e8d90b3824e8ca5d4ea8580a43146",
            "placeholder": "​",
            "style": "IPY_MODEL_cd23e879eb5a4884822aaea6bcaad092",
            "value": " 4.20k/4.20k [00:00&lt;00:00, 271kB/s]"
          }
        },
        "d4753cd5c1c54ca797adaa3a8e316964": {
          "model_module": "@jupyter-widgets/base",
          "model_name": "LayoutModel",
          "model_module_version": "1.2.0",
          "state": {
            "_model_module": "@jupyter-widgets/base",
            "_model_module_version": "1.2.0",
            "_model_name": "LayoutModel",
            "_view_count": null,
            "_view_module": "@jupyter-widgets/base",
            "_view_module_version": "1.2.0",
            "_view_name": "LayoutView",
            "align_content": null,
            "align_items": null,
            "align_self": null,
            "border": null,
            "bottom": null,
            "display": null,
            "flex": null,
            "flex_flow": null,
            "grid_area": null,
            "grid_auto_columns": null,
            "grid_auto_flow": null,
            "grid_auto_rows": null,
            "grid_column": null,
            "grid_gap": null,
            "grid_row": null,
            "grid_template_areas": null,
            "grid_template_columns": null,
            "grid_template_rows": null,
            "height": null,
            "justify_content": null,
            "justify_items": null,
            "left": null,
            "margin": null,
            "max_height": null,
            "max_width": null,
            "min_height": null,
            "min_width": null,
            "object_fit": null,
            "object_position": null,
            "order": null,
            "overflow": null,
            "overflow_x": null,
            "overflow_y": null,
            "padding": null,
            "right": null,
            "top": null,
            "visibility": null,
            "width": null
          }
        },
        "546787a3811245958bdf2294ec28b80d": {
          "model_module": "@jupyter-widgets/base",
          "model_name": "LayoutModel",
          "model_module_version": "1.2.0",
          "state": {
            "_model_module": "@jupyter-widgets/base",
            "_model_module_version": "1.2.0",
            "_model_name": "LayoutModel",
            "_view_count": null,
            "_view_module": "@jupyter-widgets/base",
            "_view_module_version": "1.2.0",
            "_view_name": "LayoutView",
            "align_content": null,
            "align_items": null,
            "align_self": null,
            "border": null,
            "bottom": null,
            "display": null,
            "flex": null,
            "flex_flow": null,
            "grid_area": null,
            "grid_auto_columns": null,
            "grid_auto_flow": null,
            "grid_auto_rows": null,
            "grid_column": null,
            "grid_gap": null,
            "grid_row": null,
            "grid_template_areas": null,
            "grid_template_columns": null,
            "grid_template_rows": null,
            "height": null,
            "justify_content": null,
            "justify_items": null,
            "left": null,
            "margin": null,
            "max_height": null,
            "max_width": null,
            "min_height": null,
            "min_width": null,
            "object_fit": null,
            "object_position": null,
            "order": null,
            "overflow": null,
            "overflow_x": null,
            "overflow_y": null,
            "padding": null,
            "right": null,
            "top": null,
            "visibility": null,
            "width": null
          }
        },
        "9d503a7bf52743fa8b68148f02ae0400": {
          "model_module": "@jupyter-widgets/controls",
          "model_name": "DescriptionStyleModel",
          "model_module_version": "1.5.0",
          "state": {
            "_model_module": "@jupyter-widgets/controls",
            "_model_module_version": "1.5.0",
            "_model_name": "DescriptionStyleModel",
            "_view_count": null,
            "_view_module": "@jupyter-widgets/base",
            "_view_module_version": "1.2.0",
            "_view_name": "StyleView",
            "description_width": ""
          }
        },
        "2db03dd9e9cf48e999ef020d66202c51": {
          "model_module": "@jupyter-widgets/base",
          "model_name": "LayoutModel",
          "model_module_version": "1.2.0",
          "state": {
            "_model_module": "@jupyter-widgets/base",
            "_model_module_version": "1.2.0",
            "_model_name": "LayoutModel",
            "_view_count": null,
            "_view_module": "@jupyter-widgets/base",
            "_view_module_version": "1.2.0",
            "_view_name": "LayoutView",
            "align_content": null,
            "align_items": null,
            "align_self": null,
            "border": null,
            "bottom": null,
            "display": null,
            "flex": null,
            "flex_flow": null,
            "grid_area": null,
            "grid_auto_columns": null,
            "grid_auto_flow": null,
            "grid_auto_rows": null,
            "grid_column": null,
            "grid_gap": null,
            "grid_row": null,
            "grid_template_areas": null,
            "grid_template_columns": null,
            "grid_template_rows": null,
            "height": null,
            "justify_content": null,
            "justify_items": null,
            "left": null,
            "margin": null,
            "max_height": null,
            "max_width": null,
            "min_height": null,
            "min_width": null,
            "object_fit": null,
            "object_position": null,
            "order": null,
            "overflow": null,
            "overflow_x": null,
            "overflow_y": null,
            "padding": null,
            "right": null,
            "top": null,
            "visibility": null,
            "width": null
          }
        },
        "a811a026a8424a1584c69424d8d49079": {
          "model_module": "@jupyter-widgets/controls",
          "model_name": "ProgressStyleModel",
          "model_module_version": "1.5.0",
          "state": {
            "_model_module": "@jupyter-widgets/controls",
            "_model_module_version": "1.5.0",
            "_model_name": "ProgressStyleModel",
            "_view_count": null,
            "_view_module": "@jupyter-widgets/base",
            "_view_module_version": "1.2.0",
            "_view_name": "StyleView",
            "bar_color": null,
            "description_width": ""
          }
        },
        "749e8d90b3824e8ca5d4ea8580a43146": {
          "model_module": "@jupyter-widgets/base",
          "model_name": "LayoutModel",
          "model_module_version": "1.2.0",
          "state": {
            "_model_module": "@jupyter-widgets/base",
            "_model_module_version": "1.2.0",
            "_model_name": "LayoutModel",
            "_view_count": null,
            "_view_module": "@jupyter-widgets/base",
            "_view_module_version": "1.2.0",
            "_view_name": "LayoutView",
            "align_content": null,
            "align_items": null,
            "align_self": null,
            "border": null,
            "bottom": null,
            "display": null,
            "flex": null,
            "flex_flow": null,
            "grid_area": null,
            "grid_auto_columns": null,
            "grid_auto_flow": null,
            "grid_auto_rows": null,
            "grid_column": null,
            "grid_gap": null,
            "grid_row": null,
            "grid_template_areas": null,
            "grid_template_columns": null,
            "grid_template_rows": null,
            "height": null,
            "justify_content": null,
            "justify_items": null,
            "left": null,
            "margin": null,
            "max_height": null,
            "max_width": null,
            "min_height": null,
            "min_width": null,
            "object_fit": null,
            "object_position": null,
            "order": null,
            "overflow": null,
            "overflow_x": null,
            "overflow_y": null,
            "padding": null,
            "right": null,
            "top": null,
            "visibility": null,
            "width": null
          }
        },
        "cd23e879eb5a4884822aaea6bcaad092": {
          "model_module": "@jupyter-widgets/controls",
          "model_name": "DescriptionStyleModel",
          "model_module_version": "1.5.0",
          "state": {
            "_model_module": "@jupyter-widgets/controls",
            "_model_module_version": "1.5.0",
            "_model_name": "DescriptionStyleModel",
            "_view_count": null,
            "_view_module": "@jupyter-widgets/base",
            "_view_module_version": "1.2.0",
            "_view_name": "StyleView",
            "description_width": ""
          }
        }
      }
    },
    "accelerator": "GPU"
  },
  "cells": [
    {
      "cell_type": "markdown",
      "metadata": {
        "id": "view-in-github",
        "colab_type": "text"
      },
      "source": [
        "<a href=\"https://colab.research.google.com/github/Fliptoss/Text_classifier/blob/main/Text_classifier.ipynb\" target=\"_parent\"><img src=\"https://colab.research.google.com/assets/colab-badge.svg\" alt=\"Open In Colab\"/></a>"
      ]
    },
    {
      "cell_type": "markdown",
      "source": [
        "# 1. Install requirements"
      ],
      "metadata": {
        "id": "u0qfi0nidPcW"
      }
    },
    {
      "cell_type": "code",
      "execution_count": null,
      "metadata": {
        "colab": {
          "base_uri": "https://localhost:8080/"
        },
        "id": "HOluzVpD1iw_",
        "outputId": "1815f58d-07b9-4747-8242-1f52a49c356d"
      },
      "outputs": [
        {
          "output_type": "stream",
          "name": "stdout",
          "text": [
            "Requirement already satisfied: transformers in /usr/local/lib/python3.11/dist-packages (4.48.3)\n",
            "Requirement already satisfied: filelock in /usr/local/lib/python3.11/dist-packages (from transformers) (3.17.0)\n",
            "Requirement already satisfied: huggingface-hub<1.0,>=0.24.0 in /usr/local/lib/python3.11/dist-packages (from transformers) (0.28.1)\n",
            "Requirement already satisfied: numpy>=1.17 in /usr/local/lib/python3.11/dist-packages (from transformers) (1.26.4)\n",
            "Requirement already satisfied: packaging>=20.0 in /usr/local/lib/python3.11/dist-packages (from transformers) (24.2)\n",
            "Requirement already satisfied: pyyaml>=5.1 in /usr/local/lib/python3.11/dist-packages (from transformers) (6.0.2)\n",
            "Requirement already satisfied: regex!=2019.12.17 in /usr/local/lib/python3.11/dist-packages (from transformers) (2024.11.6)\n",
            "Requirement already satisfied: requests in /usr/local/lib/python3.11/dist-packages (from transformers) (2.32.3)\n",
            "Requirement already satisfied: tokenizers<0.22,>=0.21 in /usr/local/lib/python3.11/dist-packages (from transformers) (0.21.0)\n",
            "Requirement already satisfied: safetensors>=0.4.1 in /usr/local/lib/python3.11/dist-packages (from transformers) (0.5.2)\n",
            "Requirement already satisfied: tqdm>=4.27 in /usr/local/lib/python3.11/dist-packages (from transformers) (4.67.1)\n",
            "Requirement already satisfied: fsspec>=2023.5.0 in /usr/local/lib/python3.11/dist-packages (from huggingface-hub<1.0,>=0.24.0->transformers) (2024.10.0)\n",
            "Requirement already satisfied: typing-extensions>=3.7.4.3 in /usr/local/lib/python3.11/dist-packages (from huggingface-hub<1.0,>=0.24.0->transformers) (4.12.2)\n",
            "Requirement already satisfied: charset-normalizer<4,>=2 in /usr/local/lib/python3.11/dist-packages (from requests->transformers) (3.4.1)\n",
            "Requirement already satisfied: idna<4,>=2.5 in /usr/local/lib/python3.11/dist-packages (from requests->transformers) (3.10)\n",
            "Requirement already satisfied: urllib3<3,>=1.21.1 in /usr/local/lib/python3.11/dist-packages (from requests->transformers) (2.3.0)\n",
            "Requirement already satisfied: certifi>=2017.4.17 in /usr/local/lib/python3.11/dist-packages (from requests->transformers) (2025.1.31)\n"
          ]
        }
      ],
      "source": [
        "!pip install transformers"
      ]
    },
    {
      "cell_type": "code",
      "source": [
        "!pip install datasets"
      ],
      "metadata": {
        "colab": {
          "base_uri": "https://localhost:8080/"
        },
        "id": "kv_H_SUrddGq",
        "outputId": "5b98538e-08c2-482d-aa53-f47bc71fc0b6"
      },
      "execution_count": null,
      "outputs": [
        {
          "output_type": "stream",
          "name": "stdout",
          "text": [
            "Collecting datasets\n",
            "  Downloading datasets-3.3.2-py3-none-any.whl.metadata (19 kB)\n",
            "Requirement already satisfied: filelock in /usr/local/lib/python3.11/dist-packages (from datasets) (3.17.0)\n",
            "Requirement already satisfied: numpy>=1.17 in /usr/local/lib/python3.11/dist-packages (from datasets) (1.26.4)\n",
            "Requirement already satisfied: pyarrow>=15.0.0 in /usr/local/lib/python3.11/dist-packages (from datasets) (17.0.0)\n",
            "Collecting dill<0.3.9,>=0.3.0 (from datasets)\n",
            "  Downloading dill-0.3.8-py3-none-any.whl.metadata (10 kB)\n",
            "Requirement already satisfied: pandas in /usr/local/lib/python3.11/dist-packages (from datasets) (2.2.2)\n",
            "Requirement already satisfied: requests>=2.32.2 in /usr/local/lib/python3.11/dist-packages (from datasets) (2.32.3)\n",
            "Requirement already satisfied: tqdm>=4.66.3 in /usr/local/lib/python3.11/dist-packages (from datasets) (4.67.1)\n",
            "Collecting xxhash (from datasets)\n",
            "  Downloading xxhash-3.5.0-cp311-cp311-manylinux_2_17_x86_64.manylinux2014_x86_64.whl.metadata (12 kB)\n",
            "Collecting multiprocess<0.70.17 (from datasets)\n",
            "  Downloading multiprocess-0.70.16-py311-none-any.whl.metadata (7.2 kB)\n",
            "Requirement already satisfied: fsspec<=2024.12.0,>=2023.1.0 in /usr/local/lib/python3.11/dist-packages (from fsspec[http]<=2024.12.0,>=2023.1.0->datasets) (2024.10.0)\n",
            "Requirement already satisfied: aiohttp in /usr/local/lib/python3.11/dist-packages (from datasets) (3.11.12)\n",
            "Requirement already satisfied: huggingface-hub>=0.24.0 in /usr/local/lib/python3.11/dist-packages (from datasets) (0.28.1)\n",
            "Requirement already satisfied: packaging in /usr/local/lib/python3.11/dist-packages (from datasets) (24.2)\n",
            "Requirement already satisfied: pyyaml>=5.1 in /usr/local/lib/python3.11/dist-packages (from datasets) (6.0.2)\n",
            "Requirement already satisfied: aiohappyeyeballs>=2.3.0 in /usr/local/lib/python3.11/dist-packages (from aiohttp->datasets) (2.4.6)\n",
            "Requirement already satisfied: aiosignal>=1.1.2 in /usr/local/lib/python3.11/dist-packages (from aiohttp->datasets) (1.3.2)\n",
            "Requirement already satisfied: attrs>=17.3.0 in /usr/local/lib/python3.11/dist-packages (from aiohttp->datasets) (25.1.0)\n",
            "Requirement already satisfied: frozenlist>=1.1.1 in /usr/local/lib/python3.11/dist-packages (from aiohttp->datasets) (1.5.0)\n",
            "Requirement already satisfied: multidict<7.0,>=4.5 in /usr/local/lib/python3.11/dist-packages (from aiohttp->datasets) (6.1.0)\n",
            "Requirement already satisfied: propcache>=0.2.0 in /usr/local/lib/python3.11/dist-packages (from aiohttp->datasets) (0.2.1)\n",
            "Requirement already satisfied: yarl<2.0,>=1.17.0 in /usr/local/lib/python3.11/dist-packages (from aiohttp->datasets) (1.18.3)\n",
            "Requirement already satisfied: typing-extensions>=3.7.4.3 in /usr/local/lib/python3.11/dist-packages (from huggingface-hub>=0.24.0->datasets) (4.12.2)\n",
            "Requirement already satisfied: charset-normalizer<4,>=2 in /usr/local/lib/python3.11/dist-packages (from requests>=2.32.2->datasets) (3.4.1)\n",
            "Requirement already satisfied: idna<4,>=2.5 in /usr/local/lib/python3.11/dist-packages (from requests>=2.32.2->datasets) (3.10)\n",
            "Requirement already satisfied: urllib3<3,>=1.21.1 in /usr/local/lib/python3.11/dist-packages (from requests>=2.32.2->datasets) (2.3.0)\n",
            "Requirement already satisfied: certifi>=2017.4.17 in /usr/local/lib/python3.11/dist-packages (from requests>=2.32.2->datasets) (2025.1.31)\n",
            "Requirement already satisfied: python-dateutil>=2.8.2 in /usr/local/lib/python3.11/dist-packages (from pandas->datasets) (2.8.2)\n",
            "Requirement already satisfied: pytz>=2020.1 in /usr/local/lib/python3.11/dist-packages (from pandas->datasets) (2025.1)\n",
            "Requirement already satisfied: tzdata>=2022.7 in /usr/local/lib/python3.11/dist-packages (from pandas->datasets) (2025.1)\n",
            "Requirement already satisfied: six>=1.5 in /usr/local/lib/python3.11/dist-packages (from python-dateutil>=2.8.2->pandas->datasets) (1.17.0)\n",
            "Downloading datasets-3.3.2-py3-none-any.whl (485 kB)\n",
            "\u001b[2K   \u001b[90m━━━━━━━━━━━━━━━━━━━━━━━━━━━━━━━━━━━━━━━━\u001b[0m \u001b[32m485.4/485.4 kB\u001b[0m \u001b[31m16.7 MB/s\u001b[0m eta \u001b[36m0:00:00\u001b[0m\n",
            "\u001b[?25hDownloading dill-0.3.8-py3-none-any.whl (116 kB)\n",
            "\u001b[2K   \u001b[90m━━━━━━━━━━━━━━━━━━━━━━━━━━━━━━━━━━━━━━━━\u001b[0m \u001b[32m116.3/116.3 kB\u001b[0m \u001b[31m4.8 MB/s\u001b[0m eta \u001b[36m0:00:00\u001b[0m\n",
            "\u001b[?25hDownloading multiprocess-0.70.16-py311-none-any.whl (143 kB)\n",
            "\u001b[2K   \u001b[90m━━━━━━━━━━━━━━━━━━━━━━━━━━━━━━━━━━━━━━━━\u001b[0m \u001b[32m143.5/143.5 kB\u001b[0m \u001b[31m8.3 MB/s\u001b[0m eta \u001b[36m0:00:00\u001b[0m\n",
            "\u001b[?25hDownloading xxhash-3.5.0-cp311-cp311-manylinux_2_17_x86_64.manylinux2014_x86_64.whl (194 kB)\n",
            "\u001b[2K   \u001b[90m━━━━━━━━━━━━━━━━━━━━━━━━━━━━━━━━━━━━━━━━\u001b[0m \u001b[32m194.8/194.8 kB\u001b[0m \u001b[31m16.0 MB/s\u001b[0m eta \u001b[36m0:00:00\u001b[0m\n",
            "\u001b[?25hInstalling collected packages: xxhash, dill, multiprocess, datasets\n",
            "Successfully installed datasets-3.3.2 dill-0.3.8 multiprocess-0.70.16 xxhash-3.5.0\n"
          ]
        }
      ]
    },
    {
      "cell_type": "code",
      "source": [
        "!pip install --upgrade pandas"
      ],
      "metadata": {
        "id": "chYDigs_TQyA",
        "outputId": "4e384d35-bcbc-40b0-9013-84e0f7707429",
        "colab": {
          "base_uri": "https://localhost:8080/"
        }
      },
      "execution_count": null,
      "outputs": [
        {
          "output_type": "stream",
          "name": "stdout",
          "text": [
            "Requirement already satisfied: pandas in /usr/local/lib/python3.11/dist-packages (2.2.2)\n",
            "Collecting pandas\n",
            "  Downloading pandas-2.2.3-cp311-cp311-manylinux_2_17_x86_64.manylinux2014_x86_64.whl.metadata (89 kB)\n",
            "\u001b[2K     \u001b[90m━━━━━━━━━━━━━━━━━━━━━━━━━━━━━━━━━━━━━━━━\u001b[0m \u001b[32m89.9/89.9 kB\u001b[0m \u001b[31m8.1 MB/s\u001b[0m eta \u001b[36m0:00:00\u001b[0m\n",
            "\u001b[?25hRequirement already satisfied: numpy>=1.23.2 in /usr/local/lib/python3.11/dist-packages (from pandas) (1.26.4)\n",
            "Requirement already satisfied: python-dateutil>=2.8.2 in /usr/local/lib/python3.11/dist-packages (from pandas) (2.8.2)\n",
            "Requirement already satisfied: pytz>=2020.1 in /usr/local/lib/python3.11/dist-packages (from pandas) (2025.1)\n",
            "Requirement already satisfied: tzdata>=2022.7 in /usr/local/lib/python3.11/dist-packages (from pandas) (2025.1)\n",
            "Requirement already satisfied: six>=1.5 in /usr/local/lib/python3.11/dist-packages (from python-dateutil>=2.8.2->pandas) (1.17.0)\n",
            "Downloading pandas-2.2.3-cp311-cp311-manylinux_2_17_x86_64.manylinux2014_x86_64.whl (13.1 MB)\n",
            "\u001b[2K   \u001b[90m━━━━━━━━━━━━━━━━━━━━━━━━━━━━━━━━━━━━━━━━\u001b[0m \u001b[32m13.1/13.1 MB\u001b[0m \u001b[31m40.1 MB/s\u001b[0m eta \u001b[36m0:00:00\u001b[0m\n",
            "\u001b[?25hInstalling collected packages: pandas\n",
            "  Attempting uninstall: pandas\n",
            "    Found existing installation: pandas 2.2.2\n",
            "    Uninstalling pandas-2.2.2:\n",
            "      Successfully uninstalled pandas-2.2.2\n",
            "\u001b[31mERROR: pip's dependency resolver does not currently take into account all the packages that are installed. This behaviour is the source of the following dependency conflicts.\n",
            "google-colab 1.0.0 requires pandas==2.2.2, but you have pandas 2.2.3 which is incompatible.\u001b[0m\u001b[31m\n",
            "\u001b[0mSuccessfully installed pandas-2.2.3\n"
          ]
        }
      ]
    },
    {
      "cell_type": "code",
      "source": [
        "! pip install evaluate"
      ],
      "metadata": {
        "id": "3SwqGs-sdSpf",
        "colab": {
          "base_uri": "https://localhost:8080/"
        },
        "outputId": "f0c4b8f2-9d4c-4a31-de4a-d209499c5d0a"
      },
      "execution_count": null,
      "outputs": [
        {
          "output_type": "stream",
          "name": "stdout",
          "text": [
            "Collecting evaluate\n",
            "  Downloading evaluate-0.4.3-py3-none-any.whl.metadata (9.2 kB)\n",
            "Requirement already satisfied: datasets>=2.0.0 in /usr/local/lib/python3.11/dist-packages (from evaluate) (3.3.2)\n",
            "Requirement already satisfied: numpy>=1.17 in /usr/local/lib/python3.11/dist-packages (from evaluate) (1.26.4)\n",
            "Requirement already satisfied: dill in /usr/local/lib/python3.11/dist-packages (from evaluate) (0.3.8)\n",
            "Requirement already satisfied: pandas in /usr/local/lib/python3.11/dist-packages (from evaluate) (2.2.3)\n",
            "Requirement already satisfied: requests>=2.19.0 in /usr/local/lib/python3.11/dist-packages (from evaluate) (2.32.3)\n",
            "Requirement already satisfied: tqdm>=4.62.1 in /usr/local/lib/python3.11/dist-packages (from evaluate) (4.67.1)\n",
            "Requirement already satisfied: xxhash in /usr/local/lib/python3.11/dist-packages (from evaluate) (3.5.0)\n",
            "Requirement already satisfied: multiprocess in /usr/local/lib/python3.11/dist-packages (from evaluate) (0.70.16)\n",
            "Requirement already satisfied: fsspec>=2021.05.0 in /usr/local/lib/python3.11/dist-packages (from fsspec[http]>=2021.05.0->evaluate) (2024.10.0)\n",
            "Requirement already satisfied: huggingface-hub>=0.7.0 in /usr/local/lib/python3.11/dist-packages (from evaluate) (0.28.1)\n",
            "Requirement already satisfied: packaging in /usr/local/lib/python3.11/dist-packages (from evaluate) (24.2)\n",
            "Requirement already satisfied: filelock in /usr/local/lib/python3.11/dist-packages (from datasets>=2.0.0->evaluate) (3.17.0)\n",
            "Requirement already satisfied: pyarrow>=15.0.0 in /usr/local/lib/python3.11/dist-packages (from datasets>=2.0.0->evaluate) (17.0.0)\n",
            "Requirement already satisfied: aiohttp in /usr/local/lib/python3.11/dist-packages (from datasets>=2.0.0->evaluate) (3.11.12)\n",
            "Requirement already satisfied: pyyaml>=5.1 in /usr/local/lib/python3.11/dist-packages (from datasets>=2.0.0->evaluate) (6.0.2)\n",
            "Requirement already satisfied: typing-extensions>=3.7.4.3 in /usr/local/lib/python3.11/dist-packages (from huggingface-hub>=0.7.0->evaluate) (4.12.2)\n",
            "Requirement already satisfied: charset-normalizer<4,>=2 in /usr/local/lib/python3.11/dist-packages (from requests>=2.19.0->evaluate) (3.4.1)\n",
            "Requirement already satisfied: idna<4,>=2.5 in /usr/local/lib/python3.11/dist-packages (from requests>=2.19.0->evaluate) (3.10)\n",
            "Requirement already satisfied: urllib3<3,>=1.21.1 in /usr/local/lib/python3.11/dist-packages (from requests>=2.19.0->evaluate) (2.3.0)\n",
            "Requirement already satisfied: certifi>=2017.4.17 in /usr/local/lib/python3.11/dist-packages (from requests>=2.19.0->evaluate) (2025.1.31)\n",
            "Requirement already satisfied: python-dateutil>=2.8.2 in /usr/local/lib/python3.11/dist-packages (from pandas->evaluate) (2.8.2)\n",
            "Requirement already satisfied: pytz>=2020.1 in /usr/local/lib/python3.11/dist-packages (from pandas->evaluate) (2025.1)\n",
            "Requirement already satisfied: tzdata>=2022.7 in /usr/local/lib/python3.11/dist-packages (from pandas->evaluate) (2025.1)\n",
            "Requirement already satisfied: aiohappyeyeballs>=2.3.0 in /usr/local/lib/python3.11/dist-packages (from aiohttp->datasets>=2.0.0->evaluate) (2.4.6)\n",
            "Requirement already satisfied: aiosignal>=1.1.2 in /usr/local/lib/python3.11/dist-packages (from aiohttp->datasets>=2.0.0->evaluate) (1.3.2)\n",
            "Requirement already satisfied: attrs>=17.3.0 in /usr/local/lib/python3.11/dist-packages (from aiohttp->datasets>=2.0.0->evaluate) (25.1.0)\n",
            "Requirement already satisfied: frozenlist>=1.1.1 in /usr/local/lib/python3.11/dist-packages (from aiohttp->datasets>=2.0.0->evaluate) (1.5.0)\n",
            "Requirement already satisfied: multidict<7.0,>=4.5 in /usr/local/lib/python3.11/dist-packages (from aiohttp->datasets>=2.0.0->evaluate) (6.1.0)\n",
            "Requirement already satisfied: propcache>=0.2.0 in /usr/local/lib/python3.11/dist-packages (from aiohttp->datasets>=2.0.0->evaluate) (0.2.1)\n",
            "Requirement already satisfied: yarl<2.0,>=1.17.0 in /usr/local/lib/python3.11/dist-packages (from aiohttp->datasets>=2.0.0->evaluate) (1.18.3)\n",
            "Requirement already satisfied: six>=1.5 in /usr/local/lib/python3.11/dist-packages (from python-dateutil>=2.8.2->pandas->evaluate) (1.17.0)\n",
            "Downloading evaluate-0.4.3-py3-none-any.whl (84 kB)\n",
            "\u001b[2K   \u001b[90m━━━━━━━━━━━━━━━━━━━━━━━━━━━━━━━━━━━━━━━━\u001b[0m \u001b[32m84.0/84.0 kB\u001b[0m \u001b[31m7.3 MB/s\u001b[0m eta \u001b[36m0:00:00\u001b[0m\n",
            "\u001b[?25hInstalling collected packages: evaluate\n",
            "Successfully installed evaluate-0.4.3\n"
          ]
        }
      ]
    },
    {
      "cell_type": "markdown",
      "source": [
        "#Configs"
      ],
      "metadata": {
        "id": "9_VzZB8_hPL4"
      }
    },
    {
      "cell_type": "code",
      "source": [
        "from google.colab import drive\n",
        "drive.mount('/content/drive')"
      ],
      "metadata": {
        "id": "VVJYBGHpMlNt",
        "outputId": "f8e21615-3722-4c7a-996e-8805d058c5c9",
        "colab": {
          "base_uri": "https://localhost:8080/"
        }
      },
      "execution_count": null,
      "outputs": [
        {
          "output_type": "stream",
          "name": "stdout",
          "text": [
            "Mounted at /content/drive\n"
          ]
        }
      ]
    },
    {
      "cell_type": "code",
      "source": [
        "data_path = \"/content/drive/MyDrive/dataset.csv\" #@param {type:\"string\"}\n",
        "text_column_name = \"email\" #@param {type:\"string\"}\n",
        "label_column_name = \"category\" #@param {type:\"string\"}\n",
        "\n",
        "model_name = \"distilbert-base-uncased\" #@param {type:\"string\"}\n",
        "test_size = 0.2 #@param {type:\"number\"}\n",
        "num_labels = 2 #@param {type:\"number\"}"
      ],
      "metadata": {
        "id": "rNU-0goehOtm"
      },
      "execution_count": null,
      "outputs": []
    },
    {
      "cell_type": "code",
      "source": [],
      "metadata": {
        "id": "St-g9ZYH2ar7"
      },
      "execution_count": null,
      "outputs": []
    },
    {
      "cell_type": "markdown",
      "source": [
        "# 2. Read and Prepare the Dataset"
      ],
      "metadata": {
        "id": "OK6fvr6rFdQf"
      }
    },
    {
      "cell_type": "code",
      "source": [
        "import pandas as pd"
      ],
      "metadata": {
        "id": "XY5zlDmZtPtS"
      },
      "execution_count": null,
      "outputs": []
    },
    {
      "cell_type": "code",
      "source": [
        "df = pd.read_csv(data_path)"
      ],
      "metadata": {
        "id": "kdpGJIfQDEX5"
      },
      "execution_count": null,
      "outputs": []
    },
    {
      "cell_type": "code",
      "source": [
        "df.head()"
      ],
      "metadata": {
        "id": "kVmAn6vSFg-v",
        "colab": {
          "base_uri": "https://localhost:8080/",
          "height": 206
        },
        "outputId": "eab34962-785a-4813-e567-4cc57b23dd81"
      },
      "execution_count": null,
      "outputs": [
        {
          "output_type": "execute_result",
          "data": {
            "text/plain": [
              "                                               email  category\n",
              "0  URL: http://www.newsisfree.com/click/-1,817167...  not-spam\n",
              "1  On Thu, 19 Sep 2002, Bill Stoddard wrote:\\n\\n-...  not-spam\n",
              "2  Dan Kohn <dan@dankohn.com> writes:\\n\\n\\n\\n> Gu...  not-spam\n",
              "3  wintermute wrote:\\n\\n>>Anyone know where in Ir...  not-spam\n",
              "4  I attended the same conference, and was impres...  not-spam"
            ],
            "text/html": [
              "\n",
              "  <div id=\"df-2e30b6c4-a14d-4d8b-b4b3-579ab6911a34\" class=\"colab-df-container\">\n",
              "    <div>\n",
              "<style scoped>\n",
              "    .dataframe tbody tr th:only-of-type {\n",
              "        vertical-align: middle;\n",
              "    }\n",
              "\n",
              "    .dataframe tbody tr th {\n",
              "        vertical-align: top;\n",
              "    }\n",
              "\n",
              "    .dataframe thead th {\n",
              "        text-align: right;\n",
              "    }\n",
              "</style>\n",
              "<table border=\"1\" class=\"dataframe\">\n",
              "  <thead>\n",
              "    <tr style=\"text-align: right;\">\n",
              "      <th></th>\n",
              "      <th>email</th>\n",
              "      <th>category</th>\n",
              "    </tr>\n",
              "  </thead>\n",
              "  <tbody>\n",
              "    <tr>\n",
              "      <th>0</th>\n",
              "      <td>URL: http://www.newsisfree.com/click/-1,817167...</td>\n",
              "      <td>not-spam</td>\n",
              "    </tr>\n",
              "    <tr>\n",
              "      <th>1</th>\n",
              "      <td>On Thu, 19 Sep 2002, Bill Stoddard wrote:\\n\\n-...</td>\n",
              "      <td>not-spam</td>\n",
              "    </tr>\n",
              "    <tr>\n",
              "      <th>2</th>\n",
              "      <td>Dan Kohn &lt;dan@dankohn.com&gt; writes:\\n\\n\\n\\n&gt; Gu...</td>\n",
              "      <td>not-spam</td>\n",
              "    </tr>\n",
              "    <tr>\n",
              "      <th>3</th>\n",
              "      <td>wintermute wrote:\\n\\n&gt;&gt;Anyone know where in Ir...</td>\n",
              "      <td>not-spam</td>\n",
              "    </tr>\n",
              "    <tr>\n",
              "      <th>4</th>\n",
              "      <td>I attended the same conference, and was impres...</td>\n",
              "      <td>not-spam</td>\n",
              "    </tr>\n",
              "  </tbody>\n",
              "</table>\n",
              "</div>\n",
              "    <div class=\"colab-df-buttons\">\n",
              "\n",
              "  <div class=\"colab-df-container\">\n",
              "    <button class=\"colab-df-convert\" onclick=\"convertToInteractive('df-2e30b6c4-a14d-4d8b-b4b3-579ab6911a34')\"\n",
              "            title=\"Convert this dataframe to an interactive table.\"\n",
              "            style=\"display:none;\">\n",
              "\n",
              "  <svg xmlns=\"http://www.w3.org/2000/svg\" height=\"24px\" viewBox=\"0 -960 960 960\">\n",
              "    <path d=\"M120-120v-720h720v720H120Zm60-500h600v-160H180v160Zm220 220h160v-160H400v160Zm0 220h160v-160H400v160ZM180-400h160v-160H180v160Zm440 0h160v-160H620v160ZM180-180h160v-160H180v160Zm440 0h160v-160H620v160Z\"/>\n",
              "  </svg>\n",
              "    </button>\n",
              "\n",
              "  <style>\n",
              "    .colab-df-container {\n",
              "      display:flex;\n",
              "      gap: 12px;\n",
              "    }\n",
              "\n",
              "    .colab-df-convert {\n",
              "      background-color: #E8F0FE;\n",
              "      border: none;\n",
              "      border-radius: 50%;\n",
              "      cursor: pointer;\n",
              "      display: none;\n",
              "      fill: #1967D2;\n",
              "      height: 32px;\n",
              "      padding: 0 0 0 0;\n",
              "      width: 32px;\n",
              "    }\n",
              "\n",
              "    .colab-df-convert:hover {\n",
              "      background-color: #E2EBFA;\n",
              "      box-shadow: 0px 1px 2px rgba(60, 64, 67, 0.3), 0px 1px 3px 1px rgba(60, 64, 67, 0.15);\n",
              "      fill: #174EA6;\n",
              "    }\n",
              "\n",
              "    .colab-df-buttons div {\n",
              "      margin-bottom: 4px;\n",
              "    }\n",
              "\n",
              "    [theme=dark] .colab-df-convert {\n",
              "      background-color: #3B4455;\n",
              "      fill: #D2E3FC;\n",
              "    }\n",
              "\n",
              "    [theme=dark] .colab-df-convert:hover {\n",
              "      background-color: #434B5C;\n",
              "      box-shadow: 0px 1px 3px 1px rgba(0, 0, 0, 0.15);\n",
              "      filter: drop-shadow(0px 1px 2px rgba(0, 0, 0, 0.3));\n",
              "      fill: #FFFFFF;\n",
              "    }\n",
              "  </style>\n",
              "\n",
              "    <script>\n",
              "      const buttonEl =\n",
              "        document.querySelector('#df-2e30b6c4-a14d-4d8b-b4b3-579ab6911a34 button.colab-df-convert');\n",
              "      buttonEl.style.display =\n",
              "        google.colab.kernel.accessAllowed ? 'block' : 'none';\n",
              "\n",
              "      async function convertToInteractive(key) {\n",
              "        const element = document.querySelector('#df-2e30b6c4-a14d-4d8b-b4b3-579ab6911a34');\n",
              "        const dataTable =\n",
              "          await google.colab.kernel.invokeFunction('convertToInteractive',\n",
              "                                                    [key], {});\n",
              "        if (!dataTable) return;\n",
              "\n",
              "        const docLinkHtml = 'Like what you see? Visit the ' +\n",
              "          '<a target=\"_blank\" href=https://colab.research.google.com/notebooks/data_table.ipynb>data table notebook</a>'\n",
              "          + ' to learn more about interactive tables.';\n",
              "        element.innerHTML = '';\n",
              "        dataTable['output_type'] = 'display_data';\n",
              "        await google.colab.output.renderOutput(dataTable, element);\n",
              "        const docLink = document.createElement('div');\n",
              "        docLink.innerHTML = docLinkHtml;\n",
              "        element.appendChild(docLink);\n",
              "      }\n",
              "    </script>\n",
              "  </div>\n",
              "\n",
              "\n",
              "<div id=\"df-f852c2b7-a651-43b6-9d30-449ccd4ecfbf\">\n",
              "  <button class=\"colab-df-quickchart\" onclick=\"quickchart('df-f852c2b7-a651-43b6-9d30-449ccd4ecfbf')\"\n",
              "            title=\"Suggest charts\"\n",
              "            style=\"display:none;\">\n",
              "\n",
              "<svg xmlns=\"http://www.w3.org/2000/svg\" height=\"24px\"viewBox=\"0 0 24 24\"\n",
              "     width=\"24px\">\n",
              "    <g>\n",
              "        <path d=\"M19 3H5c-1.1 0-2 .9-2 2v14c0 1.1.9 2 2 2h14c1.1 0 2-.9 2-2V5c0-1.1-.9-2-2-2zM9 17H7v-7h2v7zm4 0h-2V7h2v10zm4 0h-2v-4h2v4z\"/>\n",
              "    </g>\n",
              "</svg>\n",
              "  </button>\n",
              "\n",
              "<style>\n",
              "  .colab-df-quickchart {\n",
              "      --bg-color: #E8F0FE;\n",
              "      --fill-color: #1967D2;\n",
              "      --hover-bg-color: #E2EBFA;\n",
              "      --hover-fill-color: #174EA6;\n",
              "      --disabled-fill-color: #AAA;\n",
              "      --disabled-bg-color: #DDD;\n",
              "  }\n",
              "\n",
              "  [theme=dark] .colab-df-quickchart {\n",
              "      --bg-color: #3B4455;\n",
              "      --fill-color: #D2E3FC;\n",
              "      --hover-bg-color: #434B5C;\n",
              "      --hover-fill-color: #FFFFFF;\n",
              "      --disabled-bg-color: #3B4455;\n",
              "      --disabled-fill-color: #666;\n",
              "  }\n",
              "\n",
              "  .colab-df-quickchart {\n",
              "    background-color: var(--bg-color);\n",
              "    border: none;\n",
              "    border-radius: 50%;\n",
              "    cursor: pointer;\n",
              "    display: none;\n",
              "    fill: var(--fill-color);\n",
              "    height: 32px;\n",
              "    padding: 0;\n",
              "    width: 32px;\n",
              "  }\n",
              "\n",
              "  .colab-df-quickchart:hover {\n",
              "    background-color: var(--hover-bg-color);\n",
              "    box-shadow: 0 1px 2px rgba(60, 64, 67, 0.3), 0 1px 3px 1px rgba(60, 64, 67, 0.15);\n",
              "    fill: var(--button-hover-fill-color);\n",
              "  }\n",
              "\n",
              "  .colab-df-quickchart-complete:disabled,\n",
              "  .colab-df-quickchart-complete:disabled:hover {\n",
              "    background-color: var(--disabled-bg-color);\n",
              "    fill: var(--disabled-fill-color);\n",
              "    box-shadow: none;\n",
              "  }\n",
              "\n",
              "  .colab-df-spinner {\n",
              "    border: 2px solid var(--fill-color);\n",
              "    border-color: transparent;\n",
              "    border-bottom-color: var(--fill-color);\n",
              "    animation:\n",
              "      spin 1s steps(1) infinite;\n",
              "  }\n",
              "\n",
              "  @keyframes spin {\n",
              "    0% {\n",
              "      border-color: transparent;\n",
              "      border-bottom-color: var(--fill-color);\n",
              "      border-left-color: var(--fill-color);\n",
              "    }\n",
              "    20% {\n",
              "      border-color: transparent;\n",
              "      border-left-color: var(--fill-color);\n",
              "      border-top-color: var(--fill-color);\n",
              "    }\n",
              "    30% {\n",
              "      border-color: transparent;\n",
              "      border-left-color: var(--fill-color);\n",
              "      border-top-color: var(--fill-color);\n",
              "      border-right-color: var(--fill-color);\n",
              "    }\n",
              "    40% {\n",
              "      border-color: transparent;\n",
              "      border-right-color: var(--fill-color);\n",
              "      border-top-color: var(--fill-color);\n",
              "    }\n",
              "    60% {\n",
              "      border-color: transparent;\n",
              "      border-right-color: var(--fill-color);\n",
              "    }\n",
              "    80% {\n",
              "      border-color: transparent;\n",
              "      border-right-color: var(--fill-color);\n",
              "      border-bottom-color: var(--fill-color);\n",
              "    }\n",
              "    90% {\n",
              "      border-color: transparent;\n",
              "      border-bottom-color: var(--fill-color);\n",
              "    }\n",
              "  }\n",
              "</style>\n",
              "\n",
              "  <script>\n",
              "    async function quickchart(key) {\n",
              "      const quickchartButtonEl =\n",
              "        document.querySelector('#' + key + ' button');\n",
              "      quickchartButtonEl.disabled = true;  // To prevent multiple clicks.\n",
              "      quickchartButtonEl.classList.add('colab-df-spinner');\n",
              "      try {\n",
              "        const charts = await google.colab.kernel.invokeFunction(\n",
              "            'suggestCharts', [key], {});\n",
              "      } catch (error) {\n",
              "        console.error('Error during call to suggestCharts:', error);\n",
              "      }\n",
              "      quickchartButtonEl.classList.remove('colab-df-spinner');\n",
              "      quickchartButtonEl.classList.add('colab-df-quickchart-complete');\n",
              "    }\n",
              "    (() => {\n",
              "      let quickchartButtonEl =\n",
              "        document.querySelector('#df-f852c2b7-a651-43b6-9d30-449ccd4ecfbf button');\n",
              "      quickchartButtonEl.style.display =\n",
              "        google.colab.kernel.accessAllowed ? 'block' : 'none';\n",
              "    })();\n",
              "  </script>\n",
              "</div>\n",
              "\n",
              "    </div>\n",
              "  </div>\n"
            ],
            "application/vnd.google.colaboratory.intrinsic+json": {
              "type": "dataframe",
              "variable_name": "df",
              "summary": "{\n  \"name\": \"df\",\n  \"rows\": 3796,\n  \"fields\": [\n    {\n      \"column\": \"email\",\n      \"properties\": {\n        \"dtype\": \"string\",\n        \"num_unique_values\": 3654,\n        \"samples\": [\n          \">>>>> \\\"E\\\" == Eirikur Hallgrimsson <eh@mad.scientist.com> writes:\\n\\n\\n\\n    E> Absolutely, and I've wanted to recapture it.  \\n\\n\\n\\nI don't know about this /particular/ mood, but I have used\\n\\nneuro-conditioning with aiding children in stressful\\n\\nlife-circumstances.\\n\\n\\n\\nBasically, you somehow evoke the state you want, and when you get it,\\n\\nyou do something odd, anything at all will do, but I used a gentle\\n\\n\\\"vulcan grip\\\" on their shoulder.  Later, when faced with the\\n\\nuncomfortable situation, you can retrieve /part/ of that earlier more\\n\\ndesireable state by giving them the pinch; it's not perfect (like you\\n\\nget with simpler brains) but it is an inescapable effect.\\n\\n\\n\\nThis is probably the neuro-effect that leads to performance-enhancing\\n\\nsuperstitions such as Bob Dylan not performing without his favourite\\n\\njean jacket: Because it provides the cue to a more relaxed mental\\n\\nstate, he really does play better with it than without it.\\n\\n\\n\\n-- \\n\\nGary Lawrence Murphy <garym@teledyn.com> TeleDynamics Communications Inc\\n\\n Business Advantage through Community Software : http://www.teledyn.com\\n\\n\\\"Computers are useless.  They can only give you answers.\\\"(Pablo Picasso)\\n\\n\\n\\n\\n\",\n          \"URL: http://diveintomark.org/archives/2002/10/07.html#my_good_easy\\n\\nDate: 2002-10-07T17:59:05-05:00\\n\\n\\n\\n_Joe Gregorio_: My next pet project[1]. &#8220;Trying to re-create the \\\"Good \\n\\nEasy[2]\\\" on a Windows machine.&#8221; I have also made half-hearted attempts in \\n\\nthis direction, as I am forced to use Windows during the day. I say \\n\\nhalf-hearted because I'm still application-centric, and I don't go as far with \\n\\nkeyboard shortcuts as I could. But I don't use the desktop at all (never have, \\n\\non any system), and I don't use ctrl alt keyboard shortcuts because I \\n\\npersonally find them awkward (YMMV). If you must use Windows, the first step \\n\\ntowards a productive system is managing your Start menu. \\n\\n\\n\\nI use the main level of the Start menu with numbered shortcuts to my most \\n\\ncommon programs. \\\"0 Control Panel[3]\\\", \\\"1 Mozilla[4]\\\", \\\"2 Emacs[5]\\\", \\\"3 DOS \\n\\nhome\\\", \\\"4 DOS work\\\", \\\"5 DOS incoming\\\" (each of which gives me a command line, \\n\\nbut in different directories), \\\"7 Python[6]\\\", \\\"9 IE\\\". Also \\\"# Explorer home\\\", \\n\\n\\\"$ Explorer work\\\", \\\"% Explorer incoming\\\", which open Explorer windows in \\n\\nvarious useful directories (the same directories as the DOS shortcuts, only \\n\\nwith the shift key held down, and yes, I intentionally set it up so that $ went \\n\\nto my work folder). Less-used programs are taken out of their useless submenus \\n\\n(as installed) and moved directly into the Programs submenu and given unique \\n\\nfirst letters as needed. \\\"Ad-aware[7]\\\", \\\"Excel[8]\\\", \\\"IM\\\", \\\"Netscape 4[9]\\\", \\n\\n\\\"Paint Shop Pro\\\", \\\"Query Tool (ODBC)[10]\\\", \\\"VMWare[11]\\\", \\\"Word[12]\\\". All other \\n\\nsubmenus except Startup are removed from the Programs menu. (Yes, delete \\n\\n\\\"Accessories\\\". Do you honestly ever use it? If so, it's probably a sign of a \\n\\nlarger productivity problem.) Things which never need to be run manually (like \\n\\nWinZip and Quicktime) are removed from the Programs menu. Maintaining a clean \\n\\nPrograms menu is an ongoing struggle, but well worth it. \\n\\n\\n\\nOn most modern keyboards, there is a key next to your left alt key that opens \\n\\nthe start menu, which you can press with your left thumb without taking your \\n\\nfingers off the home keys. Otherwise ctrl esc always works. Menu 4 gives me a \\n\\nnew command prompt in my work directory. Menu P N runs Netscape 4 (for \\n\\ncompatibility testing in my day job, ugh). Mozilla and Emacs are almost always \\n\\nopen, but I quit lesser-used applications as soon as I'm done using them \\n\\n(mostly because my laptop doesn't have a lot of memory). \\n\\n\\n\\nI install Cygwin[13] so that the command line is actually useful. Cygwin is a \\n\\ncollection of Windows ports of all your favorite UNIX utilities, including mv, \\n\\ncp, scp, ssh, man, tar, less, grep, patch, ncftp, cvs, and many others. And \\n\\nbash, which I don't use because I dislike how it handles Windows pathnames. I \\n\\nalso set the properties of my command line shortcuts to set the window size to \\n\\n120 x 50 (almost full screen at 1024 x 768), and screen buffer size to 120 x \\n\\n3000. Set window position at 0 x 0, and don't let the system position the \\n\\nwindow. \\n\\n\\n\\nIn Mozilla, I set my home page to \\\"about:blank\\\", set Internet Search to search \\n\\nwith Google, use Tabbed Browsing, open tabs instead of windows in all possible \\n\\ncases, always show the tab bar, and load links in the background (essential for \\n\\nweblog surfing, you can ctrl click links to open them in new tabs in the \\n\\nbackground). Under Scripts & Plugins, I do not allow scripts to open \\n\\nunrequested windows. I turn off the sidebar, turn on the Site Navigation Bar, \\n\\ndelete all pre-installed bookmarks, and create two bookmarks: one which takes \\n\\nme to my webmail, and another which takes me to my internal site search[14], \\n\\nfrom which I can find all other bookmarks I need. \\n\\n\\n\\nIn Internet Explorer, I set my home page to the page to edit my weblog, since \\n\\nthat's the only thing I do in Internet Explorer. alt tab back and forth between \\n\\nMozilla and IE is easier than ctrl pgup/pgdown between tabs within Mozilla, \\n\\nsince TEXTAREAs in Mozilla lose focus when you switch tabs, making copying and \\n\\npasting weblog entries virtually impossible. \\n\\n\\n\\nI use Emacs locally and vi remotely, because the default behavior of Emacs is \\n\\nso heinous as to render it unusable. (For instance, editing a CGI script named \\n\\nfoo.cgi on a web server with Emacs would generate a foo.cgi~ backup file, which \\n\\nis world-readable and is sent as plain text to any browser that asks. Try this \\n\\nsometime on your favorite web site.) Among other things, my .emacs file (which \\n\\nis actually called _emacs on Windows) instructs Emacs to store all backup files \\n\\nin a single directory (d:\\\\backup); to treat all XML files as DocBook, all CGI \\n\\nscripts as Python, and all SQL scripts as PL/SQL; to use Cygwin's bash shell \\n\\nfor M-x-shell; to use a single maximized frame with no menubar, titled as the \\n\\nname of the current file; to show column numbers; to accept \\\"y\\\" and \\\"n\\\" for \\n\\nyes/no questions; not to blink; not to beep; and to close the current file when \\n\\nI press M-w. I use some weird registry hacks and a hacked notepad.exe to get \\n\\nall text files to open in Emacs. (I got this idea from Ultraedit[15].) My \\n\\n_emacs file is my second most backed-up possession. \\n\\n\\n\\nI don't use Windows' useless directory structure for user home directories. On \\n\\nmy D drive I have d:\\\\home (contains directories for my books and other personal \\n\\nprojects, each under CVS control&#8212;also set as my home directory using the \\n\\nHOME environment variable), d:\\\\work (contains directories for each work \\n\\nproject, also under CVS), d:\\\\incoming (set as default download directory for \\n\\nall programs that download things), and d:\\\\backup (used by Emacs, and for \\n\\ntemporary storage, for instance for storing originals when checking out newly \\n\\ncreated CVS projects). I don't know or care what's where on my C drive. \\n\\n\\n\\nI have tried many, many address books, and still store all my contacts, email \\n\\naddresses, snail mail addresses, phone numbers, and other vital personal \\n\\ninformation in a text file called phone, stored in d:\\\\home\\\\phone. It is not in \\n\\nany particular format, other than being plain text and usually including blank \\n\\nlines between entries. I categorize people with simple keywords in parentheses \\n\\nafter their name, and use M-x-occur in Emacs to search by keyword. This file is \\n\\nmy single most backed-up possession. \\n\\n\\n\\nOther essential free Windows utilities I use (in no particular order): TweakUI\\n\\n[16], Cygwin[17], Guidescope[18], ZoneAlarm[19].\\n\\n\\n\\n\\n\\n\\n\\n[1]  http://bitworking.org/Oct2002.html#X631695997519494480\\n\\n[2]  http://www.winterspeak.com/columns/082001.html\\n\\n[3]  http://www.annoyances.org/exec/show/article02-013\\n\\n[4]  http://www.mozilla.org/\\n\\n[5]  http://www.gnu.org/software/emacs/windows/ntemacs.html\\n\\n[6]  http://www.activestate.com/Products/ActivePython/\\n\\n[7]  http://www.lavasoftusa.com/\\n\\n[8]  http://www.openoffice.org/\\n\\n[9]  http://sillydog.org/narchive/\\n\\n[10] http://gpoulose.home.att.net/\\n\\n[11] http://www.vmware.com/\\n\\n[12] http://www.openoffice.org/\\n\\n[13] http://www.cygwin.com/\\n\\n[14] http://diveintomark.org/mt/mt-search.cgi\\n\\n[15] http://www.ultraedit.com/downloads/index.html#notepad\\n\\n     Replacing Notepad with Ultraedit-32\\n\\n[16] http://www.microsoft.com/ntworkstation/downloads/PowerToys/Networking/NTTweakUI.asp\\n\\n[17] http://www.cygwin.com/\\n\\n[18] http://www.guidescope.com/\\n\\n[19] http://download.com.com/3000-2092-10039884.html?part=zonealarm&subj=dlpage\\n\\n\\n\\n\\n\",\n          \"Apologies all.  I have comitted a cardinal sin by not specifying that this\\n\\nwas for a windows machine.\\n\\n\\n\\n\\n\\n----- Original Message -----\\n\\nFrom: \\\"Kenn Humborg\\\" <kenn@bluetree.ie>\\n\\nTo: \\\"David Crozier\\\" <davidcrozier@hotmail.com>\\n\\nCc: <ilug@linux.ie>\\n\\nSent: Friday, August 16, 2002 1:51 PM\\n\\nSubject: RE: [ILUG] Autorun CDs\\n\\n\\n\\n\\n\\n> > Cheers All for your words of wisdom.\\n\\n> >\\n\\n> > I came across this which has worked a treat:-\\n\\n> >\\n\\n> > http://www.avdf.com/mar97/art_autorun.html\\n\\n>\\n\\n> (This is all Windows-related autorun stuff).\\n\\n>\\n\\n> So why did you waste the time of those who looked\\n\\n> up Linux-related info for you?  If you said that it\\n\\n> was for Windows, you'd probably have gotten both\\n\\n> more relevant answers and flames for asking this on\\n\\n> a _Linux_ mailing list.\\n\\n>\\n\\n> Sheesh...\\n\\n>\\n\\n> Later,\\n\\n> Kenn\\n\\n>\\n\\n\\n\\n-- \\n\\nIrish Linux Users' Group: ilug@linux.ie\\n\\nhttp://www.linux.ie/mailman/listinfo/ilug for (un)subscription information.\\n\\nList maintainer: listmaster@linux.ie\\n\\n\\n\"\n        ],\n        \"semantic_type\": \"\",\n        \"description\": \"\"\n      }\n    },\n    {\n      \"column\": \"category\",\n      \"properties\": {\n        \"dtype\": \"category\",\n        \"num_unique_values\": 2,\n        \"samples\": [\n          \"spam\",\n          \"not-spam\"\n        ],\n        \"semantic_type\": \"\",\n        \"description\": \"\"\n      }\n    }\n  ]\n}"
            }
          },
          "metadata": {},
          "execution_count": 9
        }
      ]
    },
    {
      "cell_type": "code",
      "source": [],
      "metadata": {
        "id": "IMZjdLqTnL7J"
      },
      "execution_count": null,
      "outputs": []
    },
    {
      "cell_type": "markdown",
      "source": [
        "### Clean Dataset"
      ],
      "metadata": {
        "id": "y0jYMs1EDi_Z"
      }
    },
    {
      "cell_type": "code",
      "source": [
        "from bs4 import BeautifulSoup"
      ],
      "metadata": {
        "id": "Zy_nVRtKtNC0"
      },
      "execution_count": null,
      "outputs": []
    },
    {
      "cell_type": "code",
      "source": [
        "class Cleaner():\n",
        "  def __init__(self):\n",
        "    pass\n",
        "  def put_line_breaks(self,text):\n",
        "    text = text.replace('</p>','</p>\\n')\n",
        "    return text\n",
        "  def remove_html_tags(self,text):\n",
        "    cleantext = BeautifulSoup(text, \"lxml\").text\n",
        "    return cleantext\n",
        "  def clean(self,text):\n",
        "    text = self.put_line_breaks(text)\n",
        "    text = self.remove_html_tags(text)\n",
        "    return text"
      ],
      "metadata": {
        "id": "cgD2GdJUNKdU"
      },
      "execution_count": null,
      "outputs": []
    },
    {
      "cell_type": "code",
      "source": [],
      "metadata": {
        "id": "2ExaYmfPNKbB"
      },
      "execution_count": null,
      "outputs": []
    },
    {
      "cell_type": "code",
      "source": [
        "cleaner = Cleaner()\n",
        "df['text_cleaned'] = df[text_column_name].apply(cleaner.clean)"
      ],
      "metadata": {
        "id": "FGZLwuEXN0Ks"
      },
      "execution_count": null,
      "outputs": []
    },
    {
      "cell_type": "code",
      "source": [
        "df.head()"
      ],
      "metadata": {
        "id": "PA2BCrHRbRXo",
        "colab": {
          "base_uri": "https://localhost:8080/",
          "height": 206
        },
        "outputId": "27d7c36e-4fa3-40ea-d0f4-b751988d7d2b"
      },
      "execution_count": null,
      "outputs": [
        {
          "output_type": "execute_result",
          "data": {
            "text/plain": [
              "                                               email  category  \\\n",
              "0  URL: http://www.newsisfree.com/click/-1,817167...  not-spam   \n",
              "1  On Thu, 19 Sep 2002, Bill Stoddard wrote:\\n\\n-...  not-spam   \n",
              "2  Dan Kohn <dan@dankohn.com> writes:\\n\\n\\n\\n> Gu...  not-spam   \n",
              "3  wintermute wrote:\\n\\n>>Anyone know where in Ir...  not-spam   \n",
              "4  I attended the same conference, and was impres...  not-spam   \n",
              "\n",
              "                                        text_cleaned  \n",
              "0  URL: http://www.newsisfree.com/click/-1,817167...  \n",
              "1  On Thu, 19 Sep 2002, Bill Stoddard wrote:\\n\\n-...  \n",
              "2  Dan Kohn  writes:\\n\\n\\n\\n> Guys, the Habeas In...  \n",
              "3  wintermute wrote:\\n\\n>>Anyone know where in Ir...  \n",
              "4  I attended the same conference, and was impres...  "
            ],
            "text/html": [
              "\n",
              "  <div id=\"df-6c5818c4-0633-41eb-baef-965c26b4b6f0\" class=\"colab-df-container\">\n",
              "    <div>\n",
              "<style scoped>\n",
              "    .dataframe tbody tr th:only-of-type {\n",
              "        vertical-align: middle;\n",
              "    }\n",
              "\n",
              "    .dataframe tbody tr th {\n",
              "        vertical-align: top;\n",
              "    }\n",
              "\n",
              "    .dataframe thead th {\n",
              "        text-align: right;\n",
              "    }\n",
              "</style>\n",
              "<table border=\"1\" class=\"dataframe\">\n",
              "  <thead>\n",
              "    <tr style=\"text-align: right;\">\n",
              "      <th></th>\n",
              "      <th>email</th>\n",
              "      <th>category</th>\n",
              "      <th>text_cleaned</th>\n",
              "    </tr>\n",
              "  </thead>\n",
              "  <tbody>\n",
              "    <tr>\n",
              "      <th>0</th>\n",
              "      <td>URL: http://www.newsisfree.com/click/-1,817167...</td>\n",
              "      <td>not-spam</td>\n",
              "      <td>URL: http://www.newsisfree.com/click/-1,817167...</td>\n",
              "    </tr>\n",
              "    <tr>\n",
              "      <th>1</th>\n",
              "      <td>On Thu, 19 Sep 2002, Bill Stoddard wrote:\\n\\n-...</td>\n",
              "      <td>not-spam</td>\n",
              "      <td>On Thu, 19 Sep 2002, Bill Stoddard wrote:\\n\\n-...</td>\n",
              "    </tr>\n",
              "    <tr>\n",
              "      <th>2</th>\n",
              "      <td>Dan Kohn &lt;dan@dankohn.com&gt; writes:\\n\\n\\n\\n&gt; Gu...</td>\n",
              "      <td>not-spam</td>\n",
              "      <td>Dan Kohn  writes:\\n\\n\\n\\n&gt; Guys, the Habeas In...</td>\n",
              "    </tr>\n",
              "    <tr>\n",
              "      <th>3</th>\n",
              "      <td>wintermute wrote:\\n\\n&gt;&gt;Anyone know where in Ir...</td>\n",
              "      <td>not-spam</td>\n",
              "      <td>wintermute wrote:\\n\\n&gt;&gt;Anyone know where in Ir...</td>\n",
              "    </tr>\n",
              "    <tr>\n",
              "      <th>4</th>\n",
              "      <td>I attended the same conference, and was impres...</td>\n",
              "      <td>not-spam</td>\n",
              "      <td>I attended the same conference, and was impres...</td>\n",
              "    </tr>\n",
              "  </tbody>\n",
              "</table>\n",
              "</div>\n",
              "    <div class=\"colab-df-buttons\">\n",
              "\n",
              "  <div class=\"colab-df-container\">\n",
              "    <button class=\"colab-df-convert\" onclick=\"convertToInteractive('df-6c5818c4-0633-41eb-baef-965c26b4b6f0')\"\n",
              "            title=\"Convert this dataframe to an interactive table.\"\n",
              "            style=\"display:none;\">\n",
              "\n",
              "  <svg xmlns=\"http://www.w3.org/2000/svg\" height=\"24px\" viewBox=\"0 -960 960 960\">\n",
              "    <path d=\"M120-120v-720h720v720H120Zm60-500h600v-160H180v160Zm220 220h160v-160H400v160Zm0 220h160v-160H400v160ZM180-400h160v-160H180v160Zm440 0h160v-160H620v160ZM180-180h160v-160H180v160Zm440 0h160v-160H620v160Z\"/>\n",
              "  </svg>\n",
              "    </button>\n",
              "\n",
              "  <style>\n",
              "    .colab-df-container {\n",
              "      display:flex;\n",
              "      gap: 12px;\n",
              "    }\n",
              "\n",
              "    .colab-df-convert {\n",
              "      background-color: #E8F0FE;\n",
              "      border: none;\n",
              "      border-radius: 50%;\n",
              "      cursor: pointer;\n",
              "      display: none;\n",
              "      fill: #1967D2;\n",
              "      height: 32px;\n",
              "      padding: 0 0 0 0;\n",
              "      width: 32px;\n",
              "    }\n",
              "\n",
              "    .colab-df-convert:hover {\n",
              "      background-color: #E2EBFA;\n",
              "      box-shadow: 0px 1px 2px rgba(60, 64, 67, 0.3), 0px 1px 3px 1px rgba(60, 64, 67, 0.15);\n",
              "      fill: #174EA6;\n",
              "    }\n",
              "\n",
              "    .colab-df-buttons div {\n",
              "      margin-bottom: 4px;\n",
              "    }\n",
              "\n",
              "    [theme=dark] .colab-df-convert {\n",
              "      background-color: #3B4455;\n",
              "      fill: #D2E3FC;\n",
              "    }\n",
              "\n",
              "    [theme=dark] .colab-df-convert:hover {\n",
              "      background-color: #434B5C;\n",
              "      box-shadow: 0px 1px 3px 1px rgba(0, 0, 0, 0.15);\n",
              "      filter: drop-shadow(0px 1px 2px rgba(0, 0, 0, 0.3));\n",
              "      fill: #FFFFFF;\n",
              "    }\n",
              "  </style>\n",
              "\n",
              "    <script>\n",
              "      const buttonEl =\n",
              "        document.querySelector('#df-6c5818c4-0633-41eb-baef-965c26b4b6f0 button.colab-df-convert');\n",
              "      buttonEl.style.display =\n",
              "        google.colab.kernel.accessAllowed ? 'block' : 'none';\n",
              "\n",
              "      async function convertToInteractive(key) {\n",
              "        const element = document.querySelector('#df-6c5818c4-0633-41eb-baef-965c26b4b6f0');\n",
              "        const dataTable =\n",
              "          await google.colab.kernel.invokeFunction('convertToInteractive',\n",
              "                                                    [key], {});\n",
              "        if (!dataTable) return;\n",
              "\n",
              "        const docLinkHtml = 'Like what you see? Visit the ' +\n",
              "          '<a target=\"_blank\" href=https://colab.research.google.com/notebooks/data_table.ipynb>data table notebook</a>'\n",
              "          + ' to learn more about interactive tables.';\n",
              "        element.innerHTML = '';\n",
              "        dataTable['output_type'] = 'display_data';\n",
              "        await google.colab.output.renderOutput(dataTable, element);\n",
              "        const docLink = document.createElement('div');\n",
              "        docLink.innerHTML = docLinkHtml;\n",
              "        element.appendChild(docLink);\n",
              "      }\n",
              "    </script>\n",
              "  </div>\n",
              "\n",
              "\n",
              "<div id=\"df-1e95bb3f-95c6-4073-a026-d1eecad88934\">\n",
              "  <button class=\"colab-df-quickchart\" onclick=\"quickchart('df-1e95bb3f-95c6-4073-a026-d1eecad88934')\"\n",
              "            title=\"Suggest charts\"\n",
              "            style=\"display:none;\">\n",
              "\n",
              "<svg xmlns=\"http://www.w3.org/2000/svg\" height=\"24px\"viewBox=\"0 0 24 24\"\n",
              "     width=\"24px\">\n",
              "    <g>\n",
              "        <path d=\"M19 3H5c-1.1 0-2 .9-2 2v14c0 1.1.9 2 2 2h14c1.1 0 2-.9 2-2V5c0-1.1-.9-2-2-2zM9 17H7v-7h2v7zm4 0h-2V7h2v10zm4 0h-2v-4h2v4z\"/>\n",
              "    </g>\n",
              "</svg>\n",
              "  </button>\n",
              "\n",
              "<style>\n",
              "  .colab-df-quickchart {\n",
              "      --bg-color: #E8F0FE;\n",
              "      --fill-color: #1967D2;\n",
              "      --hover-bg-color: #E2EBFA;\n",
              "      --hover-fill-color: #174EA6;\n",
              "      --disabled-fill-color: #AAA;\n",
              "      --disabled-bg-color: #DDD;\n",
              "  }\n",
              "\n",
              "  [theme=dark] .colab-df-quickchart {\n",
              "      --bg-color: #3B4455;\n",
              "      --fill-color: #D2E3FC;\n",
              "      --hover-bg-color: #434B5C;\n",
              "      --hover-fill-color: #FFFFFF;\n",
              "      --disabled-bg-color: #3B4455;\n",
              "      --disabled-fill-color: #666;\n",
              "  }\n",
              "\n",
              "  .colab-df-quickchart {\n",
              "    background-color: var(--bg-color);\n",
              "    border: none;\n",
              "    border-radius: 50%;\n",
              "    cursor: pointer;\n",
              "    display: none;\n",
              "    fill: var(--fill-color);\n",
              "    height: 32px;\n",
              "    padding: 0;\n",
              "    width: 32px;\n",
              "  }\n",
              "\n",
              "  .colab-df-quickchart:hover {\n",
              "    background-color: var(--hover-bg-color);\n",
              "    box-shadow: 0 1px 2px rgba(60, 64, 67, 0.3), 0 1px 3px 1px rgba(60, 64, 67, 0.15);\n",
              "    fill: var(--button-hover-fill-color);\n",
              "  }\n",
              "\n",
              "  .colab-df-quickchart-complete:disabled,\n",
              "  .colab-df-quickchart-complete:disabled:hover {\n",
              "    background-color: var(--disabled-bg-color);\n",
              "    fill: var(--disabled-fill-color);\n",
              "    box-shadow: none;\n",
              "  }\n",
              "\n",
              "  .colab-df-spinner {\n",
              "    border: 2px solid var(--fill-color);\n",
              "    border-color: transparent;\n",
              "    border-bottom-color: var(--fill-color);\n",
              "    animation:\n",
              "      spin 1s steps(1) infinite;\n",
              "  }\n",
              "\n",
              "  @keyframes spin {\n",
              "    0% {\n",
              "      border-color: transparent;\n",
              "      border-bottom-color: var(--fill-color);\n",
              "      border-left-color: var(--fill-color);\n",
              "    }\n",
              "    20% {\n",
              "      border-color: transparent;\n",
              "      border-left-color: var(--fill-color);\n",
              "      border-top-color: var(--fill-color);\n",
              "    }\n",
              "    30% {\n",
              "      border-color: transparent;\n",
              "      border-left-color: var(--fill-color);\n",
              "      border-top-color: var(--fill-color);\n",
              "      border-right-color: var(--fill-color);\n",
              "    }\n",
              "    40% {\n",
              "      border-color: transparent;\n",
              "      border-right-color: var(--fill-color);\n",
              "      border-top-color: var(--fill-color);\n",
              "    }\n",
              "    60% {\n",
              "      border-color: transparent;\n",
              "      border-right-color: var(--fill-color);\n",
              "    }\n",
              "    80% {\n",
              "      border-color: transparent;\n",
              "      border-right-color: var(--fill-color);\n",
              "      border-bottom-color: var(--fill-color);\n",
              "    }\n",
              "    90% {\n",
              "      border-color: transparent;\n",
              "      border-bottom-color: var(--fill-color);\n",
              "    }\n",
              "  }\n",
              "</style>\n",
              "\n",
              "  <script>\n",
              "    async function quickchart(key) {\n",
              "      const quickchartButtonEl =\n",
              "        document.querySelector('#' + key + ' button');\n",
              "      quickchartButtonEl.disabled = true;  // To prevent multiple clicks.\n",
              "      quickchartButtonEl.classList.add('colab-df-spinner');\n",
              "      try {\n",
              "        const charts = await google.colab.kernel.invokeFunction(\n",
              "            'suggestCharts', [key], {});\n",
              "      } catch (error) {\n",
              "        console.error('Error during call to suggestCharts:', error);\n",
              "      }\n",
              "      quickchartButtonEl.classList.remove('colab-df-spinner');\n",
              "      quickchartButtonEl.classList.add('colab-df-quickchart-complete');\n",
              "    }\n",
              "    (() => {\n",
              "      let quickchartButtonEl =\n",
              "        document.querySelector('#df-1e95bb3f-95c6-4073-a026-d1eecad88934 button');\n",
              "      quickchartButtonEl.style.display =\n",
              "        google.colab.kernel.accessAllowed ? 'block' : 'none';\n",
              "    })();\n",
              "  </script>\n",
              "</div>\n",
              "\n",
              "    </div>\n",
              "  </div>\n"
            ],
            "application/vnd.google.colaboratory.intrinsic+json": {
              "type": "dataframe",
              "variable_name": "df",
              "summary": "{\n  \"name\": \"df\",\n  \"rows\": 3796,\n  \"fields\": [\n    {\n      \"column\": \"email\",\n      \"properties\": {\n        \"dtype\": \"string\",\n        \"num_unique_values\": 3654,\n        \"samples\": [\n          \">>>>> \\\"E\\\" == Eirikur Hallgrimsson <eh@mad.scientist.com> writes:\\n\\n\\n\\n    E> Absolutely, and I've wanted to recapture it.  \\n\\n\\n\\nI don't know about this /particular/ mood, but I have used\\n\\nneuro-conditioning with aiding children in stressful\\n\\nlife-circumstances.\\n\\n\\n\\nBasically, you somehow evoke the state you want, and when you get it,\\n\\nyou do something odd, anything at all will do, but I used a gentle\\n\\n\\\"vulcan grip\\\" on their shoulder.  Later, when faced with the\\n\\nuncomfortable situation, you can retrieve /part/ of that earlier more\\n\\ndesireable state by giving them the pinch; it's not perfect (like you\\n\\nget with simpler brains) but it is an inescapable effect.\\n\\n\\n\\nThis is probably the neuro-effect that leads to performance-enhancing\\n\\nsuperstitions such as Bob Dylan not performing without his favourite\\n\\njean jacket: Because it provides the cue to a more relaxed mental\\n\\nstate, he really does play better with it than without it.\\n\\n\\n\\n-- \\n\\nGary Lawrence Murphy <garym@teledyn.com> TeleDynamics Communications Inc\\n\\n Business Advantage through Community Software : http://www.teledyn.com\\n\\n\\\"Computers are useless.  They can only give you answers.\\\"(Pablo Picasso)\\n\\n\\n\\n\\n\",\n          \"URL: http://diveintomark.org/archives/2002/10/07.html#my_good_easy\\n\\nDate: 2002-10-07T17:59:05-05:00\\n\\n\\n\\n_Joe Gregorio_: My next pet project[1]. &#8220;Trying to re-create the \\\"Good \\n\\nEasy[2]\\\" on a Windows machine.&#8221; I have also made half-hearted attempts in \\n\\nthis direction, as I am forced to use Windows during the day. I say \\n\\nhalf-hearted because I'm still application-centric, and I don't go as far with \\n\\nkeyboard shortcuts as I could. But I don't use the desktop at all (never have, \\n\\non any system), and I don't use ctrl alt keyboard shortcuts because I \\n\\npersonally find them awkward (YMMV). If you must use Windows, the first step \\n\\ntowards a productive system is managing your Start menu. \\n\\n\\n\\nI use the main level of the Start menu with numbered shortcuts to my most \\n\\ncommon programs. \\\"0 Control Panel[3]\\\", \\\"1 Mozilla[4]\\\", \\\"2 Emacs[5]\\\", \\\"3 DOS \\n\\nhome\\\", \\\"4 DOS work\\\", \\\"5 DOS incoming\\\" (each of which gives me a command line, \\n\\nbut in different directories), \\\"7 Python[6]\\\", \\\"9 IE\\\". Also \\\"# Explorer home\\\", \\n\\n\\\"$ Explorer work\\\", \\\"% Explorer incoming\\\", which open Explorer windows in \\n\\nvarious useful directories (the same directories as the DOS shortcuts, only \\n\\nwith the shift key held down, and yes, I intentionally set it up so that $ went \\n\\nto my work folder). Less-used programs are taken out of their useless submenus \\n\\n(as installed) and moved directly into the Programs submenu and given unique \\n\\nfirst letters as needed. \\\"Ad-aware[7]\\\", \\\"Excel[8]\\\", \\\"IM\\\", \\\"Netscape 4[9]\\\", \\n\\n\\\"Paint Shop Pro\\\", \\\"Query Tool (ODBC)[10]\\\", \\\"VMWare[11]\\\", \\\"Word[12]\\\". All other \\n\\nsubmenus except Startup are removed from the Programs menu. (Yes, delete \\n\\n\\\"Accessories\\\". Do you honestly ever use it? If so, it's probably a sign of a \\n\\nlarger productivity problem.) Things which never need to be run manually (like \\n\\nWinZip and Quicktime) are removed from the Programs menu. Maintaining a clean \\n\\nPrograms menu is an ongoing struggle, but well worth it. \\n\\n\\n\\nOn most modern keyboards, there is a key next to your left alt key that opens \\n\\nthe start menu, which you can press with your left thumb without taking your \\n\\nfingers off the home keys. Otherwise ctrl esc always works. Menu 4 gives me a \\n\\nnew command prompt in my work directory. Menu P N runs Netscape 4 (for \\n\\ncompatibility testing in my day job, ugh). Mozilla and Emacs are almost always \\n\\nopen, but I quit lesser-used applications as soon as I'm done using them \\n\\n(mostly because my laptop doesn't have a lot of memory). \\n\\n\\n\\nI install Cygwin[13] so that the command line is actually useful. Cygwin is a \\n\\ncollection of Windows ports of all your favorite UNIX utilities, including mv, \\n\\ncp, scp, ssh, man, tar, less, grep, patch, ncftp, cvs, and many others. And \\n\\nbash, which I don't use because I dislike how it handles Windows pathnames. I \\n\\nalso set the properties of my command line shortcuts to set the window size to \\n\\n120 x 50 (almost full screen at 1024 x 768), and screen buffer size to 120 x \\n\\n3000. Set window position at 0 x 0, and don't let the system position the \\n\\nwindow. \\n\\n\\n\\nIn Mozilla, I set my home page to \\\"about:blank\\\", set Internet Search to search \\n\\nwith Google, use Tabbed Browsing, open tabs instead of windows in all possible \\n\\ncases, always show the tab bar, and load links in the background (essential for \\n\\nweblog surfing, you can ctrl click links to open them in new tabs in the \\n\\nbackground). Under Scripts & Plugins, I do not allow scripts to open \\n\\nunrequested windows. I turn off the sidebar, turn on the Site Navigation Bar, \\n\\ndelete all pre-installed bookmarks, and create two bookmarks: one which takes \\n\\nme to my webmail, and another which takes me to my internal site search[14], \\n\\nfrom which I can find all other bookmarks I need. \\n\\n\\n\\nIn Internet Explorer, I set my home page to the page to edit my weblog, since \\n\\nthat's the only thing I do in Internet Explorer. alt tab back and forth between \\n\\nMozilla and IE is easier than ctrl pgup/pgdown between tabs within Mozilla, \\n\\nsince TEXTAREAs in Mozilla lose focus when you switch tabs, making copying and \\n\\npasting weblog entries virtually impossible. \\n\\n\\n\\nI use Emacs locally and vi remotely, because the default behavior of Emacs is \\n\\nso heinous as to render it unusable. (For instance, editing a CGI script named \\n\\nfoo.cgi on a web server with Emacs would generate a foo.cgi~ backup file, which \\n\\nis world-readable and is sent as plain text to any browser that asks. Try this \\n\\nsometime on your favorite web site.) Among other things, my .emacs file (which \\n\\nis actually called _emacs on Windows) instructs Emacs to store all backup files \\n\\nin a single directory (d:\\\\backup); to treat all XML files as DocBook, all CGI \\n\\nscripts as Python, and all SQL scripts as PL/SQL; to use Cygwin's bash shell \\n\\nfor M-x-shell; to use a single maximized frame with no menubar, titled as the \\n\\nname of the current file; to show column numbers; to accept \\\"y\\\" and \\\"n\\\" for \\n\\nyes/no questions; not to blink; not to beep; and to close the current file when \\n\\nI press M-w. I use some weird registry hacks and a hacked notepad.exe to get \\n\\nall text files to open in Emacs. (I got this idea from Ultraedit[15].) My \\n\\n_emacs file is my second most backed-up possession. \\n\\n\\n\\nI don't use Windows' useless directory structure for user home directories. On \\n\\nmy D drive I have d:\\\\home (contains directories for my books and other personal \\n\\nprojects, each under CVS control&#8212;also set as my home directory using the \\n\\nHOME environment variable), d:\\\\work (contains directories for each work \\n\\nproject, also under CVS), d:\\\\incoming (set as default download directory for \\n\\nall programs that download things), and d:\\\\backup (used by Emacs, and for \\n\\ntemporary storage, for instance for storing originals when checking out newly \\n\\ncreated CVS projects). I don't know or care what's where on my C drive. \\n\\n\\n\\nI have tried many, many address books, and still store all my contacts, email \\n\\naddresses, snail mail addresses, phone numbers, and other vital personal \\n\\ninformation in a text file called phone, stored in d:\\\\home\\\\phone. It is not in \\n\\nany particular format, other than being plain text and usually including blank \\n\\nlines between entries. I categorize people with simple keywords in parentheses \\n\\nafter their name, and use M-x-occur in Emacs to search by keyword. This file is \\n\\nmy single most backed-up possession. \\n\\n\\n\\nOther essential free Windows utilities I use (in no particular order): TweakUI\\n\\n[16], Cygwin[17], Guidescope[18], ZoneAlarm[19].\\n\\n\\n\\n\\n\\n\\n\\n[1]  http://bitworking.org/Oct2002.html#X631695997519494480\\n\\n[2]  http://www.winterspeak.com/columns/082001.html\\n\\n[3]  http://www.annoyances.org/exec/show/article02-013\\n\\n[4]  http://www.mozilla.org/\\n\\n[5]  http://www.gnu.org/software/emacs/windows/ntemacs.html\\n\\n[6]  http://www.activestate.com/Products/ActivePython/\\n\\n[7]  http://www.lavasoftusa.com/\\n\\n[8]  http://www.openoffice.org/\\n\\n[9]  http://sillydog.org/narchive/\\n\\n[10] http://gpoulose.home.att.net/\\n\\n[11] http://www.vmware.com/\\n\\n[12] http://www.openoffice.org/\\n\\n[13] http://www.cygwin.com/\\n\\n[14] http://diveintomark.org/mt/mt-search.cgi\\n\\n[15] http://www.ultraedit.com/downloads/index.html#notepad\\n\\n     Replacing Notepad with Ultraedit-32\\n\\n[16] http://www.microsoft.com/ntworkstation/downloads/PowerToys/Networking/NTTweakUI.asp\\n\\n[17] http://www.cygwin.com/\\n\\n[18] http://www.guidescope.com/\\n\\n[19] http://download.com.com/3000-2092-10039884.html?part=zonealarm&subj=dlpage\\n\\n\\n\\n\\n\",\n          \"Apologies all.  I have comitted a cardinal sin by not specifying that this\\n\\nwas for a windows machine.\\n\\n\\n\\n\\n\\n----- Original Message -----\\n\\nFrom: \\\"Kenn Humborg\\\" <kenn@bluetree.ie>\\n\\nTo: \\\"David Crozier\\\" <davidcrozier@hotmail.com>\\n\\nCc: <ilug@linux.ie>\\n\\nSent: Friday, August 16, 2002 1:51 PM\\n\\nSubject: RE: [ILUG] Autorun CDs\\n\\n\\n\\n\\n\\n> > Cheers All for your words of wisdom.\\n\\n> >\\n\\n> > I came across this which has worked a treat:-\\n\\n> >\\n\\n> > http://www.avdf.com/mar97/art_autorun.html\\n\\n>\\n\\n> (This is all Windows-related autorun stuff).\\n\\n>\\n\\n> So why did you waste the time of those who looked\\n\\n> up Linux-related info for you?  If you said that it\\n\\n> was for Windows, you'd probably have gotten both\\n\\n> more relevant answers and flames for asking this on\\n\\n> a _Linux_ mailing list.\\n\\n>\\n\\n> Sheesh...\\n\\n>\\n\\n> Later,\\n\\n> Kenn\\n\\n>\\n\\n\\n\\n-- \\n\\nIrish Linux Users' Group: ilug@linux.ie\\n\\nhttp://www.linux.ie/mailman/listinfo/ilug for (un)subscription information.\\n\\nList maintainer: listmaster@linux.ie\\n\\n\\n\"\n        ],\n        \"semantic_type\": \"\",\n        \"description\": \"\"\n      }\n    },\n    {\n      \"column\": \"category\",\n      \"properties\": {\n        \"dtype\": \"category\",\n        \"num_unique_values\": 2,\n        \"samples\": [\n          \"spam\",\n          \"not-spam\"\n        ],\n        \"semantic_type\": \"\",\n        \"description\": \"\"\n      }\n    },\n    {\n      \"column\": \"text_cleaned\",\n      \"properties\": {\n        \"dtype\": \"string\",\n        \"num_unique_values\": 3608,\n        \"samples\": [\n          \"see me naked Click Here\\n\",\n          \"Do You Want To Teach and Grow Rich?\\n\\n\\n\\n\\n\\n\\n\\n\\n\\n\\n\\nIf you are a motivated and qualified communicator, I will personally train you to do 3  20 minutes presentations per day to qualify prospects that I can provide to you.  We will demonstrate to you that you can make $400 a day part time using this system.  Or, if you have 20 hours per week, as in my case, you can make in excess of $10,000 per week, as I am currently generating (verifiable, by the way).  \\n\\n\\n\\nPlus I will introduce you to my mentor who makes well in excess of $1,000,000 annually.\\n\\n\\n\\nMany are called, few are chosen.  This opportunity will be limited to one qualified individual per state.  Make the call and call the 24 hour pre-recorded message number below.  We will take as much or as little time as you need to see if this program is right for you.  \\n\\n\\n\\n                          *** 801-397-9010 *** \\n\\n\\n\\nPlease do not make this call unless you are genuinely money motivated and qualified.  I need people who already have people skills in place and have either made large amounts of money in the past or are ready to generate large amounts of money in the future.  Looking forward to your call.    \\n\\n\\n\\n                            *** 801-397-9010 *** \\n\\n\\n\\n\\n\\n\\n\\n\\n\\n\\n\\n\\n\\n\\n\\n\\n\\n\\n\\n\\n\\n\\n\\n\\n\\n\\n\\n\\n\\n\\n\\n\\n\\n_______________________________________________________________ \\n\\n*To be taken out of this database: \\n\\n  secco44@poetic.com  \\n\\n\\n\\n\\n\\n\\n\\n\\n\\n\\n\\n9059Dmel0-270bmbl15\\n\\n5677ZUad6-196gUSL4757Wrmh7-794oPGX9206MkEq3-551QUHl47\\n\\n\\n\"\n        ],\n        \"semantic_type\": \"\",\n        \"description\": \"\"\n      }\n    }\n  ]\n}"
            }
          },
          "metadata": {},
          "execution_count": 13
        }
      ]
    },
    {
      "cell_type": "code",
      "source": [],
      "metadata": {
        "id": "YeO6mb1ySSS1"
      },
      "execution_count": null,
      "outputs": []
    },
    {
      "cell_type": "markdown",
      "source": [
        "### Label Encoder"
      ],
      "metadata": {
        "id": "9disOu73d71k"
      }
    },
    {
      "cell_type": "code",
      "source": [
        "from sklearn import preprocessing"
      ],
      "metadata": {
        "id": "re3wIKaHtDxe"
      },
      "execution_count": null,
      "outputs": []
    },
    {
      "cell_type": "code",
      "source": [
        "le = preprocessing.LabelEncoder()\n",
        "le.fit(df[label_column_name].tolist())\n",
        "df['label'] = le.transform(df[label_column_name].tolist())"
      ],
      "metadata": {
        "id": "amv1wYnqfz44"
      },
      "execution_count": null,
      "outputs": []
    },
    {
      "cell_type": "code",
      "source": [
        "df.head()"
      ],
      "metadata": {
        "id": "ynKkUmJPm_QK",
        "colab": {
          "base_uri": "https://localhost:8080/",
          "height": 206
        },
        "outputId": "4246e08d-bc53-494b-9c1f-c89bcc18604e"
      },
      "execution_count": null,
      "outputs": [
        {
          "output_type": "execute_result",
          "data": {
            "text/plain": [
              "                                               email  category  \\\n",
              "0  URL: http://www.newsisfree.com/click/-1,817167...  not-spam   \n",
              "1  On Thu, 19 Sep 2002, Bill Stoddard wrote:\\n\\n-...  not-spam   \n",
              "2  Dan Kohn <dan@dankohn.com> writes:\\n\\n\\n\\n> Gu...  not-spam   \n",
              "3  wintermute wrote:\\n\\n>>Anyone know where in Ir...  not-spam   \n",
              "4  I attended the same conference, and was impres...  not-spam   \n",
              "\n",
              "                                        text_cleaned  label  \n",
              "0  URL: http://www.newsisfree.com/click/-1,817167...      0  \n",
              "1  On Thu, 19 Sep 2002, Bill Stoddard wrote:\\n\\n-...      0  \n",
              "2  Dan Kohn  writes:\\n\\n\\n\\n> Guys, the Habeas In...      0  \n",
              "3  wintermute wrote:\\n\\n>>Anyone know where in Ir...      0  \n",
              "4  I attended the same conference, and was impres...      0  "
            ],
            "text/html": [
              "\n",
              "  <div id=\"df-593bfb8a-dbcd-4cc0-9f5b-7cb85032d21e\" class=\"colab-df-container\">\n",
              "    <div>\n",
              "<style scoped>\n",
              "    .dataframe tbody tr th:only-of-type {\n",
              "        vertical-align: middle;\n",
              "    }\n",
              "\n",
              "    .dataframe tbody tr th {\n",
              "        vertical-align: top;\n",
              "    }\n",
              "\n",
              "    .dataframe thead th {\n",
              "        text-align: right;\n",
              "    }\n",
              "</style>\n",
              "<table border=\"1\" class=\"dataframe\">\n",
              "  <thead>\n",
              "    <tr style=\"text-align: right;\">\n",
              "      <th></th>\n",
              "      <th>email</th>\n",
              "      <th>category</th>\n",
              "      <th>text_cleaned</th>\n",
              "      <th>label</th>\n",
              "    </tr>\n",
              "  </thead>\n",
              "  <tbody>\n",
              "    <tr>\n",
              "      <th>0</th>\n",
              "      <td>URL: http://www.newsisfree.com/click/-1,817167...</td>\n",
              "      <td>not-spam</td>\n",
              "      <td>URL: http://www.newsisfree.com/click/-1,817167...</td>\n",
              "      <td>0</td>\n",
              "    </tr>\n",
              "    <tr>\n",
              "      <th>1</th>\n",
              "      <td>On Thu, 19 Sep 2002, Bill Stoddard wrote:\\n\\n-...</td>\n",
              "      <td>not-spam</td>\n",
              "      <td>On Thu, 19 Sep 2002, Bill Stoddard wrote:\\n\\n-...</td>\n",
              "      <td>0</td>\n",
              "    </tr>\n",
              "    <tr>\n",
              "      <th>2</th>\n",
              "      <td>Dan Kohn &lt;dan@dankohn.com&gt; writes:\\n\\n\\n\\n&gt; Gu...</td>\n",
              "      <td>not-spam</td>\n",
              "      <td>Dan Kohn  writes:\\n\\n\\n\\n&gt; Guys, the Habeas In...</td>\n",
              "      <td>0</td>\n",
              "    </tr>\n",
              "    <tr>\n",
              "      <th>3</th>\n",
              "      <td>wintermute wrote:\\n\\n&gt;&gt;Anyone know where in Ir...</td>\n",
              "      <td>not-spam</td>\n",
              "      <td>wintermute wrote:\\n\\n&gt;&gt;Anyone know where in Ir...</td>\n",
              "      <td>0</td>\n",
              "    </tr>\n",
              "    <tr>\n",
              "      <th>4</th>\n",
              "      <td>I attended the same conference, and was impres...</td>\n",
              "      <td>not-spam</td>\n",
              "      <td>I attended the same conference, and was impres...</td>\n",
              "      <td>0</td>\n",
              "    </tr>\n",
              "  </tbody>\n",
              "</table>\n",
              "</div>\n",
              "    <div class=\"colab-df-buttons\">\n",
              "\n",
              "  <div class=\"colab-df-container\">\n",
              "    <button class=\"colab-df-convert\" onclick=\"convertToInteractive('df-593bfb8a-dbcd-4cc0-9f5b-7cb85032d21e')\"\n",
              "            title=\"Convert this dataframe to an interactive table.\"\n",
              "            style=\"display:none;\">\n",
              "\n",
              "  <svg xmlns=\"http://www.w3.org/2000/svg\" height=\"24px\" viewBox=\"0 -960 960 960\">\n",
              "    <path d=\"M120-120v-720h720v720H120Zm60-500h600v-160H180v160Zm220 220h160v-160H400v160Zm0 220h160v-160H400v160ZM180-400h160v-160H180v160Zm440 0h160v-160H620v160ZM180-180h160v-160H180v160Zm440 0h160v-160H620v160Z\"/>\n",
              "  </svg>\n",
              "    </button>\n",
              "\n",
              "  <style>\n",
              "    .colab-df-container {\n",
              "      display:flex;\n",
              "      gap: 12px;\n",
              "    }\n",
              "\n",
              "    .colab-df-convert {\n",
              "      background-color: #E8F0FE;\n",
              "      border: none;\n",
              "      border-radius: 50%;\n",
              "      cursor: pointer;\n",
              "      display: none;\n",
              "      fill: #1967D2;\n",
              "      height: 32px;\n",
              "      padding: 0 0 0 0;\n",
              "      width: 32px;\n",
              "    }\n",
              "\n",
              "    .colab-df-convert:hover {\n",
              "      background-color: #E2EBFA;\n",
              "      box-shadow: 0px 1px 2px rgba(60, 64, 67, 0.3), 0px 1px 3px 1px rgba(60, 64, 67, 0.15);\n",
              "      fill: #174EA6;\n",
              "    }\n",
              "\n",
              "    .colab-df-buttons div {\n",
              "      margin-bottom: 4px;\n",
              "    }\n",
              "\n",
              "    [theme=dark] .colab-df-convert {\n",
              "      background-color: #3B4455;\n",
              "      fill: #D2E3FC;\n",
              "    }\n",
              "\n",
              "    [theme=dark] .colab-df-convert:hover {\n",
              "      background-color: #434B5C;\n",
              "      box-shadow: 0px 1px 3px 1px rgba(0, 0, 0, 0.15);\n",
              "      filter: drop-shadow(0px 1px 2px rgba(0, 0, 0, 0.3));\n",
              "      fill: #FFFFFF;\n",
              "    }\n",
              "  </style>\n",
              "\n",
              "    <script>\n",
              "      const buttonEl =\n",
              "        document.querySelector('#df-593bfb8a-dbcd-4cc0-9f5b-7cb85032d21e button.colab-df-convert');\n",
              "      buttonEl.style.display =\n",
              "        google.colab.kernel.accessAllowed ? 'block' : 'none';\n",
              "\n",
              "      async function convertToInteractive(key) {\n",
              "        const element = document.querySelector('#df-593bfb8a-dbcd-4cc0-9f5b-7cb85032d21e');\n",
              "        const dataTable =\n",
              "          await google.colab.kernel.invokeFunction('convertToInteractive',\n",
              "                                                    [key], {});\n",
              "        if (!dataTable) return;\n",
              "\n",
              "        const docLinkHtml = 'Like what you see? Visit the ' +\n",
              "          '<a target=\"_blank\" href=https://colab.research.google.com/notebooks/data_table.ipynb>data table notebook</a>'\n",
              "          + ' to learn more about interactive tables.';\n",
              "        element.innerHTML = '';\n",
              "        dataTable['output_type'] = 'display_data';\n",
              "        await google.colab.output.renderOutput(dataTable, element);\n",
              "        const docLink = document.createElement('div');\n",
              "        docLink.innerHTML = docLinkHtml;\n",
              "        element.appendChild(docLink);\n",
              "      }\n",
              "    </script>\n",
              "  </div>\n",
              "\n",
              "\n",
              "<div id=\"df-683a356c-c2b4-43b9-bcab-389d22cb6dfc\">\n",
              "  <button class=\"colab-df-quickchart\" onclick=\"quickchart('df-683a356c-c2b4-43b9-bcab-389d22cb6dfc')\"\n",
              "            title=\"Suggest charts\"\n",
              "            style=\"display:none;\">\n",
              "\n",
              "<svg xmlns=\"http://www.w3.org/2000/svg\" height=\"24px\"viewBox=\"0 0 24 24\"\n",
              "     width=\"24px\">\n",
              "    <g>\n",
              "        <path d=\"M19 3H5c-1.1 0-2 .9-2 2v14c0 1.1.9 2 2 2h14c1.1 0 2-.9 2-2V5c0-1.1-.9-2-2-2zM9 17H7v-7h2v7zm4 0h-2V7h2v10zm4 0h-2v-4h2v4z\"/>\n",
              "    </g>\n",
              "</svg>\n",
              "  </button>\n",
              "\n",
              "<style>\n",
              "  .colab-df-quickchart {\n",
              "      --bg-color: #E8F0FE;\n",
              "      --fill-color: #1967D2;\n",
              "      --hover-bg-color: #E2EBFA;\n",
              "      --hover-fill-color: #174EA6;\n",
              "      --disabled-fill-color: #AAA;\n",
              "      --disabled-bg-color: #DDD;\n",
              "  }\n",
              "\n",
              "  [theme=dark] .colab-df-quickchart {\n",
              "      --bg-color: #3B4455;\n",
              "      --fill-color: #D2E3FC;\n",
              "      --hover-bg-color: #434B5C;\n",
              "      --hover-fill-color: #FFFFFF;\n",
              "      --disabled-bg-color: #3B4455;\n",
              "      --disabled-fill-color: #666;\n",
              "  }\n",
              "\n",
              "  .colab-df-quickchart {\n",
              "    background-color: var(--bg-color);\n",
              "    border: none;\n",
              "    border-radius: 50%;\n",
              "    cursor: pointer;\n",
              "    display: none;\n",
              "    fill: var(--fill-color);\n",
              "    height: 32px;\n",
              "    padding: 0;\n",
              "    width: 32px;\n",
              "  }\n",
              "\n",
              "  .colab-df-quickchart:hover {\n",
              "    background-color: var(--hover-bg-color);\n",
              "    box-shadow: 0 1px 2px rgba(60, 64, 67, 0.3), 0 1px 3px 1px rgba(60, 64, 67, 0.15);\n",
              "    fill: var(--button-hover-fill-color);\n",
              "  }\n",
              "\n",
              "  .colab-df-quickchart-complete:disabled,\n",
              "  .colab-df-quickchart-complete:disabled:hover {\n",
              "    background-color: var(--disabled-bg-color);\n",
              "    fill: var(--disabled-fill-color);\n",
              "    box-shadow: none;\n",
              "  }\n",
              "\n",
              "  .colab-df-spinner {\n",
              "    border: 2px solid var(--fill-color);\n",
              "    border-color: transparent;\n",
              "    border-bottom-color: var(--fill-color);\n",
              "    animation:\n",
              "      spin 1s steps(1) infinite;\n",
              "  }\n",
              "\n",
              "  @keyframes spin {\n",
              "    0% {\n",
              "      border-color: transparent;\n",
              "      border-bottom-color: var(--fill-color);\n",
              "      border-left-color: var(--fill-color);\n",
              "    }\n",
              "    20% {\n",
              "      border-color: transparent;\n",
              "      border-left-color: var(--fill-color);\n",
              "      border-top-color: var(--fill-color);\n",
              "    }\n",
              "    30% {\n",
              "      border-color: transparent;\n",
              "      border-left-color: var(--fill-color);\n",
              "      border-top-color: var(--fill-color);\n",
              "      border-right-color: var(--fill-color);\n",
              "    }\n",
              "    40% {\n",
              "      border-color: transparent;\n",
              "      border-right-color: var(--fill-color);\n",
              "      border-top-color: var(--fill-color);\n",
              "    }\n",
              "    60% {\n",
              "      border-color: transparent;\n",
              "      border-right-color: var(--fill-color);\n",
              "    }\n",
              "    80% {\n",
              "      border-color: transparent;\n",
              "      border-right-color: var(--fill-color);\n",
              "      border-bottom-color: var(--fill-color);\n",
              "    }\n",
              "    90% {\n",
              "      border-color: transparent;\n",
              "      border-bottom-color: var(--fill-color);\n",
              "    }\n",
              "  }\n",
              "</style>\n",
              "\n",
              "  <script>\n",
              "    async function quickchart(key) {\n",
              "      const quickchartButtonEl =\n",
              "        document.querySelector('#' + key + ' button');\n",
              "      quickchartButtonEl.disabled = true;  // To prevent multiple clicks.\n",
              "      quickchartButtonEl.classList.add('colab-df-spinner');\n",
              "      try {\n",
              "        const charts = await google.colab.kernel.invokeFunction(\n",
              "            'suggestCharts', [key], {});\n",
              "      } catch (error) {\n",
              "        console.error('Error during call to suggestCharts:', error);\n",
              "      }\n",
              "      quickchartButtonEl.classList.remove('colab-df-spinner');\n",
              "      quickchartButtonEl.classList.add('colab-df-quickchart-complete');\n",
              "    }\n",
              "    (() => {\n",
              "      let quickchartButtonEl =\n",
              "        document.querySelector('#df-683a356c-c2b4-43b9-bcab-389d22cb6dfc button');\n",
              "      quickchartButtonEl.style.display =\n",
              "        google.colab.kernel.accessAllowed ? 'block' : 'none';\n",
              "    })();\n",
              "  </script>\n",
              "</div>\n",
              "\n",
              "    </div>\n",
              "  </div>\n"
            ],
            "application/vnd.google.colaboratory.intrinsic+json": {
              "type": "dataframe",
              "variable_name": "df",
              "summary": "{\n  \"name\": \"df\",\n  \"rows\": 3796,\n  \"fields\": [\n    {\n      \"column\": \"email\",\n      \"properties\": {\n        \"dtype\": \"string\",\n        \"num_unique_values\": 3654,\n        \"samples\": [\n          \">>>>> \\\"E\\\" == Eirikur Hallgrimsson <eh@mad.scientist.com> writes:\\n\\n\\n\\n    E> Absolutely, and I've wanted to recapture it.  \\n\\n\\n\\nI don't know about this /particular/ mood, but I have used\\n\\nneuro-conditioning with aiding children in stressful\\n\\nlife-circumstances.\\n\\n\\n\\nBasically, you somehow evoke the state you want, and when you get it,\\n\\nyou do something odd, anything at all will do, but I used a gentle\\n\\n\\\"vulcan grip\\\" on their shoulder.  Later, when faced with the\\n\\nuncomfortable situation, you can retrieve /part/ of that earlier more\\n\\ndesireable state by giving them the pinch; it's not perfect (like you\\n\\nget with simpler brains) but it is an inescapable effect.\\n\\n\\n\\nThis is probably the neuro-effect that leads to performance-enhancing\\n\\nsuperstitions such as Bob Dylan not performing without his favourite\\n\\njean jacket: Because it provides the cue to a more relaxed mental\\n\\nstate, he really does play better with it than without it.\\n\\n\\n\\n-- \\n\\nGary Lawrence Murphy <garym@teledyn.com> TeleDynamics Communications Inc\\n\\n Business Advantage through Community Software : http://www.teledyn.com\\n\\n\\\"Computers are useless.  They can only give you answers.\\\"(Pablo Picasso)\\n\\n\\n\\n\\n\",\n          \"URL: http://diveintomark.org/archives/2002/10/07.html#my_good_easy\\n\\nDate: 2002-10-07T17:59:05-05:00\\n\\n\\n\\n_Joe Gregorio_: My next pet project[1]. &#8220;Trying to re-create the \\\"Good \\n\\nEasy[2]\\\" on a Windows machine.&#8221; I have also made half-hearted attempts in \\n\\nthis direction, as I am forced to use Windows during the day. I say \\n\\nhalf-hearted because I'm still application-centric, and I don't go as far with \\n\\nkeyboard shortcuts as I could. But I don't use the desktop at all (never have, \\n\\non any system), and I don't use ctrl alt keyboard shortcuts because I \\n\\npersonally find them awkward (YMMV). If you must use Windows, the first step \\n\\ntowards a productive system is managing your Start menu. \\n\\n\\n\\nI use the main level of the Start menu with numbered shortcuts to my most \\n\\ncommon programs. \\\"0 Control Panel[3]\\\", \\\"1 Mozilla[4]\\\", \\\"2 Emacs[5]\\\", \\\"3 DOS \\n\\nhome\\\", \\\"4 DOS work\\\", \\\"5 DOS incoming\\\" (each of which gives me a command line, \\n\\nbut in different directories), \\\"7 Python[6]\\\", \\\"9 IE\\\". Also \\\"# Explorer home\\\", \\n\\n\\\"$ Explorer work\\\", \\\"% Explorer incoming\\\", which open Explorer windows in \\n\\nvarious useful directories (the same directories as the DOS shortcuts, only \\n\\nwith the shift key held down, and yes, I intentionally set it up so that $ went \\n\\nto my work folder). Less-used programs are taken out of their useless submenus \\n\\n(as installed) and moved directly into the Programs submenu and given unique \\n\\nfirst letters as needed. \\\"Ad-aware[7]\\\", \\\"Excel[8]\\\", \\\"IM\\\", \\\"Netscape 4[9]\\\", \\n\\n\\\"Paint Shop Pro\\\", \\\"Query Tool (ODBC)[10]\\\", \\\"VMWare[11]\\\", \\\"Word[12]\\\". All other \\n\\nsubmenus except Startup are removed from the Programs menu. (Yes, delete \\n\\n\\\"Accessories\\\". Do you honestly ever use it? If so, it's probably a sign of a \\n\\nlarger productivity problem.) Things which never need to be run manually (like \\n\\nWinZip and Quicktime) are removed from the Programs menu. Maintaining a clean \\n\\nPrograms menu is an ongoing struggle, but well worth it. \\n\\n\\n\\nOn most modern keyboards, there is a key next to your left alt key that opens \\n\\nthe start menu, which you can press with your left thumb without taking your \\n\\nfingers off the home keys. Otherwise ctrl esc always works. Menu 4 gives me a \\n\\nnew command prompt in my work directory. Menu P N runs Netscape 4 (for \\n\\ncompatibility testing in my day job, ugh). Mozilla and Emacs are almost always \\n\\nopen, but I quit lesser-used applications as soon as I'm done using them \\n\\n(mostly because my laptop doesn't have a lot of memory). \\n\\n\\n\\nI install Cygwin[13] so that the command line is actually useful. Cygwin is a \\n\\ncollection of Windows ports of all your favorite UNIX utilities, including mv, \\n\\ncp, scp, ssh, man, tar, less, grep, patch, ncftp, cvs, and many others. And \\n\\nbash, which I don't use because I dislike how it handles Windows pathnames. I \\n\\nalso set the properties of my command line shortcuts to set the window size to \\n\\n120 x 50 (almost full screen at 1024 x 768), and screen buffer size to 120 x \\n\\n3000. Set window position at 0 x 0, and don't let the system position the \\n\\nwindow. \\n\\n\\n\\nIn Mozilla, I set my home page to \\\"about:blank\\\", set Internet Search to search \\n\\nwith Google, use Tabbed Browsing, open tabs instead of windows in all possible \\n\\ncases, always show the tab bar, and load links in the background (essential for \\n\\nweblog surfing, you can ctrl click links to open them in new tabs in the \\n\\nbackground). Under Scripts & Plugins, I do not allow scripts to open \\n\\nunrequested windows. I turn off the sidebar, turn on the Site Navigation Bar, \\n\\ndelete all pre-installed bookmarks, and create two bookmarks: one which takes \\n\\nme to my webmail, and another which takes me to my internal site search[14], \\n\\nfrom which I can find all other bookmarks I need. \\n\\n\\n\\nIn Internet Explorer, I set my home page to the page to edit my weblog, since \\n\\nthat's the only thing I do in Internet Explorer. alt tab back and forth between \\n\\nMozilla and IE is easier than ctrl pgup/pgdown between tabs within Mozilla, \\n\\nsince TEXTAREAs in Mozilla lose focus when you switch tabs, making copying and \\n\\npasting weblog entries virtually impossible. \\n\\n\\n\\nI use Emacs locally and vi remotely, because the default behavior of Emacs is \\n\\nso heinous as to render it unusable. (For instance, editing a CGI script named \\n\\nfoo.cgi on a web server with Emacs would generate a foo.cgi~ backup file, which \\n\\nis world-readable and is sent as plain text to any browser that asks. Try this \\n\\nsometime on your favorite web site.) Among other things, my .emacs file (which \\n\\nis actually called _emacs on Windows) instructs Emacs to store all backup files \\n\\nin a single directory (d:\\\\backup); to treat all XML files as DocBook, all CGI \\n\\nscripts as Python, and all SQL scripts as PL/SQL; to use Cygwin's bash shell \\n\\nfor M-x-shell; to use a single maximized frame with no menubar, titled as the \\n\\nname of the current file; to show column numbers; to accept \\\"y\\\" and \\\"n\\\" for \\n\\nyes/no questions; not to blink; not to beep; and to close the current file when \\n\\nI press M-w. I use some weird registry hacks and a hacked notepad.exe to get \\n\\nall text files to open in Emacs. (I got this idea from Ultraedit[15].) My \\n\\n_emacs file is my second most backed-up possession. \\n\\n\\n\\nI don't use Windows' useless directory structure for user home directories. On \\n\\nmy D drive I have d:\\\\home (contains directories for my books and other personal \\n\\nprojects, each under CVS control&#8212;also set as my home directory using the \\n\\nHOME environment variable), d:\\\\work (contains directories for each work \\n\\nproject, also under CVS), d:\\\\incoming (set as default download directory for \\n\\nall programs that download things), and d:\\\\backup (used by Emacs, and for \\n\\ntemporary storage, for instance for storing originals when checking out newly \\n\\ncreated CVS projects). I don't know or care what's where on my C drive. \\n\\n\\n\\nI have tried many, many address books, and still store all my contacts, email \\n\\naddresses, snail mail addresses, phone numbers, and other vital personal \\n\\ninformation in a text file called phone, stored in d:\\\\home\\\\phone. It is not in \\n\\nany particular format, other than being plain text and usually including blank \\n\\nlines between entries. I categorize people with simple keywords in parentheses \\n\\nafter their name, and use M-x-occur in Emacs to search by keyword. This file is \\n\\nmy single most backed-up possession. \\n\\n\\n\\nOther essential free Windows utilities I use (in no particular order): TweakUI\\n\\n[16], Cygwin[17], Guidescope[18], ZoneAlarm[19].\\n\\n\\n\\n\\n\\n\\n\\n[1]  http://bitworking.org/Oct2002.html#X631695997519494480\\n\\n[2]  http://www.winterspeak.com/columns/082001.html\\n\\n[3]  http://www.annoyances.org/exec/show/article02-013\\n\\n[4]  http://www.mozilla.org/\\n\\n[5]  http://www.gnu.org/software/emacs/windows/ntemacs.html\\n\\n[6]  http://www.activestate.com/Products/ActivePython/\\n\\n[7]  http://www.lavasoftusa.com/\\n\\n[8]  http://www.openoffice.org/\\n\\n[9]  http://sillydog.org/narchive/\\n\\n[10] http://gpoulose.home.att.net/\\n\\n[11] http://www.vmware.com/\\n\\n[12] http://www.openoffice.org/\\n\\n[13] http://www.cygwin.com/\\n\\n[14] http://diveintomark.org/mt/mt-search.cgi\\n\\n[15] http://www.ultraedit.com/downloads/index.html#notepad\\n\\n     Replacing Notepad with Ultraedit-32\\n\\n[16] http://www.microsoft.com/ntworkstation/downloads/PowerToys/Networking/NTTweakUI.asp\\n\\n[17] http://www.cygwin.com/\\n\\n[18] http://www.guidescope.com/\\n\\n[19] http://download.com.com/3000-2092-10039884.html?part=zonealarm&subj=dlpage\\n\\n\\n\\n\\n\",\n          \"Apologies all.  I have comitted a cardinal sin by not specifying that this\\n\\nwas for a windows machine.\\n\\n\\n\\n\\n\\n----- Original Message -----\\n\\nFrom: \\\"Kenn Humborg\\\" <kenn@bluetree.ie>\\n\\nTo: \\\"David Crozier\\\" <davidcrozier@hotmail.com>\\n\\nCc: <ilug@linux.ie>\\n\\nSent: Friday, August 16, 2002 1:51 PM\\n\\nSubject: RE: [ILUG] Autorun CDs\\n\\n\\n\\n\\n\\n> > Cheers All for your words of wisdom.\\n\\n> >\\n\\n> > I came across this which has worked a treat:-\\n\\n> >\\n\\n> > http://www.avdf.com/mar97/art_autorun.html\\n\\n>\\n\\n> (This is all Windows-related autorun stuff).\\n\\n>\\n\\n> So why did you waste the time of those who looked\\n\\n> up Linux-related info for you?  If you said that it\\n\\n> was for Windows, you'd probably have gotten both\\n\\n> more relevant answers and flames for asking this on\\n\\n> a _Linux_ mailing list.\\n\\n>\\n\\n> Sheesh...\\n\\n>\\n\\n> Later,\\n\\n> Kenn\\n\\n>\\n\\n\\n\\n-- \\n\\nIrish Linux Users' Group: ilug@linux.ie\\n\\nhttp://www.linux.ie/mailman/listinfo/ilug for (un)subscription information.\\n\\nList maintainer: listmaster@linux.ie\\n\\n\\n\"\n        ],\n        \"semantic_type\": \"\",\n        \"description\": \"\"\n      }\n    },\n    {\n      \"column\": \"category\",\n      \"properties\": {\n        \"dtype\": \"category\",\n        \"num_unique_values\": 2,\n        \"samples\": [\n          \"spam\",\n          \"not-spam\"\n        ],\n        \"semantic_type\": \"\",\n        \"description\": \"\"\n      }\n    },\n    {\n      \"column\": \"text_cleaned\",\n      \"properties\": {\n        \"dtype\": \"string\",\n        \"num_unique_values\": 3608,\n        \"samples\": [\n          \"see me naked Click Here\\n\",\n          \"Do You Want To Teach and Grow Rich?\\n\\n\\n\\n\\n\\n\\n\\n\\n\\n\\n\\nIf you are a motivated and qualified communicator, I will personally train you to do 3  20 minutes presentations per day to qualify prospects that I can provide to you.  We will demonstrate to you that you can make $400 a day part time using this system.  Or, if you have 20 hours per week, as in my case, you can make in excess of $10,000 per week, as I am currently generating (verifiable, by the way).  \\n\\n\\n\\nPlus I will introduce you to my mentor who makes well in excess of $1,000,000 annually.\\n\\n\\n\\nMany are called, few are chosen.  This opportunity will be limited to one qualified individual per state.  Make the call and call the 24 hour pre-recorded message number below.  We will take as much or as little time as you need to see if this program is right for you.  \\n\\n\\n\\n                          *** 801-397-9010 *** \\n\\n\\n\\nPlease do not make this call unless you are genuinely money motivated and qualified.  I need people who already have people skills in place and have either made large amounts of money in the past or are ready to generate large amounts of money in the future.  Looking forward to your call.    \\n\\n\\n\\n                            *** 801-397-9010 *** \\n\\n\\n\\n\\n\\n\\n\\n\\n\\n\\n\\n\\n\\n\\n\\n\\n\\n\\n\\n\\n\\n\\n\\n\\n\\n\\n\\n\\n\\n\\n\\n\\n\\n_______________________________________________________________ \\n\\n*To be taken out of this database: \\n\\n  secco44@poetic.com  \\n\\n\\n\\n\\n\\n\\n\\n\\n\\n\\n\\n9059Dmel0-270bmbl15\\n\\n5677ZUad6-196gUSL4757Wrmh7-794oPGX9206MkEq3-551QUHl47\\n\\n\\n\"\n        ],\n        \"semantic_type\": \"\",\n        \"description\": \"\"\n      }\n    },\n    {\n      \"column\": \"label\",\n      \"properties\": {\n        \"dtype\": \"number\",\n        \"std\": 0,\n        \"min\": 0,\n        \"max\": 1,\n        \"num_unique_values\": 2,\n        \"samples\": [\n          1,\n          0\n        ],\n        \"semantic_type\": \"\",\n        \"description\": \"\"\n      }\n    }\n  ]\n}"
            }
          },
          "metadata": {},
          "execution_count": 16
        }
      ]
    },
    {
      "cell_type": "code",
      "source": [],
      "metadata": {
        "id": "rtnQUM6aSXR6"
      },
      "execution_count": null,
      "outputs": []
    },
    {
      "cell_type": "markdown",
      "source": [
        "### Train/Test Split"
      ],
      "metadata": {
        "id": "5ZNeKpd-nn9Q"
      }
    },
    {
      "cell_type": "code",
      "source": [
        "from sklearn.model_selection import train_test_split"
      ],
      "metadata": {
        "id": "_jkZmwCDs9t9"
      },
      "execution_count": null,
      "outputs": []
    },
    {
      "cell_type": "code",
      "source": [
        "df_train,df_test = train_test_split(df,test_size=test_size)"
      ],
      "metadata": {
        "id": "uKluSPhCfOj6"
      },
      "execution_count": null,
      "outputs": []
    },
    {
      "cell_type": "code",
      "source": [],
      "metadata": {
        "id": "mgJCB840wp0B"
      },
      "execution_count": null,
      "outputs": []
    },
    {
      "cell_type": "markdown",
      "source": [
        "### Convert to Huggingface Dataset"
      ],
      "metadata": {
        "id": "L1JyZmufFzl1"
      }
    },
    {
      "cell_type": "code",
      "source": [
        "from datasets import Dataset"
      ],
      "metadata": {
        "id": "WXtRtb-6tG2Y"
      },
      "execution_count": null,
      "outputs": []
    },
    {
      "cell_type": "code",
      "source": [
        "train_dataset = Dataset.from_pandas(df_train)\n",
        "test_dataset = Dataset.from_pandas(df_test)"
      ],
      "metadata": {
        "id": "tG9-ZMjTd7p0"
      },
      "execution_count": null,
      "outputs": []
    },
    {
      "cell_type": "code",
      "source": [],
      "metadata": {
        "id": "wvxREpO3cQaN"
      },
      "execution_count": null,
      "outputs": []
    },
    {
      "cell_type": "markdown",
      "source": [
        "### Tokenizer"
      ],
      "metadata": {
        "id": "zyEUYtjVF6Pz"
      }
    },
    {
      "cell_type": "code",
      "source": [
        "from transformers import AutoTokenizer"
      ],
      "metadata": {
        "id": "E31UUF53svVw"
      },
      "execution_count": null,
      "outputs": []
    },
    {
      "cell_type": "code",
      "source": [
        "tokenizer = AutoTokenizer.from_pretrained(model_name)\n",
        "\n",
        "def preprocess_function(examples):\n",
        "    return tokenizer(examples[\"text_cleaned\"], truncation=True)"
      ],
      "metadata": {
        "id": "bBkVtFI6cQXO",
        "colab": {
          "base_uri": "https://localhost:8080/",
          "height": 269,
          "referenced_widgets": [
            "cc0cd211527c45c2a0c4edb53d9c8bd8",
            "f00bb35cf905482fab2d755c61d8e5e7",
            "db8c4cbb9d3c4dfb9088acf36e670777",
            "a752ae2215d9495d96676631da229d3b",
            "6595508c98c1493684e39a84c15da835",
            "18b63e0338ea44e4bb9ed9d0c64c5b28",
            "e504660be0f745d9aa1b47e69ab60daa",
            "bfcb8a02a0914f2faa33d7c9d52b5862",
            "a70a65935e06499eb99369b77c40670b",
            "f194412b45cc4fb6ab1ee68b78ecd8c1",
            "6dba4829919f4574bd4c2d6308ecb62f",
            "eaf41a1464684693abd2a995716f3ba9",
            "9cd29d921f1240aa929564c6f4bd5015",
            "56459e491e6647eebce5225f1b1e5eec",
            "0168b53d116546cf8d3ccf015691a758",
            "5e0f1036184040cd83ce1aec962c449c",
            "07314acaaac54f62af717aadd6542b3c",
            "a51a8fb804e943278d9f51b1652c3f47",
            "9dbf7f8dcb704b34917cb05319757fd6",
            "5cc8a5c90fef48419974fe9646e7d1f3",
            "76cf38e5a7634572b9402d101c11d19f",
            "5ea425a192b747819e57356445f9c91e",
            "0d1dddf4ec384839a895f0d52c9be468",
            "f8bfd8940c4b473faa963e294fdb1308",
            "2319d470d37b46a4a92a1eacb0e42ed1",
            "042a1c3365324a4e8215197dca22ef16",
            "43565a0e30164f79b3444e0d17ab880f",
            "515a0a965a1f4e169c5d9193599aa30d",
            "e6f689deacb1433fb740afe381fc0739",
            "273fe237d9d943daa7874b6b67cd0daf",
            "023e80acfbbb49d2825eadeda634f4e1",
            "f444947841b34de58b660ffc6f34a5d4",
            "e92f53584cea494aaa92c67816fa86fa",
            "d34d54a9738c4e4c9225cd1bbcb7394d",
            "fb9f81059beb42ca9a032a4e34557256",
            "74a92b4eb3e7416aa5fbac8183ece8dc",
            "21f18593cc8c4a62a17aea6403126faa",
            "81d09f9b677244169b0e76244f256221",
            "44796b96ce6f45248c7f6da59d4ab5a3",
            "8351a641844f43aaba801a6350b1052e",
            "9fd8b651f4aa410e963b14631b16e249",
            "fb202ee1b4bb483c94f6ecec2c481bfd",
            "f20f5f7484af4126a14030089c63bf1b",
            "0e5e8642488c4ce28213be6a8a68d9ec"
          ]
        },
        "outputId": "75e15c11-0645-40d9-edca-7f703f451489"
      },
      "execution_count": null,
      "outputs": [
        {
          "output_type": "stream",
          "name": "stderr",
          "text": [
            "/usr/local/lib/python3.11/dist-packages/huggingface_hub/utils/_auth.py:94: UserWarning: \n",
            "The secret `HF_TOKEN` does not exist in your Colab secrets.\n",
            "To authenticate with the Hugging Face Hub, create a token in your settings tab (https://huggingface.co/settings/tokens), set it as secret in your Google Colab and restart your session.\n",
            "You will be able to reuse this secret in all of your notebooks.\n",
            "Please note that authentication is recommended but still optional to access public models or datasets.\n",
            "  warnings.warn(\n"
          ]
        },
        {
          "output_type": "display_data",
          "data": {
            "text/plain": [
              "tokenizer_config.json:   0%|          | 0.00/48.0 [00:00<?, ?B/s]"
            ],
            "application/vnd.jupyter.widget-view+json": {
              "version_major": 2,
              "version_minor": 0,
              "model_id": "cc0cd211527c45c2a0c4edb53d9c8bd8"
            }
          },
          "metadata": {}
        },
        {
          "output_type": "display_data",
          "data": {
            "text/plain": [
              "config.json:   0%|          | 0.00/483 [00:00<?, ?B/s]"
            ],
            "application/vnd.jupyter.widget-view+json": {
              "version_major": 2,
              "version_minor": 0,
              "model_id": "eaf41a1464684693abd2a995716f3ba9"
            }
          },
          "metadata": {}
        },
        {
          "output_type": "display_data",
          "data": {
            "text/plain": [
              "vocab.txt:   0%|          | 0.00/232k [00:00<?, ?B/s]"
            ],
            "application/vnd.jupyter.widget-view+json": {
              "version_major": 2,
              "version_minor": 0,
              "model_id": "0d1dddf4ec384839a895f0d52c9be468"
            }
          },
          "metadata": {}
        },
        {
          "output_type": "display_data",
          "data": {
            "text/plain": [
              "tokenizer.json:   0%|          | 0.00/466k [00:00<?, ?B/s]"
            ],
            "application/vnd.jupyter.widget-view+json": {
              "version_major": 2,
              "version_minor": 0,
              "model_id": "d34d54a9738c4e4c9225cd1bbcb7394d"
            }
          },
          "metadata": {}
        }
      ]
    },
    {
      "cell_type": "code",
      "source": [
        "tokenized_train = train_dataset.map(preprocess_function, batched=True)"
      ],
      "metadata": {
        "id": "TphCc-8ln8ft",
        "colab": {
          "base_uri": "https://localhost:8080/",
          "height": 49,
          "referenced_widgets": [
            "fded566223ff4be98125a6f2be3730a8",
            "7b4dfccb29204a2e9fe4af4bf6b14284",
            "fe5bd40ad92d4fd99024cbc6d57a60fb",
            "f3c13171335f4243bd29fb4beadd1c61",
            "b48bf146ce544e0e9fb55bcd5f00d11e",
            "fc1d5244e4524128b1407eec187da595",
            "6735bbf0deed45c083b03bfe4bcb73cd",
            "8d7916d31d9d487ba705edd5ced1ac79",
            "cc7e6dbdec684d8eae5cdf58b0ad1a50",
            "3138e3010ecf4a1eb41e76569bdcc699",
            "7d3e7964574a490fb0522b696ae83b68"
          ]
        },
        "outputId": "30ae264c-27d0-4734-b99d-ca75119181ba"
      },
      "execution_count": null,
      "outputs": [
        {
          "output_type": "display_data",
          "data": {
            "text/plain": [
              "Map:   0%|          | 0/3036 [00:00<?, ? examples/s]"
            ],
            "application/vnd.jupyter.widget-view+json": {
              "version_major": 2,
              "version_minor": 0,
              "model_id": "fded566223ff4be98125a6f2be3730a8"
            }
          },
          "metadata": {}
        }
      ]
    },
    {
      "cell_type": "code",
      "source": [
        "tokenized_test = test_dataset.map(preprocess_function, batched=True)"
      ],
      "metadata": {
        "id": "1acJjcYVhhOD",
        "colab": {
          "base_uri": "https://localhost:8080/",
          "height": 49,
          "referenced_widgets": [
            "642fe7a3e5c5421cb9f5b4f882b4d392",
            "03400a9d205643cdb6b951fef6c2127f",
            "6cd86e75947042878fb317aa10a23e23",
            "925cf625e93546adb209ac25bd3232e4",
            "c7a449ebb6ad490c93e65c15b577933e",
            "cbbf24d8a0404867aa5bb2b99c986bca",
            "0c4536b4056c44758095209962956b21",
            "8a47576afa254aaab65bf209f2a94f30",
            "0e2aec2ac96344e6a2a43f1a0e1a5672",
            "ef85ae297bd9469090ef5e9f2481d7ce",
            "410167f5248f44acacd6a93ef9147645"
          ]
        },
        "outputId": "80d7729e-8ebc-4e8f-b99c-b6db81e5a9a2"
      },
      "execution_count": null,
      "outputs": [
        {
          "output_type": "display_data",
          "data": {
            "text/plain": [
              "Map:   0%|          | 0/760 [00:00<?, ? examples/s]"
            ],
            "application/vnd.jupyter.widget-view+json": {
              "version_major": 2,
              "version_minor": 0,
              "model_id": "642fe7a3e5c5421cb9f5b4f882b4d392"
            }
          },
          "metadata": {}
        }
      ]
    },
    {
      "cell_type": "code",
      "source": [],
      "metadata": {
        "id": "o-XKHYRmkUxJ"
      },
      "execution_count": null,
      "outputs": []
    },
    {
      "cell_type": "markdown",
      "source": [
        "# 3. Initialize Model"
      ],
      "metadata": {
        "id": "Mi0rbO65GA0J"
      }
    },
    {
      "cell_type": "code",
      "source": [
        "from transformers import AutoModelForSequenceClassification"
      ],
      "metadata": {
        "id": "oEDGToKksr88"
      },
      "execution_count": null,
      "outputs": []
    },
    {
      "cell_type": "code",
      "source": [
        "model = AutoModelForSequenceClassification.from_pretrained(model_name, num_labels=2)"
      ],
      "metadata": {
        "colab": {
          "base_uri": "https://localhost:8080/",
          "height": 104,
          "referenced_widgets": [
            "9e052db54c334ab7bb0519065640d58e",
            "78610dca01ed4f9cb60681e06e2a5200",
            "7534e51c3dac4bfe847311b23ab2aa42",
            "c5dd084a5d794ff8a849d3dd59e48e06",
            "dd54d78d6bff4c38b1c4a5de77ed1324",
            "95c7a5d4162d49b6a5e302c790b0f368",
            "19d3190127fe49f3b85e5d0ec36c33f9",
            "4d325e141456417aae04bb3bec1be6cb",
            "e82a3ea1ed054df6a1065b44bfe2f7d8",
            "a0a6895ae9df498fb150be5cf3693995",
            "c3ef669816d041eab251a835996e4168"
          ]
        },
        "id": "PHe02h-2iJXa",
        "outputId": "ff087e5f-1d95-44f1-81b8-7332fa20e737"
      },
      "execution_count": null,
      "outputs": [
        {
          "output_type": "display_data",
          "data": {
            "text/plain": [
              "model.safetensors:   0%|          | 0.00/268M [00:00<?, ?B/s]"
            ],
            "application/vnd.jupyter.widget-view+json": {
              "version_major": 2,
              "version_minor": 0,
              "model_id": "9e052db54c334ab7bb0519065640d58e"
            }
          },
          "metadata": {}
        },
        {
          "output_type": "stream",
          "name": "stderr",
          "text": [
            "Some weights of DistilBertForSequenceClassification were not initialized from the model checkpoint at distilbert-base-uncased and are newly initialized: ['classifier.bias', 'classifier.weight', 'pre_classifier.bias', 'pre_classifier.weight']\n",
            "You should probably TRAIN this model on a down-stream task to be able to use it for predictions and inference.\n"
          ]
        }
      ]
    },
    {
      "cell_type": "code",
      "source": [],
      "metadata": {
        "id": "_KsJ8sMQiNAP"
      },
      "execution_count": null,
      "outputs": []
    },
    {
      "cell_type": "markdown",
      "source": [
        "# 4. Train model"
      ],
      "metadata": {
        "id": "u2HA56SgiX7F"
      }
    },
    {
      "cell_type": "code",
      "source": [
        "from transformers import DataCollatorWithPadding\n",
        "from transformers import TrainingArguments, Trainer\n",
        "import evaluate\n",
        "import numpy as np"
      ],
      "metadata": {
        "id": "fCASZfttsyy0"
      },
      "execution_count": null,
      "outputs": []
    },
    {
      "cell_type": "code",
      "source": [
        "data_collator = DataCollatorWithPadding(tokenizer=tokenizer)"
      ],
      "metadata": {
        "id": "wMyay2U3iJZ7"
      },
      "execution_count": null,
      "outputs": []
    },
    {
      "cell_type": "code",
      "source": [
        "metric = evaluate.load(\"accuracy\")\n",
        "\n",
        "def compute_metrics(eval_pred):\n",
        "    logits, labels = eval_pred\n",
        "    predictions = np.argmax(logits, axis=-1)\n",
        "    return metric.compute(predictions=predictions, references=labels)"
      ],
      "metadata": {
        "id": "TSOJ9Z_4YrMc",
        "colab": {
          "base_uri": "https://localhost:8080/",
          "height": 49,
          "referenced_widgets": [
            "aeef33563c4246febac76630d0c217e3",
            "b3617eba582e48afa2926543c98bd8c9",
            "30240f5ec7884db4b38cb6331031cc48",
            "148e969b88e34842a7c1fe39a6650b0a",
            "d4753cd5c1c54ca797adaa3a8e316964",
            "546787a3811245958bdf2294ec28b80d",
            "9d503a7bf52743fa8b68148f02ae0400",
            "2db03dd9e9cf48e999ef020d66202c51",
            "a811a026a8424a1584c69424d8d49079",
            "749e8d90b3824e8ca5d4ea8580a43146",
            "cd23e879eb5a4884822aaea6bcaad092"
          ]
        },
        "outputId": "b35b02dd-4161-40f9-8d05-e0fd517950d8"
      },
      "execution_count": null,
      "outputs": [
        {
          "output_type": "display_data",
          "data": {
            "text/plain": [
              "Downloading builder script:   0%|          | 0.00/4.20k [00:00<?, ?B/s]"
            ],
            "application/vnd.jupyter.widget-view+json": {
              "version_major": 2,
              "version_minor": 0,
              "model_id": "aeef33563c4246febac76630d0c217e3"
            }
          },
          "metadata": {}
        }
      ]
    },
    {
      "cell_type": "code",
      "source": [
        "training_args = TrainingArguments(\n",
        "    output_dir=\"./results\",\n",
        "    learning_rate=2e-4,\n",
        "    per_device_train_batch_size=8,\n",
        "    per_device_eval_batch_size=8,\n",
        "    num_train_epochs=5,\n",
        "    weight_decay=0.01,\n",
        "    evaluation_strategy = \"epoch\",\n",
        "    logging_strategy=\"epoch\"\n",
        ")\n",
        "\n",
        "trainer = Trainer(\n",
        "    model=model,\n",
        "    args=training_args,\n",
        "    train_dataset=tokenized_train,\n",
        "    eval_dataset=tokenized_test,\n",
        "    tokenizer=tokenizer,\n",
        "    data_collator=data_collator,\n",
        "    compute_metrics=compute_metrics\n",
        "\n",
        ")\n"
      ],
      "metadata": {
        "id": "UNs2yNXei6oO",
        "colab": {
          "base_uri": "https://localhost:8080/"
        },
        "outputId": "9b44e855-06bb-4eab-e30d-47862b25c04e"
      },
      "execution_count": null,
      "outputs": [
        {
          "output_type": "stream",
          "name": "stderr",
          "text": [
            "/usr/local/lib/python3.11/dist-packages/transformers/training_args.py:1575: FutureWarning: `evaluation_strategy` is deprecated and will be removed in version 4.46 of 🤗 Transformers. Use `eval_strategy` instead\n",
            "  warnings.warn(\n",
            "<ipython-input-30-64a322c73718>:12: FutureWarning: `tokenizer` is deprecated and will be removed in version 5.0.0 for `Trainer.__init__`. Use `processing_class` instead.\n",
            "  trainer = Trainer(\n"
          ]
        }
      ]
    },
    {
      "cell_type": "code",
      "source": [],
      "metadata": {
        "id": "La0bxXdFazag"
      },
      "execution_count": null,
      "outputs": []
    },
    {
      "cell_type": "code",
      "source": [
        "trainer.train()"
      ],
      "metadata": {
        "colab": {
          "base_uri": "https://localhost:8080/",
          "height": 547
        },
        "id": "emZZhxQiiZsH",
        "outputId": "e16609e8-350f-4622-f7b4-e307a49f0dca"
      },
      "execution_count": null,
      "outputs": [
        {
          "output_type": "stream",
          "name": "stderr",
          "text": [
            "\u001b[34m\u001b[1mwandb\u001b[0m: \u001b[33mWARNING\u001b[0m The `run_name` is currently set to the same value as `TrainingArguments.output_dir`. If this was not intended, please specify a different run name by setting the `TrainingArguments.run_name` parameter.\n"
          ]
        },
        {
          "output_type": "display_data",
          "data": {
            "text/plain": [
              "<IPython.core.display.Javascript object>"
            ],
            "application/javascript": [
              "\n",
              "        window._wandbApiKey = new Promise((resolve, reject) => {\n",
              "            function loadScript(url) {\n",
              "            return new Promise(function(resolve, reject) {\n",
              "                let newScript = document.createElement(\"script\");\n",
              "                newScript.onerror = reject;\n",
              "                newScript.onload = resolve;\n",
              "                document.body.appendChild(newScript);\n",
              "                newScript.src = url;\n",
              "            });\n",
              "            }\n",
              "            loadScript(\"https://cdn.jsdelivr.net/npm/postmate/build/postmate.min.js\").then(() => {\n",
              "            const iframe = document.createElement('iframe')\n",
              "            iframe.style.cssText = \"width:0;height:0;border:none\"\n",
              "            document.body.appendChild(iframe)\n",
              "            const handshake = new Postmate({\n",
              "                container: iframe,\n",
              "                url: 'https://wandb.ai/authorize'\n",
              "            });\n",
              "            const timeout = setTimeout(() => reject(\"Couldn't auto authenticate\"), 5000)\n",
              "            handshake.then(function(child) {\n",
              "                child.on('authorize', data => {\n",
              "                    clearTimeout(timeout)\n",
              "                    resolve(data)\n",
              "                });\n",
              "            });\n",
              "            })\n",
              "        });\n",
              "    "
            ]
          },
          "metadata": {}
        },
        {
          "output_type": "stream",
          "name": "stderr",
          "text": [
            "\u001b[34m\u001b[1mwandb\u001b[0m: Logging into wandb.ai. (Learn how to deploy a W&B server locally: https://wandb.me/wandb-server)\n",
            "\u001b[34m\u001b[1mwandb\u001b[0m: You can find your API key in your browser here: https://wandb.ai/authorize\n",
            "wandb: Paste an API key from your profile and hit enter:"
          ]
        },
        {
          "name": "stdout",
          "output_type": "stream",
          "text": [
            " ··········\n"
          ]
        },
        {
          "output_type": "stream",
          "name": "stderr",
          "text": [
            "\u001b[34m\u001b[1mwandb\u001b[0m: \u001b[33mWARNING\u001b[0m If you're specifying your api key in code, ensure this code is not shared publicly.\n",
            "\u001b[34m\u001b[1mwandb\u001b[0m: \u001b[33mWARNING\u001b[0m Consider setting the WANDB_API_KEY environment variable, or running `wandb login` from the command line.\n",
            "\u001b[34m\u001b[1mwandb\u001b[0m: Appending key for api.wandb.ai to your netrc file: /root/.netrc\n",
            "\u001b[34m\u001b[1mwandb\u001b[0m: Currently logged in as: \u001b[33msamirman-0009\u001b[0m (\u001b[33msamirman-0009-university-of-liberal-arts-bangladesh\u001b[0m) to \u001b[32mhttps://api.wandb.ai\u001b[0m. Use \u001b[1m`wandb login --relogin`\u001b[0m to force relogin\n",
            "\u001b[34m\u001b[1mwandb\u001b[0m: Using wandb-core as the SDK backend.  Please refer to https://wandb.me/wandb-core for more information.\n"
          ]
        },
        {
          "output_type": "display_data",
          "data": {
            "text/plain": [
              "<IPython.core.display.HTML object>"
            ],
            "text/html": [
              "Tracking run with wandb version 0.19.6"
            ]
          },
          "metadata": {}
        },
        {
          "output_type": "display_data",
          "data": {
            "text/plain": [
              "<IPython.core.display.HTML object>"
            ],
            "text/html": [
              "Run data is saved locally in <code>/content/wandb/run-20250222_200024-vcb13ksm</code>"
            ]
          },
          "metadata": {}
        },
        {
          "output_type": "display_data",
          "data": {
            "text/plain": [
              "<IPython.core.display.HTML object>"
            ],
            "text/html": [
              "Syncing run <strong><a href='https://wandb.ai/samirman-0009-university-of-liberal-arts-bangladesh/huggingface/runs/vcb13ksm' target=\"_blank\">./results</a></strong> to <a href='https://wandb.ai/samirman-0009-university-of-liberal-arts-bangladesh/huggingface' target=\"_blank\">Weights & Biases</a> (<a href='https://wandb.me/developer-guide' target=\"_blank\">docs</a>)<br>"
            ]
          },
          "metadata": {}
        },
        {
          "output_type": "display_data",
          "data": {
            "text/plain": [
              "<IPython.core.display.HTML object>"
            ],
            "text/html": [
              " View project at <a href='https://wandb.ai/samirman-0009-university-of-liberal-arts-bangladesh/huggingface' target=\"_blank\">https://wandb.ai/samirman-0009-university-of-liberal-arts-bangladesh/huggingface</a>"
            ]
          },
          "metadata": {}
        },
        {
          "output_type": "display_data",
          "data": {
            "text/plain": [
              "<IPython.core.display.HTML object>"
            ],
            "text/html": [
              " View run at <a href='https://wandb.ai/samirman-0009-university-of-liberal-arts-bangladesh/huggingface/runs/vcb13ksm' target=\"_blank\">https://wandb.ai/samirman-0009-university-of-liberal-arts-bangladesh/huggingface/runs/vcb13ksm</a>"
            ]
          },
          "metadata": {}
        },
        {
          "output_type": "display_data",
          "data": {
            "text/plain": [
              "<IPython.core.display.HTML object>"
            ],
            "text/html": [
              "\n",
              "    <div>\n",
              "      \n",
              "      <progress value='1900' max='1900' style='width:300px; height:20px; vertical-align: middle;'></progress>\n",
              "      [1900/1900 13:08, Epoch 5/5]\n",
              "    </div>\n",
              "    <table border=\"1\" class=\"dataframe\">\n",
              "  <thead>\n",
              " <tr style=\"text-align: left;\">\n",
              "      <th>Epoch</th>\n",
              "      <th>Training Loss</th>\n",
              "      <th>Validation Loss</th>\n",
              "      <th>Accuracy</th>\n",
              "    </tr>\n",
              "  </thead>\n",
              "  <tbody>\n",
              "    <tr>\n",
              "      <td>1</td>\n",
              "      <td>0.182600</td>\n",
              "      <td>0.072750</td>\n",
              "      <td>0.986842</td>\n",
              "    </tr>\n",
              "    <tr>\n",
              "      <td>2</td>\n",
              "      <td>0.061200</td>\n",
              "      <td>0.082226</td>\n",
              "      <td>0.989474</td>\n",
              "    </tr>\n",
              "    <tr>\n",
              "      <td>3</td>\n",
              "      <td>0.011400</td>\n",
              "      <td>0.049409</td>\n",
              "      <td>0.994737</td>\n",
              "    </tr>\n",
              "    <tr>\n",
              "      <td>4</td>\n",
              "      <td>0.001100</td>\n",
              "      <td>0.119458</td>\n",
              "      <td>0.986842</td>\n",
              "    </tr>\n",
              "    <tr>\n",
              "      <td>5</td>\n",
              "      <td>0.010100</td>\n",
              "      <td>0.064088</td>\n",
              "      <td>0.990789</td>\n",
              "    </tr>\n",
              "  </tbody>\n",
              "</table><p>"
            ]
          },
          "metadata": {}
        },
        {
          "output_type": "execute_result",
          "data": {
            "text/plain": [
              "TrainOutput(global_step=1900, training_loss=0.05328332155942917, metrics={'train_runtime': 907.8893, 'train_samples_per_second': 16.72, 'train_steps_per_second': 2.093, 'total_flos': 1988178348790656.0, 'train_loss': 0.05328332155942917, 'epoch': 5.0})"
            ]
          },
          "metadata": {},
          "execution_count": 31
        }
      ]
    },
    {
      "cell_type": "code",
      "source": [],
      "metadata": {
        "id": "I4NqQazDiZp4"
      },
      "execution_count": null,
      "outputs": []
    },
    {
      "cell_type": "code",
      "source": [
        "trainer.save_model('spam_model')"
      ],
      "metadata": {
        "id": "YDFUsLWfiM-P"
      },
      "execution_count": null,
      "outputs": []
    },
    {
      "cell_type": "code",
      "source": [],
      "metadata": {
        "id": "U8OCXpcdsEPU"
      },
      "execution_count": null,
      "outputs": []
    },
    {
      "cell_type": "markdown",
      "source": [
        "# 5. Evaluate Model"
      ],
      "metadata": {
        "id": "gqZbK3pior3b"
      }
    },
    {
      "cell_type": "code",
      "source": [
        "from sklearn.metrics import classification_report"
      ],
      "metadata": {
        "id": "H_4rf_8OtA7n"
      },
      "execution_count": null,
      "outputs": []
    },
    {
      "cell_type": "code",
      "source": [
        "preds = trainer.predict(tokenized_train)\n",
        "preds = np.argmax(preds[:3][0],axis=1)\n",
        "GT = df_train['label'].tolist()\n",
        "print(classification_report(GT,preds))"
      ],
      "metadata": {
        "colab": {
          "base_uri": "https://localhost:8080/",
          "height": 173
        },
        "id": "CLDc2nFAsENk",
        "outputId": "f9f66b38-14f4-4875-ce9e-c91031c752f7"
      },
      "execution_count": null,
      "outputs": [
        {
          "output_type": "display_data",
          "data": {
            "text/plain": [
              "<IPython.core.display.HTML object>"
            ],
            "text/html": []
          },
          "metadata": {}
        },
        {
          "output_type": "stream",
          "name": "stdout",
          "text": [
            "              precision    recall  f1-score   support\n",
            "\n",
            "           0       1.00      1.00      1.00      1511\n",
            "           1       1.00      1.00      1.00      1525\n",
            "\n",
            "    accuracy                           1.00      3036\n",
            "   macro avg       1.00      1.00      1.00      3036\n",
            "weighted avg       1.00      1.00      1.00      3036\n",
            "\n"
          ]
        }
      ]
    },
    {
      "cell_type": "code",
      "source": [],
      "metadata": {
        "id": "jXO8wmpNsiM2"
      },
      "execution_count": null,
      "outputs": []
    },
    {
      "cell_type": "code",
      "source": [
        "preds = trainer.predict(tokenized_test)\n",
        "preds = np.argmax(preds[:3][0],axis=1) #preds[:3][1]\n",
        "GT = df_test['label'].tolist()\n",
        "print(classification_report(GT,preds))"
      ],
      "metadata": {
        "colab": {
          "base_uri": "https://localhost:8080/",
          "height": 173
        },
        "id": "OIMu476_cZGn",
        "outputId": "783dc442-3bd9-450e-b2c9-82e587afa928"
      },
      "execution_count": null,
      "outputs": [
        {
          "output_type": "display_data",
          "data": {
            "text/plain": [
              "<IPython.core.display.HTML object>"
            ],
            "text/html": []
          },
          "metadata": {}
        },
        {
          "output_type": "stream",
          "name": "stdout",
          "text": [
            "              precision    recall  f1-score   support\n",
            "\n",
            "           0       0.99      0.99      0.99       389\n",
            "           1       0.99      0.99      0.99       371\n",
            "\n",
            "    accuracy                           0.99       760\n",
            "   macro avg       0.99      0.99      0.99       760\n",
            "weighted avg       0.99      0.99      0.99       760\n",
            "\n"
          ]
        }
      ]
    },
    {
      "cell_type": "code",
      "source": [],
      "metadata": {
        "id": "uhqP5LYnXMyo"
      },
      "execution_count": null,
      "outputs": []
    }
  ]
}